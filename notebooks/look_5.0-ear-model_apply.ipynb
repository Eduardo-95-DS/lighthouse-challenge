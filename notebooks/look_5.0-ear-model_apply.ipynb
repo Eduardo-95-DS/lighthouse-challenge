{
 "cells": [
  {
   "cell_type": "markdown",
   "id": "8bb26484-7b5c-4c4b-885a-680d0f35da33",
   "metadata": {
    "jp-MarkdownHeadingCollapsed": true
   },
   "source": [
    "# **0.1 Imports**"
   ]
  },
  {
   "cell_type": "code",
   "execution_count": 2,
   "id": "ac1fbace-ae55-432e-bad1-0e3d6c4e598b",
   "metadata": {
    "execution": {
     "iopub.execute_input": "2024-02-22T17:36:47.256287Z",
     "iopub.status.busy": "2024-02-22T17:36:47.255227Z",
     "iopub.status.idle": "2024-02-22T17:36:51.997287Z",
     "shell.execute_reply": "2024-02-22T17:36:51.995485Z",
     "shell.execute_reply.started": "2024-02-22T17:36:47.256224Z"
    }
   },
   "outputs": [],
   "source": [
    "import pandas as pd\n",
    "import numpy as np\n",
    "import seaborn as sns\n",
    "import folium\n",
    "from folium.plugins import MarkerCluster\n",
    "import plotly.express as px \n",
    "import plotly.graph_objects as go\n",
    "from plotly.subplots import make_subplots\n",
    "from IPython.display       import Image\n",
    "from matplotlib            import rcParams\n",
    "import matplotlib.pyplot   as plt\n",
    "\n",
    "import scipy.stats             as ss\n",
    "from scipy.stats               import chi2_contingency \n",
    "import statsmodels.api         as sm\n",
    "from category_encoders         import TargetEncoder\n",
    "from fast_ml.model_development import train_valid_test_split\n",
    "from sklearn.metrics           import mean_absolute_error, mean_squared_error,make_scorer, mean_absolute_percentage_error\n",
    "from sklearn.model_selection   import cross_val_predict, KFold, cross_val_score, GridSearchCV\n",
    "from sklearn.preprocessing     import RobustScaler,MinMaxScaler,LabelEncoder\n",
    "from sklearn.linear_model      import LinearRegression, Lasso\n",
    "from sklearn.cluster           import AgglomerativeClustering, KMeans\n",
    "from sklearn.ensemble          import RandomForestRegressor,RandomForestClassifier\n",
    "from sklearn                   import mixture       as mx\n",
    "from sklearn                   import ensemble         as en\n",
    "from sklearn.feature_extraction.text import CountVectorizer\n",
    "from xgboost                   import XGBRegressor\n",
    "from catboost                  import CatBoostRegressor\n",
    "import optuna\n",
    "import pickle"
   ]
  },
  {
   "cell_type": "markdown",
   "id": "d6934a6c-43fa-47f8-a7c5-de505777ef0d",
   "metadata": {},
   "source": [
    "## **0.1.1 Helper functions**"
   ]
  },
  {
   "cell_type": "code",
   "execution_count": 6,
   "id": "a35ce12d-23c5-4849-9d30-88e355e54ea0",
   "metadata": {
    "execution": {
     "iopub.execute_input": "2024-02-22T17:38:41.391446Z",
     "iopub.status.busy": "2024-02-22T17:38:41.390818Z",
     "iopub.status.idle": "2024-02-22T17:38:41.429705Z",
     "shell.execute_reply": "2024-02-22T17:38:41.427881Z",
     "shell.execute_reply.started": "2024-02-22T17:38:41.391386Z"
    }
   },
   "outputs": [],
   "source": [
    "def mean_absolute_percentage_error_func(y, yhat):\n",
    "    mask = y != 0\n",
    "    return np.mean(np.abs(np.where(mask, (y - yhat) / y, 0)))\n",
    "\n",
    "def mae_scorer(y_true, y_pred):\n",
    "    return -mean_absolute_error(y_true, y_pred)  # Negativo porque cross_val_score espera escores mais altos\n",
    "\n",
    "def mape_scorer(y_true, y_pred):\n",
    "    return -np.mean(np.abs((y_true - y_pred) / y_true))\n",
    "\n",
    "def mape_scorer(y_true, y_pred):\n",
    "    mask = y_true != 0  # Cria uma máscara para evitar divisão por zero\n",
    "    y_true_masked = y_true[mask]\n",
    "    y_pred_masked = y_pred[mask]\n",
    "\n",
    "    if len(y_true_masked) == 0:\n",
    "        # Caso não haja valores diferentes de zero, retorne 0 (ou outro valor apropriado)\n",
    "        return 0.0\n",
    "\n",
    "    return -np.mean(np.abs((y_true_masked - y_pred_masked) / y_true_masked))\n",
    "\n",
    "def rmse_scorer(y_true, y_pred):\n",
    "    return -np.sqrt(mean_squared_error(y_true, y_pred))\n",
    "\n",
    "def calculate_cramers_v_matrix(dataframe):\n",
    "    cols = dataframe.columns\n",
    "    cramers_v_matrix = pd.DataFrame(index=cols, columns=cols, dtype=float)\n",
    "\n",
    "    for i in range(len(cols)):\n",
    "        for j in range(len(cols)):\n",
    "            if i == j:\n",
    "                cramers_v_matrix.iloc[i, j] = 1.0\n",
    "            else:\n",
    "                cramers_v = calculate_cramers_v(dataframe[cols[i]], dataframe[cols[j]])\n",
    "                cramers_v_matrix.iloc[i, j] = cramers_v\n",
    "                cramers_v_matrix.iloc[j, i] = cramers_v\n",
    "\n",
    "    return cramers_v_matrix\n",
    "\n",
    "def calculate_cramers_v(var1, var2):\n",
    "    contingency_table = pd.crosstab(var1, var2)\n",
    "    \n",
    "    chi2, _, _, _ = chi2_contingency(contingency_table)\n",
    "    n = contingency_table.sum().sum()\n",
    "    phi2 = chi2 / n\n",
    "    r, k = contingency_table.shape\n",
    "    phi2corr = max(0, phi2 - ((k-1)*(r-1))/(n-1))\n",
    "    rcorr = r - ((r-1)**2)/(n-1)\n",
    "    kcorr = k - ((k-1)**2)/(n-1)\n",
    "    \n",
    "    return np.sqrt(phi2corr / min((kcorr-1), (rcorr-1)))\n",
    "\n",
    "def count_words (list):\n",
    "    # Crie um objeto CountVectorizer\n",
    "    vectorizer = CountVectorizer()\n",
    "    \n",
    "    # Ajuste e transforme os dados 'nome' usando o vetorizador\n",
    "    X = vectorizer.fit_transform(list['nome'])\n",
    "    \n",
    "    # Obtenha os nomes das features (palavras)\n",
    "    feature_names = vectorizer.get_feature_names_out()\n",
    "    \n",
    "    # Crie um DataFrame com as palavras e suas contagens\n",
    "    word_counts = pd.DataFrame({\n",
    "        'palavra': feature_names,\n",
    "        'contagem': X.toarray().sum(axis=0)\n",
    "    })\n",
    "    \n",
    "    # Ordene o DataFrame pelas contagens em ordem decrescente\n",
    "    word_counts = word_counts.sort_values('contagem', ascending=False)\n",
    "    \n",
    "    return word_counts\n",
    "\n",
    "\n",
    "high_price = ['townhouse', 'luxury','hidde2','penthouse', 'chelsea', 'superbowl',\n",
    "                     'suite', 'soho', 'duplex', 'events', 'tribeca', 'film',\n",
    "                     'service', 'tower', 'beekman', '3br', 'terrace']\n",
    "\n",
    "low_price=['1br','harlem','br' , 'near','bushwick', 'harlem','close', 'subway', \n",
    "       'train','bushwick', 'shared', 'subway', 'train', 'close', 'jfk',\n",
    "       'heights', 'comfortable', 'lga', 'queens']\n",
    "\n",
    "def categorize_listing(row):\n",
    "    if row['bairro_group'] == 'Manhattan' and row['room_type'] == 'Entire home/apt' and any(keyword in row['nome'] for keyword in high_price):\n",
    "        return 'classy'\n",
    "    elif row['bairro_group'] in ['Queens', 'Bronx'] and row['room_type'] in ['Private room', 'Shared room'] and any(keyword in row['nome'] for keyword in low_price):\n",
    "        return 'simple'\n",
    "    else:\n",
    "        return 'normal'\n",
    "\n",
    "\n",
    "def haversine_distance(df, lat_d, lon_d):\n",
    "    lat_p, lon_p = df['latitude'], df['longitude']\n",
    "    radius = 6371 # km\n",
    "\n",
    "    dlat = np.radians(lat_d - lat_p)\n",
    "    dlon = np.radians(lon_d - lon_p)\n",
    "    a = np.sin(dlat/2) * np.sin(dlat/2) + np.cos(np.radians(lat_p)) * np.cos(np.radians(lat_d)) * np.sin(dlon/2) * np.sin(dlon/2)\n",
    "    c = 2 * np.arctan2(np.sqrt(a), np.sqrt(1-a))\n",
    "    distance = radius * c\n",
    "\n",
    "    return distance\n",
    "\n",
    "def mean_percentage_error(y,yhat):\n",
    "    return np.mean((y-yhat)/y)\n",
    "\n",
    "def filter_mean(df,bairro_group,bairro,room_type):\n",
    "    filter = (df['bairro_group'] == bairro_group) & (df['bairro'] == bairro) & (df['room_type'] == room_type)\n",
    "    aux = df[filter]\n",
    "\n",
    "    # Calculando a média de preço\n",
    "    mean = aux['price'].mean()\n",
    "    return round(mean)"
   ]
  },
  {
   "cell_type": "markdown",
   "id": "694edf42-4c2d-4945-8078-fc520af4ec90",
   "metadata": {},
   "source": [
    "# **Training**"
   ]
  },
  {
   "cell_type": "code",
   "execution_count": 14,
   "id": "e3efa9a3-0708-4a72-9f11-6d0f7332caba",
   "metadata": {
    "execution": {
     "iopub.execute_input": "2024-02-22T17:44:07.642214Z",
     "iopub.status.busy": "2024-02-22T17:44:07.639769Z",
     "iopub.status.idle": "2024-02-22T17:44:16.825342Z",
     "shell.execute_reply": "2024-02-22T17:44:16.823445Z",
     "shell.execute_reply.started": "2024-02-22T17:44:07.642142Z"
    }
   },
   "outputs": [
    {
     "data": {
      "text/html": [
       "<div>\n",
       "<style scoped>\n",
       "    .dataframe tbody tr th:only-of-type {\n",
       "        vertical-align: middle;\n",
       "    }\n",
       "\n",
       "    .dataframe tbody tr th {\n",
       "        vertical-align: top;\n",
       "    }\n",
       "\n",
       "    .dataframe thead th {\n",
       "        text-align: right;\n",
       "    }\n",
       "</style>\n",
       "<table border=\"1\" class=\"dataframe\">\n",
       "  <thead>\n",
       "    <tr style=\"text-align: right;\">\n",
       "      <th></th>\n",
       "      <th>Model Name</th>\n",
       "      <th>MAE</th>\n",
       "      <th>MAPE</th>\n",
       "      <th>RMSE</th>\n",
       "    </tr>\n",
       "  </thead>\n",
       "  <tbody>\n",
       "    <tr>\n",
       "      <th>0</th>\n",
       "      <td>CatBoost</td>\n",
       "      <td>52.313421</td>\n",
       "      <td>0.304406</td>\n",
       "      <td>244.42243</td>\n",
       "    </tr>\n",
       "  </tbody>\n",
       "</table>\n",
       "</div>"
      ],
      "text/plain": [
       "  Model Name        MAE      MAPE       RMSE\n",
       "0   CatBoost  52.313421  0.304406  244.42243"
      ]
     },
     "execution_count": 14,
     "metadata": {},
     "output_type": "execute_result"
    }
   ],
   "source": [
    "df_raw=pd.read_csv('../datasets/raw.csv')\n",
    "\n",
    "def train_results(df):\n",
    "\n",
    "    df=df_raw.copy()\n",
    "    \n",
    "    x_train, y_train, x_val, y_val, x_test, y_test = train_valid_test_split(df, \n",
    "                                                            target = 'price', \n",
    "                                                            train_size=0.8, valid_size=0.1, test_size=0.1,\n",
    "                                                            random_state=42)\n",
    "\n",
    "    df = pd.concat ([x_train, y_train], axis=1).reset_index(drop=True) \n",
    "\n",
    "    # change types\n",
    "    df['ultima_review'] = pd.to_datetime(df['ultima_review'])\n",
    "    x_val['ultima_review'] = pd.to_datetime(x_val['ultima_review'])\n",
    "\n",
    "    # nas\n",
    "    df['reviews_por_mes'] = np.where(df['reviews_por_mes'].isna(), 0, df['reviews_por_mes'])\n",
    "    x_val['reviews_por_mes'] = np.where(x_val['reviews_por_mes'].isna(), 0, x_val['reviews_por_mes'])\n",
    "    \n",
    "    cols = ['nome','host_name']\n",
    "    df[cols] = np.where(df[cols].isna(), 'desconhecido', df[cols])\n",
    "    x_val[cols] = np.where(x_val[cols].isna(), 'desconhecido', x_val[cols])\n",
    "\n",
    "    # feature creation\n",
    "    # category\n",
    "    df['category'] = df.apply(categorize_listing, axis=1)\n",
    "    x_val['category'] = x_val.apply(categorize_listing, axis=1)\n",
    "\n",
    "    # ultima review\n",
    "    # preenchendo nans com um dia depois da última data do dataset \n",
    "    df['ultima_review'] = df['ultima_review'].fillna('2019-07-09')\n",
    "    x_val['ultima_review'] = x_val['ultima_review'].fillna('2019-07-09')  \n",
    "    # calculando a diferença de dias desde o dia mais recente até a última review\n",
    "    ref_date = pd.to_datetime('2019-07-09')\n",
    "    df['ultima_review'] = (df['ultima_review'] - ref_date).dt.days * -1\n",
    "    x_val['ultima_review'] = (x_val['ultima_review'] - ref_date).dt.days * -1\n",
    "\n",
    "    # filtrando outlier do price\n",
    "    df=df[df['price']<5000]\n",
    "\n",
    "    # substituindo price igual 0 por médias\n",
    "    mean1=filter_mean(df,'Brooklyn','Bushwick','Shared room')\n",
    "    mean2=filter_mean(df,'Brooklyn','Williamsburg','Entire home/apt')\n",
    "    mean3=filter_mean(df,'Brooklyn','Bedford-Stuyvesant','Private room')\n",
    "    mean4=filter_mean(df,'Bronx','East Morrisania','Private room')\n",
    "    mean5=filter_mean(df,'Brooklyn','Bedford-Stuyvesant','Private room')\n",
    "    mean6=filter_mean(df,'Brooklyn','Greenpoint','Private room')\n",
    "    mean7=filter_mean(df,'Manhattan','Murray Hill','Entire home/apt')\n",
    "    \n",
    "    df['price'] = np.where(df['id'] == 21291569, mean1, df['price'])\n",
    "    df['price'] = np.where(df['id'] == 20624541, mean2, df['price'])\n",
    "    df['price'] = np.where(df['id'] == 20639914, mean3, df['price'])\n",
    "    df['price'] = np.where(df['id'] == 20333471, mean4, df['price'])\n",
    "    df['price'] = np.where(df['id'] == 20639792, mean5, df['price'])\n",
    "    df['price'] = np.where(df['id'] == 20639628, mean5, df['price'])\n",
    "    df['price'] = np.where(df['id'] == 18750597, mean5, df['price'])\n",
    "    df['price'] = np.where(df['id'] == 20608117, mean6, df['price'])\n",
    "    df['price'] = np.where(df['id'] == 20933849, mean7, df['price'])\n",
    "\n",
    "    # data preparation\n",
    "    x_train=df.drop(['price'],axis=1)\n",
    "    y_train=df['price']\n",
    "\n",
    "    # reescala\n",
    "    y_train=np.log1p(y_train) \n",
    "    y_val=np.log1p(y_val)\n",
    "\n",
    "    # bairro_group\n",
    "    te = TargetEncoder(cols=['bairro_group'])\n",
    "    x_train = te.fit_transform(x_train, y_train)\n",
    "    x_val = te.transform(x_val)\n",
    "    \n",
    "    # bairro\n",
    "    te = TargetEncoder(cols=['bairro'])\n",
    "    x_train = te.fit_transform(x_train, y_train)\n",
    "    x_val = te.transform(x_val)\n",
    "\n",
    "    # room_type\n",
    "    te = TargetEncoder(cols=['room_type'])\n",
    "    x_train = te.fit_transform(x_train, y_train)\n",
    "    x_val = te.transform(x_val)\n",
    "    \n",
    "    # category\n",
    "    te = TargetEncoder(cols=['category'])\n",
    "    x_train = te.fit_transform(x_train, y_train)\n",
    "    x_val = te.transform(x_val)\n",
    "\n",
    "    # feature selection\n",
    "    X_train=x_train[['bairro', 'bairro_group','ultima_review',\n",
    "       'minimo_noites', 'numero_de_reviews', 'calculado_host_listings_count',\n",
    "       'disponibilidade_365', 'latitude','longitude', 'category',\n",
    "       'room_type']]\n",
    "    \n",
    "    X_val=x_val[['bairro', 'bairro_group','ultima_review',\n",
    "       'minimo_noites', 'numero_de_reviews', 'calculado_host_listings_count',\n",
    "       'disponibilidade_365', 'latitude','longitude', 'category',\n",
    "       'room_type']]\n",
    "\n",
    "    # model definition and training\n",
    "    cat=CatBoostRegressor(logging_level='Silent').fit(X_train,y_train)\n",
    "    \n",
    "    # prediction\n",
    "    cat_yhat=cat.predict(X_val)\n",
    "    \n",
    "    mae_cat = mean_absolute_error(np.expm1(y_val), np.expm1(cat_yhat))\n",
    "    mape_cat = mean_absolute_percentage_error_func(np.expm1(y_val), np.expm1(cat_yhat))\n",
    "    mse_cat = mean_squared_error(np.expm1(y_val), np.expm1(cat_yhat))\n",
    "    rmse_cat = np.sqrt(mse_cat)\n",
    "\n",
    "    \n",
    "    final_result_cat = pd.DataFrame({'Model Name': 'CatBoost',\n",
    "                           'MAE': mae_cat,\n",
    "                           'MAPE': mape_cat,\n",
    "                           'RMSE': rmse_cat}, index=[0])\n",
    "    \n",
    "    return final_result_cat\n",
    "\n",
    "result = train_results(df_raw)\n",
    "result"
   ]
  },
  {
   "cell_type": "markdown",
   "id": "35bd850a-0be4-4f9e-9ee2-d0319a002abe",
   "metadata": {},
   "source": [
    "# **Cross-validation**"
   ]
  },
  {
   "cell_type": "code",
   "execution_count": 15,
   "id": "13434a14-8bd2-4109-b9d8-fdcc66577be9",
   "metadata": {
    "execution": {
     "iopub.execute_input": "2024-02-22T17:47:11.312054Z",
     "iopub.status.busy": "2024-02-22T17:47:11.309909Z",
     "iopub.status.idle": "2024-02-22T17:47:44.401623Z",
     "shell.execute_reply": "2024-02-22T17:47:44.400391Z",
     "shell.execute_reply.started": "2024-02-22T17:47:11.311925Z"
    }
   },
   "outputs": [
    {
     "data": {
      "text/html": [
       "<div>\n",
       "<style scoped>\n",
       "    .dataframe tbody tr th:only-of-type {\n",
       "        vertical-align: middle;\n",
       "    }\n",
       "\n",
       "    .dataframe tbody tr th {\n",
       "        vertical-align: top;\n",
       "    }\n",
       "\n",
       "    .dataframe thead th {\n",
       "        text-align: right;\n",
       "    }\n",
       "</style>\n",
       "<table border=\"1\" class=\"dataframe\">\n",
       "  <thead>\n",
       "    <tr style=\"text-align: right;\">\n",
       "      <th></th>\n",
       "      <th>Model Name</th>\n",
       "      <th>MAE</th>\n",
       "      <th>MAPE</th>\n",
       "      <th>RMSE</th>\n",
       "    </tr>\n",
       "  </thead>\n",
       "  <tbody>\n",
       "    <tr>\n",
       "      <th>0</th>\n",
       "      <td>CatBoost CV</td>\n",
       "      <td>53.207368</td>\n",
       "      <td>0.316628</td>\n",
       "      <td>152.662339</td>\n",
       "    </tr>\n",
       "  </tbody>\n",
       "</table>\n",
       "</div>"
      ],
      "text/plain": [
       "    Model Name        MAE      MAPE        RMSE\n",
       "0  CatBoost CV  53.207368  0.316628  152.662339"
      ]
     },
     "execution_count": 15,
     "metadata": {},
     "output_type": "execute_result"
    }
   ],
   "source": [
    "df_raw=pd.read_csv('../datasets/raw.csv')\n",
    "\n",
    "def cv_results(df):\n",
    "\n",
    "    df=df_raw.copy()\n",
    "    \n",
    "    x_train, y_train, x_val, y_val, x_test, y_test = train_valid_test_split(df, \n",
    "                                                            target = 'price', \n",
    "                                                            train_size=0.8, valid_size=0.1, test_size=0.1,\n",
    "                                                            random_state=42)\n",
    "\n",
    "    df = pd.concat ([x_train, y_train], axis=1).reset_index(drop=True) \n",
    "\n",
    "    # change types\n",
    "    df['ultima_review'] = pd.to_datetime(df['ultima_review'])\n",
    "    x_val['ultima_review'] = pd.to_datetime(x_val['ultima_review'])\n",
    "\n",
    "    # nas\n",
    "    df['reviews_por_mes'] = np.where(df['reviews_por_mes'].isna(), 0, df['reviews_por_mes'])\n",
    "    x_val['reviews_por_mes'] = np.where(x_val['reviews_por_mes'].isna(), 0, x_val['reviews_por_mes'])\n",
    "    \n",
    "    cols = ['nome','host_name']\n",
    "    df[cols] = np.where(df[cols].isna(), 'desconhecido', df[cols])\n",
    "    x_val[cols] = np.where(x_val[cols].isna(), 'desconhecido', x_val[cols])\n",
    "\n",
    "    # feature creation\n",
    "    # category\n",
    "    df['category'] = df.apply(categorize_listing, axis=1)\n",
    "    x_val['category'] = x_val.apply(categorize_listing, axis=1)\n",
    "\n",
    "    # ultima review\n",
    "    # preenchendo nans com um dia depois da última data do dataset \n",
    "    df['ultima_review'] = df['ultima_review'].fillna('2019-07-09')\n",
    "    x_val['ultima_review'] = x_val['ultima_review'].fillna('2019-07-09')  \n",
    "    # calculando a diferença de dias desde o dia mais recente até a última review\n",
    "    ref_date = pd.to_datetime('2019-07-09')\n",
    "    df['ultima_review'] = (df['ultima_review'] - ref_date).dt.days * -1\n",
    "    x_val['ultima_review'] = (x_val['ultima_review'] - ref_date).dt.days * -1\n",
    "\n",
    "    # filtrando outlier do price\n",
    "    df=df[df['price']<5000]\n",
    "\n",
    "    # substituindo price igual 0 por médias\n",
    "    mean1=filter_mean(df,'Brooklyn','Bushwick','Shared room')\n",
    "    mean2=filter_mean(df,'Brooklyn','Williamsburg','Entire home/apt')\n",
    "    mean3=filter_mean(df,'Brooklyn','Bedford-Stuyvesant','Private room')\n",
    "    mean4=filter_mean(df,'Bronx','East Morrisania','Private room')\n",
    "    mean5=filter_mean(df,'Brooklyn','Bedford-Stuyvesant','Private room')\n",
    "    mean6=filter_mean(df,'Brooklyn','Greenpoint','Private room')\n",
    "    mean7=filter_mean(df,'Manhattan','Murray Hill','Entire home/apt')\n",
    "    \n",
    "    df['price'] = np.where(df['id'] == 21291569, mean1, df['price'])\n",
    "    df['price'] = np.where(df['id'] == 20624541, mean2, df['price'])\n",
    "    df['price'] = np.where(df['id'] == 20639914, mean3, df['price'])\n",
    "    df['price'] = np.where(df['id'] == 20333471, mean4, df['price'])\n",
    "    df['price'] = np.where(df['id'] == 20639792, mean5, df['price'])\n",
    "    df['price'] = np.where(df['id'] == 20639628, mean5, df['price'])\n",
    "    df['price'] = np.where(df['id'] == 18750597, mean5, df['price'])\n",
    "    df['price'] = np.where(df['id'] == 20608117, mean6, df['price'])\n",
    "    df['price'] = np.where(df['id'] == 20933849, mean7, df['price'])\n",
    "\n",
    "    # data preparation\n",
    "    x_train=df.drop(['price'],axis=1)\n",
    "    y_train=df['price']\n",
    "\n",
    "    # reescala\n",
    "    y_train=np.log1p(y_train) \n",
    "    y_val=np.log1p(y_val)\n",
    "\n",
    "    # bairro_group\n",
    "    te = TargetEncoder(cols=['bairro_group'])\n",
    "    x_train = te.fit_transform(x_train, y_train)\n",
    "    x_val = te.transform(x_val)\n",
    "    \n",
    "    # bairro\n",
    "    te = TargetEncoder(cols=['bairro'])\n",
    "    x_train = te.fit_transform(x_train, y_train)\n",
    "    x_val = te.transform(x_val)\n",
    "\n",
    "    # room_type\n",
    "    te = TargetEncoder(cols=['room_type'])\n",
    "    x_train = te.fit_transform(x_train, y_train)\n",
    "    x_val = te.transform(x_val)\n",
    "    \n",
    "    # category\n",
    "    te = TargetEncoder(cols=['category'])\n",
    "    x_train = te.fit_transform(x_train, y_train)\n",
    "    x_val = te.transform(x_val)\n",
    "\n",
    "    # feature selection\n",
    "    X_train=x_train[['bairro', 'bairro_group','ultima_review',\n",
    "       'minimo_noites', 'numero_de_reviews', 'calculado_host_listings_count',\n",
    "       'disponibilidade_365', 'latitude','longitude', 'category',\n",
    "       'room_type']]\n",
    "    \n",
    "    X_val=x_val[['bairro', 'bairro_group','ultima_review',\n",
    "       'minimo_noites', 'numero_de_reviews', 'calculado_host_listings_count',\n",
    "       'disponibilidade_365', 'latitude','longitude', 'category',\n",
    "       'room_type']]\n",
    "\n",
    "    # model definition \n",
    "    cat_cv=CatBoostRegressor(logging_level='Silent')\n",
    "\n",
    "    # kfolds\n",
    "    kf = KFold(n_splits=5, shuffle=True, random_state=42)\n",
    "\n",
    "    # prediction\n",
    "    y_pred_log = cross_val_predict(cat_cv, X_train, y_train, cv=kf)\n",
    "\n",
    "    y_train_original = np.expm1(y_train)\n",
    "    y_pred_original = np.expm1(y_pred_log)\n",
    "    \n",
    "    mae_cat_cv = mean_absolute_error(y_train_original, y_pred_original)\n",
    "    mape_cat_cv = mean_absolute_percentage_error_func(y_train_original, y_pred_original)\n",
    "    rmse_cat_cv = np.sqrt(mean_squared_error(y_train_original, y_pred_original))\n",
    "    \n",
    "    std_mae = np.std(-mae_cat_cv)\n",
    "    std_mape = np.std(-mape_cat_cv)\n",
    "    std_rmse = np.std(-rmse_cat_cv)\n",
    "    \n",
    "    result_cat_cv = pd.DataFrame({'Model Name': 'CatBoost CV',\n",
    "                                  'MAE': mae_cat_cv,\n",
    "                                  'MAPE': mape_cat_cv,\n",
    "                                  'RMSE': rmse_cat_cv}, index=[0])\n",
    "    \n",
    "    result_cat_cv\n",
    "    \n",
    "    return result_cat_cv\n",
    "\n",
    "result = cv_results(df_raw)\n",
    "result"
   ]
  },
  {
   "cell_type": "markdown",
   "id": "629fc4a9-29b1-4a59-a561-615b5cf9083b",
   "metadata": {
    "execution": {
     "iopub.execute_input": "2024-02-14T18:52:08.138000Z",
     "iopub.status.busy": "2024-02-14T18:52:08.136976Z",
     "iopub.status.idle": "2024-02-14T18:52:08.143641Z",
     "shell.execute_reply": "2024-02-14T18:52:08.141984Z",
     "shell.execute_reply.started": "2024-02-14T18:52:08.137925Z"
    }
   },
   "source": [
    "# **Test prediction**"
   ]
  },
  {
   "cell_type": "code",
   "execution_count": 25,
   "id": "f4f204ab-242f-468d-ad6f-e34257fe0ce3",
   "metadata": {
    "execution": {
     "iopub.execute_input": "2024-02-22T17:59:32.152325Z",
     "iopub.status.busy": "2024-02-22T17:59:32.151189Z",
     "iopub.status.idle": "2024-02-22T17:59:32.637641Z",
     "shell.execute_reply": "2024-02-22T17:59:32.636516Z",
     "shell.execute_reply.started": "2024-02-22T17:59:32.152261Z"
    }
   },
   "outputs": [
    {
     "data": {
      "text/html": [
       "<div>\n",
       "<style scoped>\n",
       "    .dataframe tbody tr th:only-of-type {\n",
       "        vertical-align: middle;\n",
       "    }\n",
       "\n",
       "    .dataframe tbody tr th {\n",
       "        vertical-align: top;\n",
       "    }\n",
       "\n",
       "    .dataframe thead th {\n",
       "        text-align: right;\n",
       "    }\n",
       "</style>\n",
       "<table border=\"1\" class=\"dataframe\">\n",
       "  <thead>\n",
       "    <tr style=\"text-align: right;\">\n",
       "      <th></th>\n",
       "      <th>Model Name</th>\n",
       "      <th>MAE</th>\n",
       "      <th>MAPE</th>\n",
       "      <th>RMSE</th>\n",
       "    </tr>\n",
       "  </thead>\n",
       "  <tbody>\n",
       "    <tr>\n",
       "      <th>0</th>\n",
       "      <td>CatBoost</td>\n",
       "      <td>51.78667</td>\n",
       "      <td>0.30798</td>\n",
       "      <td>159.667159</td>\n",
       "    </tr>\n",
       "  </tbody>\n",
       "</table>\n",
       "</div>"
      ],
      "text/plain": [
       "  Model Name       MAE     MAPE        RMSE\n",
       "0   CatBoost  51.78667  0.30798  159.667159"
      ]
     },
     "execution_count": 25,
     "metadata": {},
     "output_type": "execute_result"
    }
   ],
   "source": [
    "df_raw=pd.read_csv('../datasets/raw.csv')\n",
    "\n",
    "model=pickle.load(open('../model/model_lighthouse.pkl','rb'))\n",
    "target_bairro=pickle.load (open('../parameters/target_bairro.pkl','rb'))\n",
    "target_category=pickle.load (open('../parameters/target_category.pkl','rb'))\n",
    "target_room_type=pickle.load (open('../parameters/target_room_type.pkl','rb'))\n",
    "target_bairro_group=pickle.load (open('../parameters/target_bairro_group.pkl','rb'))\n",
    "\n",
    "def test_results(df):\n",
    "\n",
    "    df=df_raw.copy()\n",
    "    \n",
    "    x_train, y_train, x_val, y_val, x_test, y_test = train_valid_test_split(df, \n",
    "                                                            target = 'price', \n",
    "                                                            train_size=0.8, valid_size=0.1, test_size=0.1,\n",
    "                                                            random_state=42)\n",
    "\n",
    "    # change types\n",
    "    x_test['ultima_review'] = pd.to_datetime(x_test['ultima_review'])\n",
    "\n",
    "    # nas\n",
    "    x_test['reviews_por_mes'] = np.where(x_test['reviews_por_mes'].isna(), 0, x_test['reviews_por_mes'])\n",
    "\n",
    "    cols = ['nome','host_name']\n",
    "    x_test[cols] = np.where(x_test[cols].isna(), 'desconhecido', x_test[cols])\n",
    "\n",
    "    # feature creation\n",
    "    # category\n",
    "    x_test['category'] = x_test.apply(categorize_listing, axis=1)\n",
    "\n",
    "    # ultima review\n",
    "    # preenchendo nans com um dia depois da última data do dataset  \n",
    "    x_test['ultima_review'] = x_test['ultima_review'].fillna('2019-07-09')  \n",
    "    # calculando a diferença de dias desde o dia mais recente até a última review\n",
    "    ref_date = pd.to_datetime('2019-07-09')\n",
    "    x_test['ultima_review'] = (x_test['ultima_review'] - ref_date).dt.days * -1\n",
    "\n",
    "    # data preparation\n",
    "    # rescaling\n",
    "    y_test=np.log1p(y_test)\n",
    "\n",
    "    # encoders  \n",
    "    x_test=target_bairro.transform(x_test)\n",
    "    x_test=target_category.transform(x_test)\n",
    "    x_test=target_room_type.transform(x_test)\n",
    "    x_test=target_bairro_group.transform(x_test)\n",
    "\n",
    "    # feature selection\n",
    "    X_test=x_test[['bairro', 'bairro_group','ultima_review',\n",
    "       'minimo_noites', 'numero_de_reviews', 'calculado_host_listings_count',\n",
    "       'disponibilidade_365', 'latitude','longitude', 'category',\n",
    "       'room_type']]\n",
    "\n",
    "    # prediction\n",
    "    cat_yhat=model.predict(X_test)\n",
    "\n",
    "    mae_cat = mean_absolute_error(np.expm1(y_test), np.expm1(cat_yhat))\n",
    "    mape_cat = mean_absolute_percentage_error_func(np.expm1(y_test), np.expm1(cat_yhat))\n",
    "    mse_cat = mean_squared_error(np.expm1(y_test), np.expm1(cat_yhat))\n",
    "    rmse_cat = np.sqrt(mse_cat)\n",
    "    \n",
    "    final_result_cat = pd.DataFrame({'Model Name': 'CatBoost',\n",
    "                           'MAE': mae_cat,\n",
    "                           'MAPE': mape_cat,\n",
    "                           'RMSE': rmse_cat}, index=[0])\n",
    "    \n",
    "    return final_result_cat, x_test, y_test, cat_yhat\n",
    "    \n",
    "result, x_test, y_test, cat_yhat = test_results(df_raw)\n",
    "result"
   ]
  },
  {
   "cell_type": "markdown",
   "id": "aa0200df-f7e0-45c6-879a-1daa473b9883",
   "metadata": {
    "jp-MarkdownHeadingCollapsed": true
   },
   "source": [
    "# **Error translation and interpretation**"
   ]
  },
  {
   "cell_type": "code",
   "execution_count": 26,
   "id": "02b499cb-9f33-42ed-b5e6-b477c8dcc251",
   "metadata": {
    "execution": {
     "iopub.execute_input": "2024-02-22T17:59:35.713482Z",
     "iopub.status.busy": "2024-02-22T17:59:35.712400Z",
     "iopub.status.idle": "2024-02-22T17:59:35.721578Z",
     "shell.execute_reply": "2024-02-22T17:59:35.720375Z",
     "shell.execute_reply.started": "2024-02-22T17:59:35.713438Z"
    }
   },
   "outputs": [],
   "source": [
    "df9=x_test.copy()\n",
    "df9['price']=np.expm1(y_test)\n",
    "df9['predictions']=np.expm1(cat_yhat)"
   ]
  },
  {
   "cell_type": "markdown",
   "id": "ce13c39a-f137-40be-bd52-3ac12b2f26e6",
   "metadata": {},
   "source": [
    "## **Business performance**"
   ]
  },
  {
   "cell_type": "code",
   "execution_count": 27,
   "id": "711e9cd4-7a51-43be-9d35-9c046baa5399",
   "metadata": {
    "execution": {
     "iopub.execute_input": "2024-02-22T17:59:37.853829Z",
     "iopub.status.busy": "2024-02-22T17:59:37.851514Z",
     "iopub.status.idle": "2024-02-22T17:59:46.152764Z",
     "shell.execute_reply": "2024-02-22T17:59:46.151411Z",
     "shell.execute_reply.started": "2024-02-22T17:59:37.853722Z"
    }
   },
   "outputs": [],
   "source": [
    "# sum of predictions\n",
    "df91=df9[['id','predictions','price']].groupby('id').sum().reset_index()             \n",
    "\n",
    "# MAE and MAPE\n",
    "df9_aux1=(df9[['id','price','predictions']].groupby('id')\n",
    "          .apply(lambda x: mean_absolute_error (x['price'],x['predictions']))\n",
    "          .reset_index().rename(columns={0:'MAE'}))\n",
    "\n",
    "df9_aux2=(df9[['id','price','predictions']].groupby('id')\n",
    "          .apply(lambda x: mean_absolute_percentage_error (x['price'],x['predictions']))\n",
    "          .reset_index().rename(columns={0:'MAPE'}))\n",
    "\n",
    "# merge\n",
    "df9_aux3=pd.merge(df9_aux1,df9_aux2,how='inner',on='id')\n",
    "df92=pd.merge(df91,df9_aux3,how='inner',on='id')\n",
    "\n",
    "# scenarios\n",
    "df92['worst_scenario']=df92['predictions'] - df92['MAE']\n",
    "df92['best_scenario']=df92['predictions'] + df92['MAE']\n",
    "\n",
    "# order columns\n",
    "df92=df92[['id','price','predictions','worst_scenario','best_scenario','MAE','MAPE']]\n",
    "\n",
    "df92['price']=df92['price'].map('${:,.2f}'.format)\n",
    "df92['predictions']=df92['predictions'].map('${:,.2f}'.format)\n",
    "df92['worst_scenario']=df92['worst_scenario'].map('${:,.2f}'.format)\n",
    "df92['best_scenario']=df92['best_scenario'].map('${:,.2f}'.format)"
   ]
  },
  {
   "cell_type": "code",
   "execution_count": 28,
   "id": "b2e95d10-28ba-4c86-b4ed-72f126e5ff16",
   "metadata": {
    "execution": {
     "iopub.execute_input": "2024-02-22T17:59:46.156712Z",
     "iopub.status.busy": "2024-02-22T17:59:46.156026Z",
     "iopub.status.idle": "2024-02-22T17:59:46.180843Z",
     "shell.execute_reply": "2024-02-22T17:59:46.179603Z",
     "shell.execute_reply.started": "2024-02-22T17:59:46.156653Z"
    },
    "scrolled": true
   },
   "outputs": [
    {
     "data": {
      "text/html": [
       "<div>\n",
       "<style scoped>\n",
       "    .dataframe tbody tr th:only-of-type {\n",
       "        vertical-align: middle;\n",
       "    }\n",
       "\n",
       "    .dataframe tbody tr th {\n",
       "        vertical-align: top;\n",
       "    }\n",
       "\n",
       "    .dataframe thead th {\n",
       "        text-align: right;\n",
       "    }\n",
       "</style>\n",
       "<table border=\"1\" class=\"dataframe\">\n",
       "  <thead>\n",
       "    <tr style=\"text-align: right;\">\n",
       "      <th></th>\n",
       "      <th>id</th>\n",
       "      <th>price</th>\n",
       "      <th>predictions</th>\n",
       "      <th>worst_scenario</th>\n",
       "      <th>best_scenario</th>\n",
       "      <th>MAE</th>\n",
       "      <th>MAPE</th>\n",
       "    </tr>\n",
       "  </thead>\n",
       "  <tbody>\n",
       "    <tr>\n",
       "      <th>0</th>\n",
       "      <td>15917981</td>\n",
       "      <td>$190.00</td>\n",
       "      <td>$190.00</td>\n",
       "      <td>$189.99</td>\n",
       "      <td>$190.00</td>\n",
       "      <td>0.003006</td>\n",
       "      <td>0.000016</td>\n",
       "    </tr>\n",
       "    <tr>\n",
       "      <th>1</th>\n",
       "      <td>873465</td>\n",
       "      <td>$115.00</td>\n",
       "      <td>$115.01</td>\n",
       "      <td>$115.00</td>\n",
       "      <td>$115.02</td>\n",
       "      <td>0.008928</td>\n",
       "      <td>0.000078</td>\n",
       "    </tr>\n",
       "    <tr>\n",
       "      <th>2</th>\n",
       "      <td>10008615</td>\n",
       "      <td>$125.00</td>\n",
       "      <td>$124.97</td>\n",
       "      <td>$124.94</td>\n",
       "      <td>$125.00</td>\n",
       "      <td>0.027619</td>\n",
       "      <td>0.000221</td>\n",
       "    </tr>\n",
       "    <tr>\n",
       "      <th>3</th>\n",
       "      <td>34946772</td>\n",
       "      <td>$65.00</td>\n",
       "      <td>$65.02</td>\n",
       "      <td>$65.00</td>\n",
       "      <td>$65.03</td>\n",
       "      <td>0.015321</td>\n",
       "      <td>0.000236</td>\n",
       "    </tr>\n",
       "    <tr>\n",
       "      <th>4</th>\n",
       "      <td>5327035</td>\n",
       "      <td>$51.00</td>\n",
       "      <td>$50.99</td>\n",
       "      <td>$50.97</td>\n",
       "      <td>$51.00</td>\n",
       "      <td>0.013900</td>\n",
       "      <td>0.000273</td>\n",
       "    </tr>\n",
       "    <tr>\n",
       "      <th>5</th>\n",
       "      <td>17908179</td>\n",
       "      <td>$130.00</td>\n",
       "      <td>$129.96</td>\n",
       "      <td>$129.91</td>\n",
       "      <td>$130.00</td>\n",
       "      <td>0.043485</td>\n",
       "      <td>0.000335</td>\n",
       "    </tr>\n",
       "    <tr>\n",
       "      <th>6</th>\n",
       "      <td>4440020</td>\n",
       "      <td>$229.00</td>\n",
       "      <td>$228.91</td>\n",
       "      <td>$228.83</td>\n",
       "      <td>$229.00</td>\n",
       "      <td>0.085811</td>\n",
       "      <td>0.000375</td>\n",
       "    </tr>\n",
       "    <tr>\n",
       "      <th>7</th>\n",
       "      <td>29338399</td>\n",
       "      <td>$129.00</td>\n",
       "      <td>$129.08</td>\n",
       "      <td>$129.00</td>\n",
       "      <td>$129.17</td>\n",
       "      <td>0.082855</td>\n",
       "      <td>0.000642</td>\n",
       "    </tr>\n",
       "    <tr>\n",
       "      <th>8</th>\n",
       "      <td>28313234</td>\n",
       "      <td>$70.00</td>\n",
       "      <td>$70.05</td>\n",
       "      <td>$70.00</td>\n",
       "      <td>$70.10</td>\n",
       "      <td>0.049250</td>\n",
       "      <td>0.000704</td>\n",
       "    </tr>\n",
       "    <tr>\n",
       "      <th>9</th>\n",
       "      <td>31039678</td>\n",
       "      <td>$120.00</td>\n",
       "      <td>$120.09</td>\n",
       "      <td>$120.00</td>\n",
       "      <td>$120.18</td>\n",
       "      <td>0.089454</td>\n",
       "      <td>0.000745</td>\n",
       "    </tr>\n",
       "  </tbody>\n",
       "</table>\n",
       "</div>"
      ],
      "text/plain": [
       "         id    price predictions worst_scenario best_scenario       MAE  \\\n",
       "0  15917981  $190.00     $190.00        $189.99       $190.00  0.003006   \n",
       "1    873465  $115.00     $115.01        $115.00       $115.02  0.008928   \n",
       "2  10008615  $125.00     $124.97        $124.94       $125.00  0.027619   \n",
       "3  34946772   $65.00      $65.02         $65.00        $65.03  0.015321   \n",
       "4   5327035   $51.00      $50.99         $50.97        $51.00  0.013900   \n",
       "5  17908179  $130.00     $129.96        $129.91       $130.00  0.043485   \n",
       "6   4440020  $229.00     $228.91        $228.83       $229.00  0.085811   \n",
       "7  29338399  $129.00     $129.08        $129.00       $129.17  0.082855   \n",
       "8  28313234   $70.00      $70.05         $70.00        $70.10  0.049250   \n",
       "9  31039678  $120.00     $120.09        $120.00       $120.18  0.089454   \n",
       "\n",
       "       MAPE  \n",
       "0  0.000016  \n",
       "1  0.000078  \n",
       "2  0.000221  \n",
       "3  0.000236  \n",
       "4  0.000273  \n",
       "5  0.000335  \n",
       "6  0.000375  \n",
       "7  0.000642  \n",
       "8  0.000704  \n",
       "9  0.000745  "
      ]
     },
     "execution_count": 28,
     "metadata": {},
     "output_type": "execute_result"
    }
   ],
   "source": [
    "# top 10 predictions\n",
    "df92.sort_values('MAPE',ascending=True).head(10).reset_index(drop=True)"
   ]
  },
  {
   "cell_type": "code",
   "execution_count": 29,
   "id": "4515c89e-0b96-4ed0-9b60-1776855dc34f",
   "metadata": {
    "execution": {
     "iopub.execute_input": "2024-02-22T17:59:46.182744Z",
     "iopub.status.busy": "2024-02-22T17:59:46.182284Z",
     "iopub.status.idle": "2024-02-22T17:59:46.208679Z",
     "shell.execute_reply": "2024-02-22T17:59:46.207366Z",
     "shell.execute_reply.started": "2024-02-22T17:59:46.182711Z"
    }
   },
   "outputs": [
    {
     "data": {
      "text/html": [
       "<div>\n",
       "<style scoped>\n",
       "    .dataframe tbody tr th:only-of-type {\n",
       "        vertical-align: middle;\n",
       "    }\n",
       "\n",
       "    .dataframe tbody tr th {\n",
       "        vertical-align: top;\n",
       "    }\n",
       "\n",
       "    .dataframe thead th {\n",
       "        text-align: right;\n",
       "    }\n",
       "</style>\n",
       "<table border=\"1\" class=\"dataframe\">\n",
       "  <thead>\n",
       "    <tr style=\"text-align: right;\">\n",
       "      <th></th>\n",
       "      <th>id</th>\n",
       "      <th>price</th>\n",
       "      <th>predictions</th>\n",
       "      <th>worst_scenario</th>\n",
       "      <th>best_scenario</th>\n",
       "      <th>MAE</th>\n",
       "      <th>MAPE</th>\n",
       "    </tr>\n",
       "  </thead>\n",
       "  <tbody>\n",
       "    <tr>\n",
       "      <th>0</th>\n",
       "      <td>21304320</td>\n",
       "      <td>$0.00</td>\n",
       "      <td>$27.42</td>\n",
       "      <td>$0.00</td>\n",
       "      <td>$54.84</td>\n",
       "      <td>27.418561</td>\n",
       "      <td>1.234822e+17</td>\n",
       "    </tr>\n",
       "    <tr>\n",
       "      <th>1</th>\n",
       "      <td>25839759</td>\n",
       "      <td>$10.00</td>\n",
       "      <td>$128.74</td>\n",
       "      <td>$10.00</td>\n",
       "      <td>$247.49</td>\n",
       "      <td>118.744855</td>\n",
       "      <td>1.187449e+01</td>\n",
       "    </tr>\n",
       "    <tr>\n",
       "      <th>2</th>\n",
       "      <td>21981703</td>\n",
       "      <td>$12.00</td>\n",
       "      <td>$131.06</td>\n",
       "      <td>$12.00</td>\n",
       "      <td>$250.11</td>\n",
       "      <td>119.056949</td>\n",
       "      <td>9.921412e+00</td>\n",
       "    </tr>\n",
       "    <tr>\n",
       "      <th>3</th>\n",
       "      <td>36280646</td>\n",
       "      <td>$16.00</td>\n",
       "      <td>$124.10</td>\n",
       "      <td>$16.00</td>\n",
       "      <td>$232.20</td>\n",
       "      <td>108.098336</td>\n",
       "      <td>6.756146e+00</td>\n",
       "    </tr>\n",
       "    <tr>\n",
       "      <th>4</th>\n",
       "      <td>35612982</td>\n",
       "      <td>$12.00</td>\n",
       "      <td>$72.32</td>\n",
       "      <td>$12.00</td>\n",
       "      <td>$132.64</td>\n",
       "      <td>60.319440</td>\n",
       "      <td>5.026620e+00</td>\n",
       "    </tr>\n",
       "    <tr>\n",
       "      <th>5</th>\n",
       "      <td>35965985</td>\n",
       "      <td>$44.00</td>\n",
       "      <td>$257.73</td>\n",
       "      <td>$44.00</td>\n",
       "      <td>$471.46</td>\n",
       "      <td>213.730980</td>\n",
       "      <td>4.857522e+00</td>\n",
       "    </tr>\n",
       "    <tr>\n",
       "      <th>6</th>\n",
       "      <td>35642891</td>\n",
       "      <td>$10.00</td>\n",
       "      <td>$53.05</td>\n",
       "      <td>$10.00</td>\n",
       "      <td>$96.10</td>\n",
       "      <td>43.048689</td>\n",
       "      <td>4.304869e+00</td>\n",
       "    </tr>\n",
       "    <tr>\n",
       "      <th>7</th>\n",
       "      <td>22229244</td>\n",
       "      <td>$20.00</td>\n",
       "      <td>$91.56</td>\n",
       "      <td>$20.00</td>\n",
       "      <td>$163.12</td>\n",
       "      <td>71.559768</td>\n",
       "      <td>3.577988e+00</td>\n",
       "    </tr>\n",
       "    <tr>\n",
       "      <th>8</th>\n",
       "      <td>8668115</td>\n",
       "      <td>$50.00</td>\n",
       "      <td>$224.58</td>\n",
       "      <td>$50.00</td>\n",
       "      <td>$399.16</td>\n",
       "      <td>174.578210</td>\n",
       "      <td>3.491564e+00</td>\n",
       "    </tr>\n",
       "    <tr>\n",
       "      <th>9</th>\n",
       "      <td>21741106</td>\n",
       "      <td>$43.00</td>\n",
       "      <td>$167.79</td>\n",
       "      <td>$43.00</td>\n",
       "      <td>$292.58</td>\n",
       "      <td>124.788849</td>\n",
       "      <td>2.902066e+00</td>\n",
       "    </tr>\n",
       "  </tbody>\n",
       "</table>\n",
       "</div>"
      ],
      "text/plain": [
       "         id   price predictions worst_scenario best_scenario         MAE  \\\n",
       "0  21304320   $0.00      $27.42          $0.00        $54.84   27.418561   \n",
       "1  25839759  $10.00     $128.74         $10.00       $247.49  118.744855   \n",
       "2  21981703  $12.00     $131.06         $12.00       $250.11  119.056949   \n",
       "3  36280646  $16.00     $124.10         $16.00       $232.20  108.098336   \n",
       "4  35612982  $12.00      $72.32         $12.00       $132.64   60.319440   \n",
       "5  35965985  $44.00     $257.73         $44.00       $471.46  213.730980   \n",
       "6  35642891  $10.00      $53.05         $10.00        $96.10   43.048689   \n",
       "7  22229244  $20.00      $91.56         $20.00       $163.12   71.559768   \n",
       "8   8668115  $50.00     $224.58         $50.00       $399.16  174.578210   \n",
       "9  21741106  $43.00     $167.79         $43.00       $292.58  124.788849   \n",
       "\n",
       "           MAPE  \n",
       "0  1.234822e+17  \n",
       "1  1.187449e+01  \n",
       "2  9.921412e+00  \n",
       "3  6.756146e+00  \n",
       "4  5.026620e+00  \n",
       "5  4.857522e+00  \n",
       "6  4.304869e+00  \n",
       "7  3.577988e+00  \n",
       "8  3.491564e+00  \n",
       "9  2.902066e+00  "
      ]
     },
     "execution_count": 29,
     "metadata": {},
     "output_type": "execute_result"
    }
   ],
   "source": [
    "# top 10 worse predictions\n",
    "df92.sort_values('MAPE',ascending=False).head(10).reset_index(drop=True)"
   ]
  },
  {
   "cell_type": "code",
   "execution_count": 31,
   "id": "02c33a9d-dab2-421c-848a-e667ea3fa090",
   "metadata": {
    "execution": {
     "iopub.execute_input": "2024-02-22T17:59:49.566348Z",
     "iopub.status.busy": "2024-02-22T17:59:49.565760Z",
     "iopub.status.idle": "2024-02-22T17:59:49.592499Z",
     "shell.execute_reply": "2024-02-22T17:59:49.591354Z",
     "shell.execute_reply.started": "2024-02-22T17:59:49.566292Z"
    }
   },
   "outputs": [
    {
     "name": "stdout",
     "output_type": "stream",
     "text": [
      "MAE médio de aluguéis até $100 : 20.46\n",
      "MAE médio de aluguéis entre $101 a $300 : 44.21\n",
      "MAE médio de aluguéis entre $301 a $500 : 162.94\n",
      "MAE médio de aluguéis acima de $500 : 644.49\n"
     ]
    }
   ],
   "source": [
    "df92[['price','predictions','worst_scenario','best_scenario']] = (df92[['price','predictions','worst_scenario','best_scenario']]\n",
    "                                                                    .replace('[\\$,]', '', regex=True).astype(float))\n",
    "\n",
    "aux1=df92[df92['price']<=100]\n",
    "aux2=df92[(df92['price']>100) & (df92['price']<=300)]\n",
    "aux3=df92[(df92['price']>300) & (df92['price']<=500)]\n",
    "aux4=df92[df92['price']>=500]\n",
    "\n",
    "print(f'MAE médio de aluguéis até $100 : {round(aux1[\"MAE\"].mean(),2)}')\n",
    "print(f'MAE médio de aluguéis entre $101 a $300 : {round(aux2[\"MAE\"].mean(),2)}')\n",
    "print(f'MAE médio de aluguéis entre $301 a $500 : {round(aux3[\"MAE\"].mean(),2)}')\n",
    "print(f'MAE médio de aluguéis acima de $500 : {round(aux4[\"MAE\"].mean(),2)}')"
   ]
  },
  {
   "cell_type": "code",
   "execution_count": 36,
   "id": "4d9284f7-a3f3-407f-a8c3-d62e2c68685f",
   "metadata": {
    "execution": {
     "iopub.execute_input": "2024-02-22T18:00:30.513994Z",
     "iopub.status.busy": "2024-02-22T18:00:30.512911Z",
     "iopub.status.idle": "2024-02-22T18:00:30.975915Z",
     "shell.execute_reply": "2024-02-22T18:00:30.973780Z",
     "shell.execute_reply.started": "2024-02-22T18:00:30.513924Z"
    }
   },
   "outputs": [
    {
     "data": {
      "image/png": "[encoded data removed]",
      "text/plain": [
       "<Figure size 1300x600 with 1 Axes>"
      ]
     },
     "metadata": {},
     "output_type": "display_data"
    }
   ],
   "source": [
    "aux=df92.drop(df92[df92['id'] == 21304320].index, axis=0)\n",
    "\n",
    "# px.scatter(aux,x='id',y='MAPE',height=500)\n",
    "\n",
    "plt.figure(figsize=(13, 6))  \n",
    "sns.scatterplot(x='id', y='MAPE', data=aux)\n",
    "plt.title('Scatter Plot de MAPE por ID')\n",
    "plt.show()"
   ]
  },
  {
   "cell_type": "markdown",
   "id": "1eae3c04-b7c9-4093-a704-4192c3e4203a",
   "metadata": {},
   "source": [
    "## **Total performance**"
   ]
  },
  {
   "cell_type": "code",
   "execution_count": 33,
   "id": "adbe4cc2-7573-41c1-b555-1a21504b2a51",
   "metadata": {
    "execution": {
     "iopub.execute_input": "2024-02-22T17:59:54.029530Z",
     "iopub.status.busy": "2024-02-22T17:59:54.028849Z",
     "iopub.status.idle": "2024-02-22T17:59:54.059943Z",
     "shell.execute_reply": "2024-02-22T17:59:54.058436Z",
     "shell.execute_reply.started": "2024-02-22T17:59:54.029466Z"
    }
   },
   "outputs": [
    {
     "data": {
      "text/html": [
       "<div>\n",
       "<style scoped>\n",
       "    .dataframe tbody tr th:only-of-type {\n",
       "        vertical-align: middle;\n",
       "    }\n",
       "\n",
       "    .dataframe tbody tr th {\n",
       "        vertical-align: top;\n",
       "    }\n",
       "\n",
       "    .dataframe thead th {\n",
       "        text-align: right;\n",
       "    }\n",
       "</style>\n",
       "<table border=\"1\" class=\"dataframe\">\n",
       "  <thead>\n",
       "    <tr style=\"text-align: right;\">\n",
       "      <th></th>\n",
       "      <th>Scenario</th>\n",
       "      <th>Values</th>\n",
       "    </tr>\n",
       "  </thead>\n",
       "  <tbody>\n",
       "    <tr>\n",
       "      <th>0</th>\n",
       "      <td>price</td>\n",
       "      <td>$725,918.00</td>\n",
       "    </tr>\n",
       "    <tr>\n",
       "      <th>1</th>\n",
       "      <td>predictions</td>\n",
       "      <td>$632,748.18</td>\n",
       "    </tr>\n",
       "    <tr>\n",
       "      <th>2</th>\n",
       "      <td>worst_scenario</td>\n",
       "      <td>$379,511.14</td>\n",
       "    </tr>\n",
       "    <tr>\n",
       "      <th>3</th>\n",
       "      <td>best_scenario</td>\n",
       "      <td>$885,985.18</td>\n",
       "    </tr>\n",
       "  </tbody>\n",
       "</table>\n",
       "</div>"
      ],
      "text/plain": [
       "         Scenario       Values\n",
       "0           price  $725,918.00\n",
       "1     predictions  $632,748.18\n",
       "2  worst_scenario  $379,511.14\n",
       "3   best_scenario  $885,985.18"
      ]
     },
     "execution_count": 33,
     "metadata": {},
     "output_type": "execute_result"
    }
   ],
   "source": [
    "df93=(df92[['price','predictions','worst_scenario','best_scenario']].apply(lambda x: np.sum (x),axis=0)\n",
    "                                                                    .reset_index()\n",
    "                                                                    .rename(columns={'index':'Scenario',0:'Values'}))\n",
    "df93['Values']=df93['Values'].map('${:,.2f}'.format)\n",
    "df93"
   ]
  },
  {
   "cell_type": "markdown",
   "id": "8f1af8b9-bb85-4758-ba94-76daad56b117",
   "metadata": {},
   "source": [
    "## **Machine learning performance**"
   ]
  },
  {
   "cell_type": "code",
   "execution_count": 37,
   "id": "a23db11d-61a2-4b48-8be2-d4d66e2c81d6",
   "metadata": {
    "execution": {
     "iopub.execute_input": "2024-02-22T18:00:45.318272Z",
     "iopub.status.busy": "2024-02-22T18:00:45.317126Z",
     "iopub.status.idle": "2024-02-22T18:00:45.326111Z",
     "shell.execute_reply": "2024-02-22T18:00:45.324329Z",
     "shell.execute_reply.started": "2024-02-22T18:00:45.318204Z"
    }
   },
   "outputs": [],
   "source": [
    "df9['error']=df9['price']-df9['predictions']"
   ]
  },
  {
   "cell_type": "code",
   "execution_count": 38,
   "id": "a8916ddd-c6e1-4311-94f8-c788e834577d",
   "metadata": {
    "execution": {
     "iopub.execute_input": "2024-02-22T18:00:45.826653Z",
     "iopub.status.busy": "2024-02-22T18:00:45.824844Z",
     "iopub.status.idle": "2024-02-22T18:00:46.595100Z",
     "shell.execute_reply": "2024-02-22T18:00:46.593256Z",
     "shell.execute_reply.started": "2024-02-22T18:00:45.826587Z"
    }
   },
   "outputs": [
    {
     "data": {
      "image/png": "[encoded data removed]",
      "text/plain": [
       "<Figure size 1300x400 with 2 Axes>"
      ]
     },
     "metadata": {},
     "output_type": "display_data"
    }
   ],
   "source": [
    "fig, axs = plt.subplots(1, 2, figsize=(13, 4))\n",
    "\n",
    "sns.histplot(df9['error'], bins=30, color='blue', ax=axs[0])\n",
    "axs[0].set_title('Histograma de Erro')\n",
    "axs[0].set_xlabel('Erro')\n",
    "axs[0].set_ylabel('Contagem')\n",
    "\n",
    "sns.scatterplot(x='predictions', y='error', data=df9, color='green', ax=axs[1])\n",
    "axs[1].set_title('Gráfico de Dispersão de Erro')\n",
    "axs[1].set_xlabel('Predições')\n",
    "axs[1].set_ylabel('Erro')\n",
    "\n",
    "plt.tight_layout()\n",
    "plt.show()"
   ]
  },
  {
   "cell_type": "markdown",
   "id": "67919e67-edef-4d10-94a1-3fb201f49455",
   "metadata": {
    "jp-MarkdownHeadingCollapsed": true
   },
   "source": [
    "# **10 Entregas**"
   ]
  },
  {
   "cell_type": "markdown",
   "id": "4698feb4-6842-4759-a5cb-a9b2de3cbb52",
   "metadata": {},
   "source": [
    "## **1**"
   ]
  },
  {
   "cell_type": "markdown",
   "id": "8b91c262-957b-4db2-bbe5-598d2396604d",
   "metadata": {},
   "source": [
    "Faça uma análise exploratória dos dados (EDA), demonstrando as principais características entre as variáveis e   \n",
    "apresentando algumas hipóteses de negócio relacionadas. Seja criativo!"
   ]
  },
  {
   "cell_type": "markdown",
   "id": "ae68b884-2e5c-45ea-a811-44a948963d09",
   "metadata": {},
   "source": [
    "A resposta está contida na seção 4 - Exploratory data analysis"
   ]
  },
  {
   "cell_type": "markdown",
   "id": "adae3bea-f054-45a0-9efa-70437b0e648e",
   "metadata": {},
   "source": [
    "## **2**"
   ]
  },
  {
   "cell_type": "markdown",
   "id": "ecdff65d-5d24-4763-9210-bf18856bbaf2",
   "metadata": {},
   "source": [
    "### a) Supondo que uma pessoa esteja pensando em investir em um apartamento para alugar na plataforma, \n",
    "### onde seria mais indicada a compra?"
   ]
  },
  {
   "cell_type": "markdown",
   "id": "893cca27-7692-41f8-b065-2be34c2fdf93",
   "metadata": {},
   "source": [
    "Pensando na compra de um apartamento, seria no bairro_group Bronx, porque, segundo pesquisas, é o local mais acessível de Nova York    \n",
    "para se comprar um apartamento, e tentando maximizar o lucro, um apartamento cujo preço de aluguel está acima do 2° quartil (maior que 50% dos preços).  \n",
    "\n",
    "É necessário também escolher um apartamento cujo número de reviews esteja acima da média, o que sinaliza um local facilmente alugado.\n",
    "\n",
    "Para aumentar a acurácia desse recomendação, seria necessário analisar os valores de compra dos apartamentos."
   ]
  },
  {
   "cell_type": "code",
   "execution_count": null,
   "id": "4456590c-9bd6-4183-91a7-b3da223ca9e0",
   "metadata": {
    "execution": {
     "iopub.status.busy": "2024-02-19T20:56:38.631633Z",
     "iopub.status.idle": "2024-02-19T20:56:38.632095Z",
     "shell.execute_reply": "2024-02-19T20:56:38.631875Z",
     "shell.execute_reply.started": "2024-02-19T20:56:38.631854Z"
    }
   },
   "outputs": [],
   "source": [
    "# somente no Bronx e número de reviews superior à média geral\n",
    "aux=df4[(df4['bairro_group']=='Bronx') & (df4['price']>106) & (df4['numero_de_reviews']>23)]\n",
    "\n",
    "# filtrando apenas apartamentos\n",
    "keywords = ['Apartment', 'apartment', 'Apt', 'apt']\n",
    "filter = aux['nome'].str.contains('|'.join(keywords), case=False)\n",
    "aux = aux[filter]\n",
    "\n",
    "aux1=aux[['nome','bairro','room_type','price','numero_de_reviews']]\n",
    "aux1.sort_values('price',ascending=False).head(10).reset_index(drop=True)"
   ]
  },
  {
   "cell_type": "markdown",
   "id": "e9927e28-a734-49a8-8c66-7ee6331f3498",
   "metadata": {},
   "source": [
    "### b) O número mínimo de noites e a disponibilidade ao longo do ano interferem no preço?"
   ]
  },
  {
   "cell_type": "markdown",
   "id": "04a290d3-e9fd-46db-bcda-86101041ec3d",
   "metadata": {},
   "source": [
    "Segundo os resultados já mencionados na EDA, não parece haver uma relação considerável entre o mínimo de noites e a disponibilidade com o preço"
   ]
  },
  {
   "cell_type": "markdown",
   "id": "6f3ecc4f-066f-4f50-aad0-cc766062131b",
   "metadata": {},
   "source": [
    "### c) Existe algum padrão no texto do nome do local para lugares de mais alto valor?"
   ]
  },
  {
   "cell_type": "markdown",
   "id": "db5f515e-d084-4fd7-8685-4a0f96a25ac2",
   "metadata": {},
   "source": [
    "Sim, existem algumas palavras que se repetem quando se filtra os imóveis com os maiores aluguéis.\n",
    "\n",
    "Luxury - 5 vezes   \n",
    "Beautiful - 4 vezes  \n",
    "SuperBowl - 3 vezes   \n",
    "Private - 3 vezes   \n",
    "Townhouse - 3 vezes  \n",
    "Film - 3 vezes \n",
    "\n",
    "**As palavras foram contadas com a ajuda de uma IA com base numa lista dos 50 imóveis com os maiores preços**   \n",
    "(essas palavras não foram encontradas na lista dos 50 imóveis mais baratos, conforme análise da variável na Bivariate analysis)"
   ]
  },
  {
   "cell_type": "markdown",
   "id": "8657fed6-3124-454a-b739-76eb2bc19858",
   "metadata": {},
   "source": [
    "## **3**"
   ]
  },
  {
   "cell_type": "markdown",
   "id": "484a0f92-07dc-4ca9-8981-c05955955888",
   "metadata": {},
   "source": [
    "Explique como você faria a previsão do preço a partir dos dados.    \n",
    "Quais variáveis e/ou suas transformações você utilizou e por quê?    \n",
    "Qual tipo de problema estamos resolvendo (regressão, classificação)?    \n",
    "Qual modelo melhor se aproxima dos dados e quais seus prós e contras?    \n",
    "Qual medida de performance do modelo foi escolhida e por quê?"
   ]
  },
  {
   "cell_type": "markdown",
   "id": "ee414cad-5631-478c-9e6d-9058815eb48f",
   "metadata": {
    "execution": {
     "iopub.execute_input": "2024-02-21T12:01:10.739458Z",
     "iopub.status.busy": "2024-02-21T12:01:10.738262Z",
     "iopub.status.idle": "2024-02-21T12:01:10.767313Z",
     "shell.execute_reply": "2024-02-21T12:01:10.764857Z",
     "shell.execute_reply.started": "2024-02-21T12:01:10.739303Z"
    }
   },
   "source": [
    "- a) Quais variáveis e/ou suas transformações você utilizou e por quê?    "
   ]
  },
  {
   "cell_type": "markdown",
   "id": "10b61a98-c0b6-45d3-83e4-efe150c358cc",
   "metadata": {},
   "source": [
    "As variáveis criadas na feature engineering não foram úteis para o modelo, e das variáveis originais, optei por manter     \n",
    "o menor número de variáveis possível, tentando manter o melhor desempenho, pensando num possível ambiente de produção, tornando o modelo    \n",
    "menos complexo e mais robusto.    \n",
    "\n",
    "Nas variáveis categóricas, eu usei onehot encoding para as de baixa cardinalidade (para melhor representar cada registro individualmente) e    \n",
    "target encoding nas de alta cardinalidade (para evitar aumentar a dimensionalidade e considerar a relação com a variável resposta).    \n",
    "\n",
    "Nas variáveis númerias, as técnicas de reescala não aumentaram a performance do modelo, então optei por não realizar essas transformações,   \n",
    "exceto para a variável resposta, na qual usei np.log1 (para aproximar a distribuição de uma normal), aumentando a performance do modelo.    "
   ]
  },
  {
   "cell_type": "markdown",
   "id": "01b34c8a-5c15-4ed8-9a80-671ab2a61b2b",
   "metadata": {},
   "source": [
    "- b) Qual tipo de problema estamos resolvendo (regressão, classificação)?    \n"
   ]
  },
  {
   "cell_type": "markdown",
   "id": "b7a8d824-e498-4a99-8356-3381c7fab93f",
   "metadata": {},
   "source": [
    "O problema é de regressão, ou seja, prever um valor contínuo com base em sua relação com as variáveis independentes.   "
   ]
  },
  {
   "cell_type": "markdown",
   "id": "8c692b7e-42cc-4d29-8a5c-1847f32f6fb5",
   "metadata": {},
   "source": [
    "- c) Qual modelo melhor se aproxima dos dados e quais seus prós e contras?    "
   ]
  },
  {
   "cell_type": "markdown",
   "id": "45ec2534-6d92-4c30-99f0-e7f7b5c9e236",
   "metadata": {},
   "source": [
    "O modelo que mais se aproximou dos dados foi o CatBoostRegressor.   \n",
    "\n",
    "Prós: Rápido para treinar/tunar e gera um arquivo pkl leve, característica útil em produção.    \n",
    "\n",
    "Contras: Difícil explicabilidade, no problema eu presumi que a performance seria mais importante que a explicabilidade,    \n",
    "porém num cenário real pode acabar não sendo o caso se o problema de negócio envolver o contato com os donos dos imóveis ou possíveis clientes.   "
   ]
  },
  {
   "cell_type": "markdown",
   "id": "6470f2d2-2a45-419a-841a-7eb92b66dce6",
   "metadata": {},
   "source": [
    "- d) Qual medida de performance do modelo foi escolhida e por quê?"
   ]
  },
  {
   "cell_type": "markdown",
   "id": "5484fa26-b16a-4934-ae8c-b2d60bf29b77",
   "metadata": {},
   "source": [
    "A métrica principal escolhida foi o MAE (erro médio absoluto).    \n",
    "\n",
    "É fácil de interpretar e entender, facilita a compreensão do impacto no negócio e é robusto a outliers (importante característica nesse problema).    "
   ]
  },
  {
   "cell_type": "markdown",
   "id": "5ffb5f7a-445c-4c04-86f3-d17d6d8c9ad3",
   "metadata": {},
   "source": [
    "## **4**"
   ]
  },
  {
   "cell_type": "markdown",
   "id": "d7e87279-cf37-4c34-a7dd-87334967f36e",
   "metadata": {},
   "source": [
    "Supondo um apartamento com as seguintes características:\n",
    "\n",
    "{'id': 2595,\n",
    " 'nome': 'Skylit Midtown Castle',\n",
    " 'host_id': 2845,\n",
    " 'host_name': 'Jennifer',   \n",
    " 'bairro_group': 'Manhattan',   \n",
    " 'bairro': 'Midtown',   \n",
    " 'latitude': 40.75362,   \n",
    " 'longitude': -73.98377,   \n",
    " 'room_type': 'Entire home/apt',   \n",
    " 'price': 225,   \n",
    " 'minimo_noites': 1,\n",
    " 'numero_de_reviews': 45,\n",
    " 'ultima_review': '2019-05-21',   \n",
    " 'reviews_por_mes': 0.38,   \n",
    " 'calculado_host_listings_count': 2,   \n",
    " 'disponibilidade_365': 355}   \n",
    "\n",
    "Qual seria a sua sugestão de preço?"
   ]
  },
  {
   "cell_type": "code",
   "execution_count": 39,
   "id": "a525e79b-849b-49f3-88f5-27447f9b6a6a",
   "metadata": {
    "execution": {
     "iopub.execute_input": "2024-02-22T18:02:22.386399Z",
     "iopub.status.busy": "2024-02-22T18:02:22.385630Z",
     "iopub.status.idle": "2024-02-22T18:02:22.923888Z",
     "shell.execute_reply": "2024-02-22T18:02:22.922464Z",
     "shell.execute_reply.started": "2024-02-22T18:02:22.386315Z"
    }
   },
   "outputs": [
    {
     "name": "stdout",
     "output_type": "stream",
     "text": [
      "A previsão do modelo para o preço é: 311.89533710665614\n"
     ]
    }
   ],
   "source": [
    "# previsão do modelo\n",
    "\n",
    "df_raw=pd.read_csv('../datasets/raw.csv')\n",
    "\n",
    "model=pickle.load(open('../model/model_lighthouse.pkl','rb'))\n",
    "\n",
    "target_bairro=pickle.load (open('../parameters/target_bairro.pkl','rb'))\n",
    "target_category=pickle.load (open('../parameters/target_category.pkl','rb'))\n",
    "target_room_type=pickle.load (open('../parameters/target_room_type.pkl','rb'))\n",
    "target_bairro_group=pickle.load (open('../parameters/target_bairro_group.pkl','rb'))\n",
    "\n",
    "x_train, y_train, x_val, y_val, x_test, y_test = train_valid_test_split(df_raw, \n",
    "                                                        target = 'price', \n",
    "                                                        train_size=0.8, valid_size=0.1, test_size=0.1,\n",
    "                                                        random_state=42)\n",
    "\n",
    "dict = {'id': 2595,\n",
    "             'nome': 'Skylit Midtown Castle',\n",
    "             'host_id': 2845,\n",
    "             'host_name': 'Jennifer',\n",
    "             'bairro_group': 'Manhattan',\n",
    "             'bairro': 'Midtown',\n",
    "             'latitude': 40.75362,\n",
    "             'longitude': -73.98377,\n",
    "             'room_type': 'Entire home/apt',\n",
    "             'minimo_noites': 1,\n",
    "             'numero_de_reviews': 45,\n",
    "             'ultima_review': '2019-05-21',\n",
    "             'reviews_por_mes': 0.38,\n",
    "             'calculado_host_listings_count': 2,\n",
    "             'disponibilidade_365': 355}\n",
    "\n",
    "df = pd.DataFrame([dict])\n",
    "\n",
    "test = x_test.copy()\n",
    "test = pd.concat([test, df], ignore_index=True)\n",
    "\n",
    "# change types\n",
    "test['ultima_review'] = pd.to_datetime(test['ultima_review'])\n",
    "\n",
    "# nas\n",
    "test['reviews_por_mes'] = np.where(test['reviews_por_mes'].isna(), 0, test['reviews_por_mes'])\n",
    "cols = ['nome','host_name']\n",
    "test[cols] = np.where(test[cols].isna(), 'desconhecido', test[cols])\n",
    "\n",
    "test['category'] = test.apply(categorize_listing, axis=1)\n",
    "\n",
    "test['ultima_review'] = test['ultima_review'].fillna('2019-07-09')\n",
    "ref_date = pd.to_datetime('2019-07-09')\n",
    "test['ultima_review'] = (test['ultima_review'] - ref_date).dt.days * -1\n",
    "\n",
    "test=target_bairro.transform(test)\n",
    "test=target_category.transform(test)\n",
    "test=target_room_type.transform(test)\n",
    "test=target_bairro_group.transform(test)\n",
    "\n",
    "Test=test[['bairro', 'bairro_group','ultima_review',\n",
    "       'minimo_noites', 'numero_de_reviews', 'calculado_host_listings_count',\n",
    "       'disponibilidade_365', 'latitude','longitude', 'category',\n",
    "       'room_type']]\n",
    "\n",
    "Test['id']=test['id']\n",
    "\n",
    "pred = model.predict(Test)\n",
    "Test['pred']=np.expm1(pred)\n",
    "\n",
    "print(f'A previsão do modelo para o preço é: {Test.loc[Test[\"id\"] == 2595, \"pred\"].values[0]}')"
   ]
  },
  {
   "cell_type": "code",
   "execution_count": 1394,
   "id": "2a1a0687-c299-4369-86b3-62c9572bf609",
   "metadata": {
    "execution": {
     "iopub.execute_input": "2024-02-21T01:52:26.522515Z",
     "iopub.status.busy": "2024-02-21T01:52:26.521391Z",
     "iopub.status.idle": "2024-02-21T01:52:26.566835Z",
     "shell.execute_reply": "2024-02-21T01:52:26.565073Z",
     "shell.execute_reply.started": "2024-02-21T01:52:26.522442Z"
    }
   },
   "outputs": [
    {
     "name": "stdout",
     "output_type": "stream",
     "text": [
      "198.03929104049558\n",
      "150.0\n",
      "290.5305063321215\n",
      "\n",
      "\n",
      "287.97617156473393\n",
      "210.0\n",
      "269.4626834026183\n",
      "\n",
      "\n",
      "213.24911626080126\n",
      "160.0\n",
      "291.0759384482693\n"
     ]
    }
   ],
   "source": [
    "# estatísticas de preço para o bairro group Manhattan\n",
    "aux=df4[df4['bairro_group']=='Manhattan']\n",
    "print(aux['price'].mean())\n",
    "print(aux['price'].median())\n",
    "print(aux['price'].std())\n",
    "\n",
    "print('\\n')\n",
    "# estatísticas de preço para o bairro Midtown\n",
    "aux=df4[df4['bairro']=='Midtown']\n",
    "print(aux['price'].mean())\n",
    "print(aux['price'].median())\n",
    "print(aux['price'].std())\n",
    "\n",
    "print('\\n')\n",
    "# estatísticas de preço para room type Entire home/apt\n",
    "aux=df4[df4['room_type']=='Entire home/apt']\n",
    "print(aux['price'].mean())\n",
    "print(aux['price'].median())\n",
    "print(aux['price'].std())"
   ]
  },
  {
   "cell_type": "markdown",
   "id": "6e2a22fc-898d-4694-b7ee-e4318982888f",
   "metadata": {},
   "source": [
    "O preço original de 225 está de acordo com as médias para as suas principais características (bairro group,   \n",
    "bairro e room type), mas poderia ser esticado um pouco mais, até 300-400 devido a média de aluguéis para o bairro Midtown ser de 287 e o   \n",
    "desvio padrão ser alto (bem como nas demais características), e também se tratando de um imóvel com um alto número de reviews,     \n",
    "provavelmente requisitado.   \n",
    "\n",
    "Portanto, a previsão do modelo de $311.89 é realista, apesar de ser quase o dobro do preço original."
   ]
  }
 ],
 "metadata": {
  "kernelspec": {
   "display_name": "Python 3 (ipykernel)",
   "language": "python",
   "name": "python3"
  },
  "language_info": {
   "codemirror_mode": {
    "name": "ipython",
    "version": 3
   },
   "file_extension": ".py",
   "mimetype": "text/x-python",
   "name": "python",
   "nbconvert_exporter": "python",
   "pygments_lexer": "ipython3",
   "version": "3.10.4"
  }
 },
 "nbformat": 4,
 "nbformat_minor": 5
}
