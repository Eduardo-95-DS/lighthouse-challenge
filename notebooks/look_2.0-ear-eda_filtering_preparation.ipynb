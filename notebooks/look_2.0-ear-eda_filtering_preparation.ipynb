{
 "cells": [
  {
   "cell_type": "markdown",
   "id": "8bb26484-7b5c-4c4b-885a-680d0f35da33",
   "metadata": {
    "jp-MarkdownHeadingCollapsed": true
   },
   "source": [
    "# **0.1 Imports**"
   ]
  },
  {
   "cell_type": "code",
   "execution_count": 323,
   "id": "ac1fbace-ae55-432e-bad1-0e3d6c4e598b",
   "metadata": {
    "execution": {
     "iopub.execute_input": "2024-02-26T19:06:24.825127Z",
     "iopub.status.busy": "2024-02-26T19:06:24.824435Z",
     "iopub.status.idle": "2024-02-26T19:06:24.834719Z",
     "shell.execute_reply": "2024-02-26T19:06:24.833208Z",
     "shell.execute_reply.started": "2024-02-26T19:06:24.825057Z"
    }
   },
   "outputs": [],
   "source": [
    "import pandas as pd\n",
    "import numpy as np\n",
    "import seaborn as sns\n",
    "import folium\n",
    "from folium.plugins import MarkerCluster\n",
    "import plotly.express as px \n",
    "import plotly.graph_objects as go\n",
    "from plotly.subplots import make_subplots\n",
    "from IPython.display       import Image\n",
    "from matplotlib            import rcParams\n",
    "import matplotlib.pyplot   as plt\n",
    "\n",
    "import scipy.stats             as ss\n",
    "from scipy.stats               import chi2_contingency \n",
    "from scipy.special import boxcox1p\n",
    "from scipy.special import inv_boxcox1p\n",
    "from sklearn.preprocessing import PowerTransformer\n",
    "import statsmodels.api         as sm\n",
    "from category_encoders         import TargetEncoder\n",
    "from fast_ml.model_development import train_valid_test_split\n",
    "from sklearn.metrics           import mean_absolute_error, mean_squared_error,make_scorer, mean_absolute_percentage_error\n",
    "from sklearn.model_selection   import cross_val_predict, KFold, cross_val_score\n",
    "from sklearn.preprocessing     import RobustScaler,MinMaxScaler,LabelEncoder,StandardScaler\n",
    "from sklearn.linear_model      import LinearRegression, Lasso\n",
    "from sklearn.ensemble          import RandomForestRegressor\n",
    "from xgboost                   import XGBRegressor\n",
    "from catboost                  import CatBoostRegressor"
   ]
  },
  {
   "cell_type": "markdown",
   "id": "d6934a6c-43fa-47f8-a7c5-de505777ef0d",
   "metadata": {},
   "source": [
    "## **0.1.1 Helper functions**"
   ]
  },
  {
   "cell_type": "code",
   "execution_count": 324,
   "id": "a35ce12d-23c5-4849-9d30-88e355e54ea0",
   "metadata": {
    "execution": {
     "iopub.execute_input": "2024-02-26T19:06:24.837654Z",
     "iopub.status.busy": "2024-02-26T19:06:24.836989Z",
     "iopub.status.idle": "2024-02-26T19:06:24.860373Z",
     "shell.execute_reply": "2024-02-26T19:06:24.858726Z",
     "shell.execute_reply.started": "2024-02-26T19:06:24.837594Z"
    }
   },
   "outputs": [],
   "source": [
    "def mean_absolute_percentage_error_func(y, yhat):\n",
    "    mask = y != 0\n",
    "    return np.mean(np.abs(np.where(mask, (y - yhat) / y, 0)))\n",
    "\n",
    "def mae_scorer(y_true, y_pred):\n",
    "    return -mean_absolute_error(y_true, y_pred)  # Negativo porque cross_val_score espera escores mais altos\n",
    "\n",
    "def mape_scorer(y_true, y_pred):\n",
    "    return -np.mean(np.abs((y_true - y_pred) / y_true))\n",
    "\n",
    "def mape_scorer(y_true, y_pred):\n",
    "    mask = y_true != 0  # Cria uma máscara para evitar divisão por zero\n",
    "    y_true_masked = y_true[mask]\n",
    "    y_pred_masked = y_pred[mask]\n",
    "\n",
    "    if len(y_true_masked) == 0:\n",
    "        # Caso não haja valores diferentes de zero, retorne 0 (ou outro valor apropriado)\n",
    "        return 0.0\n",
    "\n",
    "    return -np.mean(np.abs((y_true_masked - y_pred_masked) / y_true_masked))\n",
    "\n",
    "def rmse_scorer(y_true, y_pred):\n",
    "    return -np.sqrt(mean_squared_error(y_true, y_pred))\n",
    "\n",
    "def calculate_cramers_v_matrix(dataframe):\n",
    "    cols = dataframe.columns\n",
    "    cramers_v_matrix = pd.DataFrame(index=cols, columns=cols, dtype=float)\n",
    "\n",
    "    for i in range(len(cols)):\n",
    "        for j in range(len(cols)):\n",
    "            if i == j:\n",
    "                cramers_v_matrix.iloc[i, j] = 1.0\n",
    "            else:\n",
    "                cramers_v = calculate_cramers_v(dataframe[cols[i]], dataframe[cols[j]])\n",
    "                cramers_v_matrix.iloc[i, j] = cramers_v\n",
    "                cramers_v_matrix.iloc[j, i] = cramers_v\n",
    "\n",
    "    return cramers_v_matrix\n",
    "\n",
    "def calculate_cramers_v(var1, var2):\n",
    "    contingency_table = pd.crosstab(var1, var2)\n",
    "    \n",
    "    chi2, _, _, _ = chi2_contingency(contingency_table)\n",
    "    n = contingency_table.sum().sum()\n",
    "    phi2 = chi2 / n\n",
    "    r, k = contingency_table.shape\n",
    "    phi2corr = max(0, phi2 - ((k-1)*(r-1))/(n-1))\n",
    "    rcorr = r - ((r-1)**2)/(n-1)\n",
    "    kcorr = k - ((k-1)**2)/(n-1)\n",
    "    \n",
    "    return np.sqrt(phi2corr / min((kcorr-1), (rcorr-1)))\n",
    "\n",
    "def filter_mean(df,bairro_group,bairro,room_type):\n",
    "    filter = (df['bairro_group'] == bairro_group) & (df['bairro'] == bairro) & (df['room_type'] == room_type)\n",
    "    aux = df[filter]\n",
    "\n",
    "    # Calculando a média de preço\n",
    "    mean = aux['price'].mean()\n",
    "    return round(mean)"
   ]
  },
  {
   "cell_type": "markdown",
   "id": "629fc4a9-29b1-4a59-a561-615b5cf9083b",
   "metadata": {
    "execution": {
     "iopub.execute_input": "2024-02-14T18:52:08.138000Z",
     "iopub.status.busy": "2024-02-14T18:52:08.136976Z",
     "iopub.status.idle": "2024-02-14T18:52:08.143641Z",
     "shell.execute_reply": "2024-02-14T18:52:08.141984Z",
     "shell.execute_reply.started": "2024-02-14T18:52:08.137925Z"
    },
    "jp-MarkdownHeadingCollapsed": true
   },
   "source": [
    "## **0.1.2 Loading data**"
   ]
  },
  {
   "cell_type": "code",
   "execution_count": 325,
   "id": "777e472d-a14f-42e3-a614-33f632ade259",
   "metadata": {
    "execution": {
     "iopub.execute_input": "2024-02-26T19:06:24.862618Z",
     "iopub.status.busy": "2024-02-26T19:06:24.862185Z",
     "iopub.status.idle": "2024-02-26T19:06:25.102520Z",
     "shell.execute_reply": "2024-02-26T19:06:25.101201Z",
     "shell.execute_reply.started": "2024-02-26T19:06:24.862582Z"
    }
   },
   "outputs": [
    {
     "data": {
      "text/html": [
       "<div>\n",
       "<style scoped>\n",
       "    .dataframe tbody tr th:only-of-type {\n",
       "        vertical-align: middle;\n",
       "    }\n",
       "\n",
       "    .dataframe tbody tr th {\n",
       "        vertical-align: top;\n",
       "    }\n",
       "\n",
       "    .dataframe thead th {\n",
       "        text-align: right;\n",
       "    }\n",
       "</style>\n",
       "<table border=\"1\" class=\"dataframe\">\n",
       "  <thead>\n",
       "    <tr style=\"text-align: right;\">\n",
       "      <th></th>\n",
       "      <th>id</th>\n",
       "      <th>nome</th>\n",
       "      <th>host_id</th>\n",
       "      <th>host_name</th>\n",
       "      <th>bairro_group</th>\n",
       "      <th>bairro</th>\n",
       "      <th>latitude</th>\n",
       "      <th>longitude</th>\n",
       "      <th>room_type</th>\n",
       "      <th>price</th>\n",
       "      <th>minimo_noites</th>\n",
       "      <th>numero_de_reviews</th>\n",
       "      <th>ultima_review</th>\n",
       "      <th>reviews_por_mes</th>\n",
       "      <th>calculado_host_listings_count</th>\n",
       "      <th>disponibilidade_365</th>\n",
       "    </tr>\n",
       "  </thead>\n",
       "  <tbody>\n",
       "    <tr>\n",
       "      <th>0</th>\n",
       "      <td>2595</td>\n",
       "      <td>Skylit Midtown Castle</td>\n",
       "      <td>2845</td>\n",
       "      <td>Jennifer</td>\n",
       "      <td>Manhattan</td>\n",
       "      <td>Midtown</td>\n",
       "      <td>40.75362</td>\n",
       "      <td>-73.98377</td>\n",
       "      <td>Entire home/apt</td>\n",
       "      <td>225</td>\n",
       "      <td>1</td>\n",
       "      <td>45</td>\n",
       "      <td>2019-05-21</td>\n",
       "      <td>0.38</td>\n",
       "      <td>2</td>\n",
       "      <td>355</td>\n",
       "    </tr>\n",
       "    <tr>\n",
       "      <th>1</th>\n",
       "      <td>3647</td>\n",
       "      <td>THE VILLAGE OF HARLEM....NEW YORK !</td>\n",
       "      <td>4632</td>\n",
       "      <td>Elisabeth</td>\n",
       "      <td>Manhattan</td>\n",
       "      <td>Harlem</td>\n",
       "      <td>40.80902</td>\n",
       "      <td>-73.94190</td>\n",
       "      <td>Private room</td>\n",
       "      <td>150</td>\n",
       "      <td>3</td>\n",
       "      <td>0</td>\n",
       "      <td>NaN</td>\n",
       "      <td>NaN</td>\n",
       "      <td>1</td>\n",
       "      <td>365</td>\n",
       "    </tr>\n",
       "    <tr>\n",
       "      <th>2</th>\n",
       "      <td>3831</td>\n",
       "      <td>Cozy Entire Floor of Brownstone</td>\n",
       "      <td>4869</td>\n",
       "      <td>LisaRoxanne</td>\n",
       "      <td>Brooklyn</td>\n",
       "      <td>Clinton Hill</td>\n",
       "      <td>40.68514</td>\n",
       "      <td>-73.95976</td>\n",
       "      <td>Entire home/apt</td>\n",
       "      <td>89</td>\n",
       "      <td>1</td>\n",
       "      <td>270</td>\n",
       "      <td>2019-07-05</td>\n",
       "      <td>4.64</td>\n",
       "      <td>1</td>\n",
       "      <td>194</td>\n",
       "    </tr>\n",
       "    <tr>\n",
       "      <th>3</th>\n",
       "      <td>5022</td>\n",
       "      <td>Entire Apt: Spacious Studio/Loft by central park</td>\n",
       "      <td>7192</td>\n",
       "      <td>Laura</td>\n",
       "      <td>Manhattan</td>\n",
       "      <td>East Harlem</td>\n",
       "      <td>40.79851</td>\n",
       "      <td>-73.94399</td>\n",
       "      <td>Entire home/apt</td>\n",
       "      <td>80</td>\n",
       "      <td>10</td>\n",
       "      <td>9</td>\n",
       "      <td>2018-11-19</td>\n",
       "      <td>0.10</td>\n",
       "      <td>1</td>\n",
       "      <td>0</td>\n",
       "    </tr>\n",
       "    <tr>\n",
       "      <th>4</th>\n",
       "      <td>5099</td>\n",
       "      <td>Large Cozy 1 BR Apartment In Midtown East</td>\n",
       "      <td>7322</td>\n",
       "      <td>Chris</td>\n",
       "      <td>Manhattan</td>\n",
       "      <td>Murray Hill</td>\n",
       "      <td>40.74767</td>\n",
       "      <td>-73.97500</td>\n",
       "      <td>Entire home/apt</td>\n",
       "      <td>200</td>\n",
       "      <td>3</td>\n",
       "      <td>74</td>\n",
       "      <td>2019-06-22</td>\n",
       "      <td>0.59</td>\n",
       "      <td>1</td>\n",
       "      <td>129</td>\n",
       "    </tr>\n",
       "  </tbody>\n",
       "</table>\n",
       "</div>"
      ],
      "text/plain": [
       "     id                                              nome  host_id  \\\n",
       "0  2595                             Skylit Midtown Castle     2845   \n",
       "1  3647               THE VILLAGE OF HARLEM....NEW YORK !     4632   \n",
       "2  3831                   Cozy Entire Floor of Brownstone     4869   \n",
       "3  5022  Entire Apt: Spacious Studio/Loft by central park     7192   \n",
       "4  5099         Large Cozy 1 BR Apartment In Midtown East     7322   \n",
       "\n",
       "     host_name bairro_group        bairro  latitude  longitude  \\\n",
       "0     Jennifer    Manhattan       Midtown  40.75362  -73.98377   \n",
       "1    Elisabeth    Manhattan        Harlem  40.80902  -73.94190   \n",
       "2  LisaRoxanne     Brooklyn  Clinton Hill  40.68514  -73.95976   \n",
       "3        Laura    Manhattan   East Harlem  40.79851  -73.94399   \n",
       "4        Chris    Manhattan   Murray Hill  40.74767  -73.97500   \n",
       "\n",
       "         room_type  price  minimo_noites  numero_de_reviews ultima_review  \\\n",
       "0  Entire home/apt    225              1                 45    2019-05-21   \n",
       "1     Private room    150              3                  0           NaN   \n",
       "2  Entire home/apt     89              1                270    2019-07-05   \n",
       "3  Entire home/apt     80             10                  9    2018-11-19   \n",
       "4  Entire home/apt    200              3                 74    2019-06-22   \n",
       "\n",
       "   reviews_por_mes  calculado_host_listings_count  disponibilidade_365  \n",
       "0             0.38                              2                  355  \n",
       "1              NaN                              1                  365  \n",
       "2             4.64                              1                  194  \n",
       "3             0.10                              1                    0  \n",
       "4             0.59                              1                  129  "
      ]
     },
     "execution_count": 325,
     "metadata": {},
     "output_type": "execute_result"
    }
   ],
   "source": [
    "df_raw=pd.read_csv('../datasets/raw.csv')\n",
    "\n",
    "df_raw.head(5)"
   ]
  },
  {
   "cell_type": "markdown",
   "id": "a2a4ae8e-b1ac-43d9-89d6-c2e3ab692fa4",
   "metadata": {
    "jp-MarkdownHeadingCollapsed": true
   },
   "source": [
    "# **1 Data description**"
   ]
  },
  {
   "cell_type": "markdown",
   "id": "46626e23-aae5-4a5e-af42-bbef2f4a9cef",
   "metadata": {
    "jp-MarkdownHeadingCollapsed": true
   },
   "source": [
    "## **1.1 Dimensions**"
   ]
  },
  {
   "cell_type": "code",
   "execution_count": 326,
   "id": "a509ed1c-580b-4c54-9213-3ad0b8cc687f",
   "metadata": {
    "execution": {
     "iopub.execute_input": "2024-02-26T19:06:25.104870Z",
     "iopub.status.busy": "2024-02-26T19:06:25.104215Z",
     "iopub.status.idle": "2024-02-26T19:06:25.118122Z",
     "shell.execute_reply": "2024-02-26T19:06:25.116943Z",
     "shell.execute_reply.started": "2024-02-26T19:06:25.104813Z"
    }
   },
   "outputs": [],
   "source": [
    "df1=df_raw.copy()"
   ]
  },
  {
   "cell_type": "code",
   "execution_count": 327,
   "id": "f101a43c-d907-4f7f-8398-e71511a73bd0",
   "metadata": {
    "execution": {
     "iopub.execute_input": "2024-02-26T19:06:25.122558Z",
     "iopub.status.busy": "2024-02-26T19:06:25.121416Z",
     "iopub.status.idle": "2024-02-26T19:06:25.129653Z",
     "shell.execute_reply": "2024-02-26T19:06:25.128374Z",
     "shell.execute_reply.started": "2024-02-26T19:06:25.122487Z"
    }
   },
   "outputs": [
    {
     "name": "stdout",
     "output_type": "stream",
     "text": [
      "Number of rows:48894\n",
      "Number of cols:16\n"
     ]
    }
   ],
   "source": [
    "print(f'Number of rows:{df1.shape[0]}')\n",
    "print(f'Number of cols:{df1.shape[1]}')"
   ]
  },
  {
   "cell_type": "markdown",
   "id": "f901fc16-4d4e-4ea1-8361-033e49508276",
   "metadata": {},
   "source": [
    "## **1.2 Data types**"
   ]
  },
  {
   "cell_type": "code",
   "execution_count": 328,
   "id": "1c5d0834-4dc5-4896-900f-7aa60117973e",
   "metadata": {
    "execution": {
     "iopub.execute_input": "2024-02-26T19:06:25.132332Z",
     "iopub.status.busy": "2024-02-26T19:06:25.131484Z",
     "iopub.status.idle": "2024-02-26T19:06:25.140760Z",
     "shell.execute_reply": "2024-02-26T19:06:25.139928Z",
     "shell.execute_reply.started": "2024-02-26T19:06:25.132273Z"
    }
   },
   "outputs": [
    {
     "data": {
      "text/plain": [
       "id                                 int64\n",
       "nome                              object\n",
       "host_id                            int64\n",
       "host_name                         object\n",
       "bairro_group                      object\n",
       "bairro                            object\n",
       "latitude                         float64\n",
       "longitude                        float64\n",
       "room_type                         object\n",
       "price                              int64\n",
       "minimo_noites                      int64\n",
       "numero_de_reviews                  int64\n",
       "ultima_review                     object\n",
       "reviews_por_mes                  float64\n",
       "calculado_host_listings_count      int64\n",
       "disponibilidade_365                int64\n",
       "dtype: object"
      ]
     },
     "execution_count": 328,
     "metadata": {},
     "output_type": "execute_result"
    }
   ],
   "source": [
    "df1.dtypes"
   ]
  },
  {
   "cell_type": "markdown",
   "id": "59df36d4-b3b1-4c3e-bb45-5ff19a65f9a4",
   "metadata": {},
   "source": [
    "### **1.2.2 Change types**"
   ]
  },
  {
   "cell_type": "code",
   "execution_count": 329,
   "id": "1099ae62-47cf-460c-bdf4-f474d552ff75",
   "metadata": {
    "execution": {
     "iopub.execute_input": "2024-02-26T19:06:25.143135Z",
     "iopub.status.busy": "2024-02-26T19:06:25.142388Z",
     "iopub.status.idle": "2024-02-26T19:06:25.168237Z",
     "shell.execute_reply": "2024-02-26T19:06:25.166487Z",
     "shell.execute_reply.started": "2024-02-26T19:06:25.143075Z"
    }
   },
   "outputs": [
    {
     "data": {
      "text/plain": [
       "dtype('<M8[ns]')"
      ]
     },
     "execution_count": 329,
     "metadata": {},
     "output_type": "execute_result"
    }
   ],
   "source": [
    "df1['ultima_review'] = pd.to_datetime(df1['ultima_review'])\n",
    "df1['ultima_review'].dtype"
   ]
  },
  {
   "cell_type": "markdown",
   "id": "e38bf703-94ca-4ebb-8ef5-bf417c52e920",
   "metadata": {
    "jp-MarkdownHeadingCollapsed": true
   },
   "source": [
    "## **1.3 Check na**"
   ]
  },
  {
   "cell_type": "code",
   "execution_count": 330,
   "id": "b97d6f2a-a643-4a5a-9754-6f4ceee570fd",
   "metadata": {
    "execution": {
     "iopub.execute_input": "2024-02-26T19:06:25.170551Z",
     "iopub.status.busy": "2024-02-26T19:06:25.169904Z",
     "iopub.status.idle": "2024-02-26T19:06:25.229234Z",
     "shell.execute_reply": "2024-02-26T19:06:25.227399Z",
     "shell.execute_reply.started": "2024-02-26T19:06:25.170479Z"
    }
   },
   "outputs": [
    {
     "data": {
      "text/plain": [
       "id                                   0\n",
       "nome                                16\n",
       "host_id                              0\n",
       "host_name                           21\n",
       "bairro_group                         0\n",
       "bairro                               0\n",
       "latitude                             0\n",
       "longitude                            0\n",
       "room_type                            0\n",
       "price                                0\n",
       "minimo_noites                        0\n",
       "numero_de_reviews                    0\n",
       "ultima_review                    10052\n",
       "reviews_por_mes                  10052\n",
       "calculado_host_listings_count        0\n",
       "disponibilidade_365                  0\n",
       "dtype: int64"
      ]
     },
     "execution_count": 330,
     "metadata": {},
     "output_type": "execute_result"
    }
   ],
   "source": [
    "df1.isna().sum()"
   ]
  },
  {
   "cell_type": "markdown",
   "id": "e7120007-4f05-4fa0-8b02-d8e60a4be8b2",
   "metadata": {
    "jp-MarkdownHeadingCollapsed": true
   },
   "source": [
    "## **1.4 Fillout/delete na**"
   ]
  },
  {
   "cell_type": "code",
   "execution_count": 331,
   "id": "caa58bd1-234e-4d57-b0cc-05bd399e93e6",
   "metadata": {
    "execution": {
     "iopub.execute_input": "2024-02-26T19:06:25.231911Z",
     "iopub.status.busy": "2024-02-26T19:06:25.231301Z",
     "iopub.status.idle": "2024-02-26T19:06:25.254469Z",
     "shell.execute_reply": "2024-02-26T19:06:25.252866Z",
     "shell.execute_reply.started": "2024-02-26T19:06:25.231837Z"
    }
   },
   "outputs": [
    {
     "name": "stdout",
     "output_type": "stream",
     "text": [
      "10052\n",
      "10052\n",
      "10052\n"
     ]
    },
    {
     "data": {
      "text/plain": [
       "array([nan])"
      ]
     },
     "execution_count": 331,
     "metadata": {},
     "output_type": "execute_result"
    }
   ],
   "source": [
    "# ultima_review/reviews_por_mes\n",
    "aux=df1[df1['numero_de_reviews']==0]\n",
    "\n",
    "print(len(aux))\n",
    "\n",
    "print(aux['ultima_review'].isna().sum())\n",
    "print(aux['reviews_por_mes'].isna().sum())\n",
    "\n",
    "aux['reviews_por_mes'].unique()\n",
    "\n",
    "# se não há reviews, ultima_review e reviews_por_mes são vazios"
   ]
  },
  {
   "cell_type": "code",
   "execution_count": 332,
   "id": "a46597f8-a10a-473a-8b69-36d08e39f091",
   "metadata": {
    "execution": {
     "iopub.execute_input": "2024-02-26T19:06:25.256587Z",
     "iopub.status.busy": "2024-02-26T19:06:25.256102Z",
     "iopub.status.idle": "2024-02-26T19:06:25.272138Z",
     "shell.execute_reply": "2024-02-26T19:06:25.269969Z",
     "shell.execute_reply.started": "2024-02-26T19:06:25.256550Z"
    }
   },
   "outputs": [
    {
     "name": "stdout",
     "output_type": "stream",
     "text": [
      "0\n",
      "0.0\n"
     ]
    }
   ],
   "source": [
    "# substituir todos os NA de reviews_por_mes por 0\n",
    "\n",
    "df1['reviews_por_mes'] = np.where(df1['reviews_por_mes'].isna(), 0, df1['reviews_por_mes'])\n",
    "print(df1['reviews_por_mes'].isna().sum())\n",
    "print(df1['reviews_por_mes'].min())"
   ]
  },
  {
   "cell_type": "code",
   "execution_count": 333,
   "id": "d61b13b7-3475-4bf9-8cd6-eba541423965",
   "metadata": {
    "execution": {
     "iopub.execute_input": "2024-02-26T19:06:25.280313Z",
     "iopub.status.busy": "2024-02-26T19:06:25.279835Z",
     "iopub.status.idle": "2024-02-26T19:06:25.286289Z",
     "shell.execute_reply": "2024-02-26T19:06:25.284887Z",
     "shell.execute_reply.started": "2024-02-26T19:06:25.280276Z"
    }
   },
   "outputs": [],
   "source": [
    "# ultima_review será mantida com os nans por hora, talvez seja possível excluir a variável futuramente"
   ]
  },
  {
   "cell_type": "code",
   "execution_count": 334,
   "id": "7d0ddd0c-8b16-4368-b17e-2686c60f5ae4",
   "metadata": {
    "execution": {
     "iopub.execute_input": "2024-02-26T19:06:25.288698Z",
     "iopub.status.busy": "2024-02-26T19:06:25.288134Z",
     "iopub.status.idle": "2024-02-26T19:06:25.335096Z",
     "shell.execute_reply": "2024-02-26T19:06:25.333312Z",
     "shell.execute_reply.started": "2024-02-26T19:06:25.288656Z"
    }
   },
   "outputs": [
    {
     "name": "stdout",
     "output_type": "stream",
     "text": [
      "0\n",
      "0\n"
     ]
    }
   ],
   "source": [
    "# substituir as linhas com nans em nome e host_name por 'desconhecido'\n",
    "\n",
    "cols = ['nome','host_name']\n",
    "df1[cols] = np.where(df1[cols].isna(), 'desconhecido', df1[cols])\n",
    "\n",
    "print(df1['nome'].isna().sum())\n",
    "print(df1['host_name'].isna().sum())"
   ]
  },
  {
   "cell_type": "markdown",
   "id": "aa943d2f-5add-44aa-ace4-8b860f1eda72",
   "metadata": {},
   "source": [
    "## **1.5 Descriptive statistics**"
   ]
  },
  {
   "cell_type": "markdown",
   "id": "e413061b-0d8c-4f36-8372-3edc53df2ff7",
   "metadata": {
    "jp-MarkdownHeadingCollapsed": true
   },
   "source": [
    "### **1.5.1 Numeric**"
   ]
  },
  {
   "cell_type": "code",
   "execution_count": 335,
   "id": "377f51c4-f18e-4724-b4c4-ff525a5c8ac6",
   "metadata": {
    "execution": {
     "iopub.execute_input": "2024-02-26T19:06:25.337237Z",
     "iopub.status.busy": "2024-02-26T19:06:25.336708Z",
     "iopub.status.idle": "2024-02-26T19:06:25.436798Z",
     "shell.execute_reply": "2024-02-26T19:06:25.435349Z",
     "shell.execute_reply.started": "2024-02-26T19:06:25.337167Z"
    }
   },
   "outputs": [
    {
     "data": {
      "text/html": [
       "<div>\n",
       "<style scoped>\n",
       "    .dataframe tbody tr th:only-of-type {\n",
       "        vertical-align: middle;\n",
       "    }\n",
       "\n",
       "    .dataframe tbody tr th {\n",
       "        vertical-align: top;\n",
       "    }\n",
       "\n",
       "    .dataframe thead th {\n",
       "        text-align: right;\n",
       "    }\n",
       "</style>\n",
       "<table border=\"1\" class=\"dataframe\">\n",
       "  <thead>\n",
       "    <tr style=\"text-align: right;\">\n",
       "      <th></th>\n",
       "      <th>attributes</th>\n",
       "      <th>count</th>\n",
       "      <th>mean</th>\n",
       "      <th>min</th>\n",
       "      <th>25%</th>\n",
       "      <th>50%</th>\n",
       "      <th>75%</th>\n",
       "      <th>max</th>\n",
       "      <th>std</th>\n",
       "    </tr>\n",
       "  </thead>\n",
       "  <tbody>\n",
       "    <tr>\n",
       "      <th>0</th>\n",
       "      <td>id</td>\n",
       "      <td>48894.0</td>\n",
       "      <td>19017532.130609</td>\n",
       "      <td>2595.0</td>\n",
       "      <td>9472370.75</td>\n",
       "      <td>19677431.5</td>\n",
       "      <td>29152249.25</td>\n",
       "      <td>36487245.0</td>\n",
       "      <td>10982884.048876</td>\n",
       "    </tr>\n",
       "    <tr>\n",
       "      <th>1</th>\n",
       "      <td>host_id</td>\n",
       "      <td>48894.0</td>\n",
       "      <td>67621393.581605</td>\n",
       "      <td>2438.0</td>\n",
       "      <td>7822736.75</td>\n",
       "      <td>30795529.0</td>\n",
       "      <td>107434423.0</td>\n",
       "      <td>274321313.0</td>\n",
       "      <td>78611176.150486</td>\n",
       "    </tr>\n",
       "    <tr>\n",
       "      <th>2</th>\n",
       "      <td>latitude</td>\n",
       "      <td>48894.0</td>\n",
       "      <td>40.728951</td>\n",
       "      <td>40.49979</td>\n",
       "      <td>40.6901</td>\n",
       "      <td>40.723075</td>\n",
       "      <td>40.763117</td>\n",
       "      <td>40.91306</td>\n",
       "      <td>0.054529</td>\n",
       "    </tr>\n",
       "    <tr>\n",
       "      <th>3</th>\n",
       "      <td>longitude</td>\n",
       "      <td>48894.0</td>\n",
       "      <td>-73.952169</td>\n",
       "      <td>-74.24442</td>\n",
       "      <td>-73.98307</td>\n",
       "      <td>-73.95568</td>\n",
       "      <td>-73.936273</td>\n",
       "      <td>-73.71299</td>\n",
       "      <td>0.046157</td>\n",
       "    </tr>\n",
       "    <tr>\n",
       "      <th>4</th>\n",
       "      <td>price</td>\n",
       "      <td>48894.0</td>\n",
       "      <td>152.720763</td>\n",
       "      <td>0.0</td>\n",
       "      <td>69.0</td>\n",
       "      <td>106.0</td>\n",
       "      <td>175.0</td>\n",
       "      <td>10000.0</td>\n",
       "      <td>240.156625</td>\n",
       "    </tr>\n",
       "    <tr>\n",
       "      <th>5</th>\n",
       "      <td>minimo_noites</td>\n",
       "      <td>48894.0</td>\n",
       "      <td>7.030085</td>\n",
       "      <td>1.0</td>\n",
       "      <td>1.0</td>\n",
       "      <td>3.0</td>\n",
       "      <td>5.0</td>\n",
       "      <td>1250.0</td>\n",
       "      <td>20.510741</td>\n",
       "    </tr>\n",
       "    <tr>\n",
       "      <th>6</th>\n",
       "      <td>numero_de_reviews</td>\n",
       "      <td>48894.0</td>\n",
       "      <td>23.274758</td>\n",
       "      <td>0.0</td>\n",
       "      <td>1.0</td>\n",
       "      <td>5.0</td>\n",
       "      <td>24.0</td>\n",
       "      <td>629.0</td>\n",
       "      <td>44.550991</td>\n",
       "    </tr>\n",
       "    <tr>\n",
       "      <th>7</th>\n",
       "      <td>ultima_review</td>\n",
       "      <td>38842</td>\n",
       "      <td>2018-10-04 01:46:50.710055936</td>\n",
       "      <td>2011-03-28 00:00:00</td>\n",
       "      <td>2018-07-08 00:00:00</td>\n",
       "      <td>2019-05-19 00:00:00</td>\n",
       "      <td>2019-06-23 00:00:00</td>\n",
       "      <td>2019-07-08 00:00:00</td>\n",
       "      <td>NaN</td>\n",
       "    </tr>\n",
       "    <tr>\n",
       "      <th>8</th>\n",
       "      <td>reviews_por_mes</td>\n",
       "      <td>48894.0</td>\n",
       "      <td>1.090928</td>\n",
       "      <td>0.0</td>\n",
       "      <td>0.04</td>\n",
       "      <td>0.37</td>\n",
       "      <td>1.58</td>\n",
       "      <td>58.5</td>\n",
       "      <td>1.597294</td>\n",
       "    </tr>\n",
       "    <tr>\n",
       "      <th>9</th>\n",
       "      <td>calculado_host_listings_count</td>\n",
       "      <td>48894.0</td>\n",
       "      <td>7.144005</td>\n",
       "      <td>1.0</td>\n",
       "      <td>1.0</td>\n",
       "      <td>1.0</td>\n",
       "      <td>2.0</td>\n",
       "      <td>327.0</td>\n",
       "      <td>32.952855</td>\n",
       "    </tr>\n",
       "    <tr>\n",
       "      <th>10</th>\n",
       "      <td>disponibilidade_365</td>\n",
       "      <td>48894.0</td>\n",
       "      <td>112.776169</td>\n",
       "      <td>0.0</td>\n",
       "      <td>0.0</td>\n",
       "      <td>45.0</td>\n",
       "      <td>227.0</td>\n",
       "      <td>365.0</td>\n",
       "      <td>131.618692</td>\n",
       "    </tr>\n",
       "  </tbody>\n",
       "</table>\n",
       "</div>"
      ],
      "text/plain": [
       "                       attributes    count                           mean  \\\n",
       "0                              id  48894.0                19017532.130609   \n",
       "1                         host_id  48894.0                67621393.581605   \n",
       "2                        latitude  48894.0                      40.728951   \n",
       "3                       longitude  48894.0                     -73.952169   \n",
       "4                           price  48894.0                     152.720763   \n",
       "5                   minimo_noites  48894.0                       7.030085   \n",
       "6               numero_de_reviews  48894.0                      23.274758   \n",
       "7                   ultima_review    38842  2018-10-04 01:46:50.710055936   \n",
       "8                 reviews_por_mes  48894.0                       1.090928   \n",
       "9   calculado_host_listings_count  48894.0                       7.144005   \n",
       "10            disponibilidade_365  48894.0                     112.776169   \n",
       "\n",
       "                    min                  25%                  50%  \\\n",
       "0                2595.0           9472370.75           19677431.5   \n",
       "1                2438.0           7822736.75           30795529.0   \n",
       "2              40.49979              40.6901            40.723075   \n",
       "3             -74.24442            -73.98307            -73.95568   \n",
       "4                   0.0                 69.0                106.0   \n",
       "5                   1.0                  1.0                  3.0   \n",
       "6                   0.0                  1.0                  5.0   \n",
       "7   2011-03-28 00:00:00  2018-07-08 00:00:00  2019-05-19 00:00:00   \n",
       "8                   0.0                 0.04                 0.37   \n",
       "9                   1.0                  1.0                  1.0   \n",
       "10                  0.0                  0.0                 45.0   \n",
       "\n",
       "                    75%                  max              std  \n",
       "0           29152249.25           36487245.0  10982884.048876  \n",
       "1           107434423.0          274321313.0  78611176.150486  \n",
       "2             40.763117             40.91306         0.054529  \n",
       "3            -73.936273            -73.71299         0.046157  \n",
       "4                 175.0              10000.0       240.156625  \n",
       "5                   5.0               1250.0        20.510741  \n",
       "6                  24.0                629.0        44.550991  \n",
       "7   2019-06-23 00:00:00  2019-07-08 00:00:00              NaN  \n",
       "8                  1.58                 58.5         1.597294  \n",
       "9                   2.0                327.0        32.952855  \n",
       "10                227.0                365.0       131.618692  "
      ]
     },
     "execution_count": 335,
     "metadata": {},
     "output_type": "execute_result"
    }
   ],
   "source": [
    "desc = df1.describe().T.reset_index()\n",
    "desc.columns = ['attributes', 'count', 'mean', 'min', '25%', '50%', '75%', 'max', 'std']\n",
    "\n",
    "desc"
   ]
  },
  {
   "cell_type": "markdown",
   "id": "3c9cdd7c-beac-4116-9aba-cce8b22c8218",
   "metadata": {
    "jp-MarkdownHeadingCollapsed": true
   },
   "source": [
    "### **1.5.2 Categorical**"
   ]
  },
  {
   "cell_type": "code",
   "execution_count": 336,
   "id": "8ea32d41-5380-431a-b0a0-f82bb0624906",
   "metadata": {
    "execution": {
     "iopub.execute_input": "2024-02-26T19:06:25.439523Z",
     "iopub.status.busy": "2024-02-26T19:06:25.438376Z",
     "iopub.status.idle": "2024-02-26T19:06:25.483698Z",
     "shell.execute_reply": "2024-02-26T19:06:25.482304Z",
     "shell.execute_reply.started": "2024-02-26T19:06:25.439464Z"
    }
   },
   "outputs": [
    {
     "name": "stdout",
     "output_type": "stream",
     "text": [
      "Nomes únicos: 47905\n",
      "Host_names únicos: 11453\n",
      "Bairro_groups únicos: 5\n",
      "Bairros únicos: 221\n",
      "Room_types únicos: 3\n"
     ]
    }
   ],
   "source": [
    "colunas = ['nome', 'host_name', 'bairro_group', 'bairro', 'room_type']\n",
    "\n",
    "for coluna in colunas:\n",
    "    print(f\"{coluna.capitalize()}s únicos: {len(df1[coluna].unique())}\")"
   ]
  },
  {
   "cell_type": "markdown",
   "id": "37d680a2-9e4c-4e5d-8a50-729c43910ba9",
   "metadata": {},
   "source": [
    "# **<s>2 Feature engineering</s>**"
   ]
  },
  {
   "cell_type": "code",
   "execution_count": 337,
   "id": "7afc3c2e-5716-4694-a52a-6d9e8b9e8fb0",
   "metadata": {
    "execution": {
     "iopub.execute_input": "2024-02-26T19:06:25.485374Z",
     "iopub.status.busy": "2024-02-26T19:06:25.484966Z",
     "iopub.status.idle": "2024-02-26T19:06:25.504961Z",
     "shell.execute_reply": "2024-02-26T19:06:25.503574Z",
     "shell.execute_reply.started": "2024-02-26T19:06:25.485340Z"
    }
   },
   "outputs": [],
   "source": [
    "df2=df1.copy()"
   ]
  },
  {
   "cell_type": "markdown",
   "id": "f9761f60-68f4-42b8-b77b-10558949fe1a",
   "metadata": {
    "jp-MarkdownHeadingCollapsed": true
   },
   "source": [
    "## **Train, validation, test separation**"
   ]
  },
  {
   "cell_type": "code",
   "execution_count": 338,
   "id": "419ceace-5097-4076-8b04-5302879835ef",
   "metadata": {
    "execution": {
     "iopub.execute_input": "2024-02-26T19:06:25.507352Z",
     "iopub.status.busy": "2024-02-26T19:06:25.506680Z",
     "iopub.status.idle": "2024-02-26T19:06:25.597826Z",
     "shell.execute_reply": "2024-02-26T19:06:25.596107Z",
     "shell.execute_reply.started": "2024-02-26T19:06:25.507276Z"
    }
   },
   "outputs": [
    {
     "name": "stdout",
     "output_type": "stream",
     "text": [
      "39115\n",
      "39115\n",
      "4889\n",
      "4890\n",
      "39115\n",
      "4889\n",
      "4890\n"
     ]
    }
   ],
   "source": [
    "x_train, y_train, x_val, y_val, x_test, y_test = train_valid_test_split(df2, \n",
    "                                                        target = 'price', \n",
    "                                                        train_size=0.8, valid_size=0.1, test_size=0.1,\n",
    "                                                        random_state=42)\n",
    "\n",
    "df2=pd.concat ([x_train, y_train], axis=1).reset_index(drop=True) \n",
    "\n",
    "print(len(df2))\n",
    "print(len(x_train))\n",
    "print(len(x_val))\n",
    "print(len(x_test))\n",
    "print(len(y_train))\n",
    "print(len(y_val))\n",
    "print(len(y_test))"
   ]
  },
  {
   "cell_type": "markdown",
   "id": "ad1b47c4-41fa-43d2-898e-6b1708d433d0",
   "metadata": {
    "jp-MarkdownHeadingCollapsed": true
   },
   "source": [
    "# **3 Variable filtering**<s/>"
   ]
  },
  {
   "cell_type": "code",
   "execution_count": 339,
   "id": "53df1156-348c-4f5a-a752-c36c6eb3936c",
   "metadata": {
    "execution": {
     "iopub.execute_input": "2024-02-26T19:06:25.600545Z",
     "iopub.status.busy": "2024-02-26T19:06:25.599947Z",
     "iopub.status.idle": "2024-02-26T19:06:25.615798Z",
     "shell.execute_reply": "2024-02-26T19:06:25.612728Z",
     "shell.execute_reply.started": "2024-02-26T19:06:25.600484Z"
    }
   },
   "outputs": [],
   "source": [
    "df3=df2.copy()"
   ]
  },
  {
   "cell_type": "code",
   "execution_count": 340,
   "id": "dc508610-eec7-496b-af1f-e4e502562fde",
   "metadata": {
    "execution": {
     "iopub.execute_input": "2024-02-26T19:06:25.618219Z",
     "iopub.status.busy": "2024-02-26T19:06:25.617826Z",
     "iopub.status.idle": "2024-02-26T19:06:25.651317Z",
     "shell.execute_reply": "2024-02-26T19:06:25.649471Z",
     "shell.execute_reply.started": "2024-02-26T19:06:25.618182Z"
    }
   },
   "outputs": [
    {
     "data": {
      "text/html": [
       "<div>\n",
       "<style scoped>\n",
       "    .dataframe tbody tr th:only-of-type {\n",
       "        vertical-align: middle;\n",
       "    }\n",
       "\n",
       "    .dataframe tbody tr th {\n",
       "        vertical-align: top;\n",
       "    }\n",
       "\n",
       "    .dataframe thead th {\n",
       "        text-align: right;\n",
       "    }\n",
       "</style>\n",
       "<table border=\"1\" class=\"dataframe\">\n",
       "  <thead>\n",
       "    <tr style=\"text-align: right;\">\n",
       "      <th></th>\n",
       "      <th>price</th>\n",
       "      <th>bairro_group</th>\n",
       "      <th>room_type</th>\n",
       "    </tr>\n",
       "  </thead>\n",
       "  <tbody>\n",
       "    <tr>\n",
       "      <th>7477</th>\n",
       "      <td>10000</td>\n",
       "      <td>Queens</td>\n",
       "      <td>Private room</td>\n",
       "    </tr>\n",
       "    <tr>\n",
       "      <th>18448</th>\n",
       "      <td>10000</td>\n",
       "      <td>Brooklyn</td>\n",
       "      <td>Entire home/apt</td>\n",
       "    </tr>\n",
       "    <tr>\n",
       "      <th>12442</th>\n",
       "      <td>10000</td>\n",
       "      <td>Manhattan</td>\n",
       "      <td>Entire home/apt</td>\n",
       "    </tr>\n",
       "    <tr>\n",
       "      <th>22269</th>\n",
       "      <td>9999</td>\n",
       "      <td>Manhattan</td>\n",
       "      <td>Entire home/apt</td>\n",
       "    </tr>\n",
       "    <tr>\n",
       "      <th>19411</th>\n",
       "      <td>8500</td>\n",
       "      <td>Manhattan</td>\n",
       "      <td>Entire home/apt</td>\n",
       "    </tr>\n",
       "    <tr>\n",
       "      <th>8605</th>\n",
       "      <td>8000</td>\n",
       "      <td>Brooklyn</td>\n",
       "      <td>Entire home/apt</td>\n",
       "    </tr>\n",
       "    <tr>\n",
       "      <th>31581</th>\n",
       "      <td>7703</td>\n",
       "      <td>Manhattan</td>\n",
       "      <td>Entire home/apt</td>\n",
       "    </tr>\n",
       "    <tr>\n",
       "      <th>25182</th>\n",
       "      <td>7500</td>\n",
       "      <td>Manhattan</td>\n",
       "      <td>Entire home/apt</td>\n",
       "    </tr>\n",
       "    <tr>\n",
       "      <th>34924</th>\n",
       "      <td>7500</td>\n",
       "      <td>Brooklyn</td>\n",
       "      <td>Private room</td>\n",
       "    </tr>\n",
       "    <tr>\n",
       "      <th>19172</th>\n",
       "      <td>6800</td>\n",
       "      <td>Manhattan</td>\n",
       "      <td>Entire home/apt</td>\n",
       "    </tr>\n",
       "    <tr>\n",
       "      <th>26025</th>\n",
       "      <td>6500</td>\n",
       "      <td>Manhattan</td>\n",
       "      <td>Private room</td>\n",
       "    </tr>\n",
       "    <tr>\n",
       "      <th>24364</th>\n",
       "      <td>6500</td>\n",
       "      <td>Brooklyn</td>\n",
       "      <td>Entire home/apt</td>\n",
       "    </tr>\n",
       "    <tr>\n",
       "      <th>18869</th>\n",
       "      <td>6419</td>\n",
       "      <td>Manhattan</td>\n",
       "      <td>Entire home/apt</td>\n",
       "    </tr>\n",
       "    <tr>\n",
       "      <th>27607</th>\n",
       "      <td>6000</td>\n",
       "      <td>Manhattan</td>\n",
       "      <td>Entire home/apt</td>\n",
       "    </tr>\n",
       "    <tr>\n",
       "      <th>8454</th>\n",
       "      <td>6000</td>\n",
       "      <td>Manhattan</td>\n",
       "      <td>Entire home/apt</td>\n",
       "    </tr>\n",
       "    <tr>\n",
       "      <th>71</th>\n",
       "      <td>5250</td>\n",
       "      <td>Manhattan</td>\n",
       "      <td>Entire home/apt</td>\n",
       "    </tr>\n",
       "    <tr>\n",
       "      <th>14595</th>\n",
       "      <td>5100</td>\n",
       "      <td>Manhattan</td>\n",
       "      <td>Entire home/apt</td>\n",
       "    </tr>\n",
       "    <tr>\n",
       "      <th>7668</th>\n",
       "      <td>5000</td>\n",
       "      <td>Manhattan</td>\n",
       "      <td>Entire home/apt</td>\n",
       "    </tr>\n",
       "    <tr>\n",
       "      <th>10984</th>\n",
       "      <td>5000</td>\n",
       "      <td>Brooklyn</td>\n",
       "      <td>Private room</td>\n",
       "    </tr>\n",
       "    <tr>\n",
       "      <th>14707</th>\n",
       "      <td>5000</td>\n",
       "      <td>Staten Island</td>\n",
       "      <td>Entire home/apt</td>\n",
       "    </tr>\n",
       "    <tr>\n",
       "      <th>31209</th>\n",
       "      <td>5000</td>\n",
       "      <td>Manhattan</td>\n",
       "      <td>Entire home/apt</td>\n",
       "    </tr>\n",
       "    <tr>\n",
       "      <th>5162</th>\n",
       "      <td>5000</td>\n",
       "      <td>Brooklyn</td>\n",
       "      <td>Entire home/apt</td>\n",
       "    </tr>\n",
       "    <tr>\n",
       "      <th>9496</th>\n",
       "      <td>4500</td>\n",
       "      <td>Brooklyn</td>\n",
       "      <td>Entire home/apt</td>\n",
       "    </tr>\n",
       "    <tr>\n",
       "      <th>26549</th>\n",
       "      <td>4200</td>\n",
       "      <td>Brooklyn</td>\n",
       "      <td>Private room</td>\n",
       "    </tr>\n",
       "    <tr>\n",
       "      <th>4085</th>\n",
       "      <td>4200</td>\n",
       "      <td>Brooklyn</td>\n",
       "      <td>Entire home/apt</td>\n",
       "    </tr>\n",
       "    <tr>\n",
       "      <th>24770</th>\n",
       "      <td>4160</td>\n",
       "      <td>Manhattan</td>\n",
       "      <td>Entire home/apt</td>\n",
       "    </tr>\n",
       "    <tr>\n",
       "      <th>19341</th>\n",
       "      <td>4100</td>\n",
       "      <td>Manhattan</td>\n",
       "      <td>Entire home/apt</td>\n",
       "    </tr>\n",
       "    <tr>\n",
       "      <th>16859</th>\n",
       "      <td>4000</td>\n",
       "      <td>Brooklyn</td>\n",
       "      <td>Entire home/apt</td>\n",
       "    </tr>\n",
       "    <tr>\n",
       "      <th>8302</th>\n",
       "      <td>4000</td>\n",
       "      <td>Manhattan</td>\n",
       "      <td>Entire home/apt</td>\n",
       "    </tr>\n",
       "    <tr>\n",
       "      <th>2293</th>\n",
       "      <td>3900</td>\n",
       "      <td>Manhattan</td>\n",
       "      <td>Entire home/apt</td>\n",
       "    </tr>\n",
       "    <tr>\n",
       "      <th>7771</th>\n",
       "      <td>3800</td>\n",
       "      <td>Manhattan</td>\n",
       "      <td>Entire home/apt</td>\n",
       "    </tr>\n",
       "    <tr>\n",
       "      <th>9309</th>\n",
       "      <td>3750</td>\n",
       "      <td>Manhattan</td>\n",
       "      <td>Entire home/apt</td>\n",
       "    </tr>\n",
       "    <tr>\n",
       "      <th>38570</th>\n",
       "      <td>3750</td>\n",
       "      <td>Manhattan</td>\n",
       "      <td>Entire home/apt</td>\n",
       "    </tr>\n",
       "    <tr>\n",
       "      <th>16400</th>\n",
       "      <td>3613</td>\n",
       "      <td>Manhattan</td>\n",
       "      <td>Entire home/apt</td>\n",
       "    </tr>\n",
       "    <tr>\n",
       "      <th>30818</th>\n",
       "      <td>3600</td>\n",
       "      <td>Manhattan</td>\n",
       "      <td>Entire home/apt</td>\n",
       "    </tr>\n",
       "    <tr>\n",
       "      <th>17984</th>\n",
       "      <td>3518</td>\n",
       "      <td>Manhattan</td>\n",
       "      <td>Entire home/apt</td>\n",
       "    </tr>\n",
       "    <tr>\n",
       "      <th>26590</th>\n",
       "      <td>3512</td>\n",
       "      <td>Manhattan</td>\n",
       "      <td>Entire home/apt</td>\n",
       "    </tr>\n",
       "    <tr>\n",
       "      <th>5745</th>\n",
       "      <td>3210</td>\n",
       "      <td>Manhattan</td>\n",
       "      <td>Private room</td>\n",
       "    </tr>\n",
       "    <tr>\n",
       "      <th>14957</th>\n",
       "      <td>3200</td>\n",
       "      <td>Manhattan</td>\n",
       "      <td>Entire home/apt</td>\n",
       "    </tr>\n",
       "    <tr>\n",
       "      <th>22295</th>\n",
       "      <td>3000</td>\n",
       "      <td>Manhattan</td>\n",
       "      <td>Entire home/apt</td>\n",
       "    </tr>\n",
       "    <tr>\n",
       "      <th>19754</th>\n",
       "      <td>3000</td>\n",
       "      <td>Manhattan</td>\n",
       "      <td>Entire home/apt</td>\n",
       "    </tr>\n",
       "    <tr>\n",
       "      <th>7090</th>\n",
       "      <td>3000</td>\n",
       "      <td>Manhattan</td>\n",
       "      <td>Entire home/apt</td>\n",
       "    </tr>\n",
       "    <tr>\n",
       "      <th>6058</th>\n",
       "      <td>3000</td>\n",
       "      <td>Manhattan</td>\n",
       "      <td>Private room</td>\n",
       "    </tr>\n",
       "    <tr>\n",
       "      <th>16709</th>\n",
       "      <td>3000</td>\n",
       "      <td>Manhattan</td>\n",
       "      <td>Private room</td>\n",
       "    </tr>\n",
       "    <tr>\n",
       "      <th>6149</th>\n",
       "      <td>3000</td>\n",
       "      <td>Brooklyn</td>\n",
       "      <td>Private room</td>\n",
       "    </tr>\n",
       "    <tr>\n",
       "      <th>2693</th>\n",
       "      <td>3000</td>\n",
       "      <td>Manhattan</td>\n",
       "      <td>Entire home/apt</td>\n",
       "    </tr>\n",
       "    <tr>\n",
       "      <th>15272</th>\n",
       "      <td>2999</td>\n",
       "      <td>Manhattan</td>\n",
       "      <td>Entire home/apt</td>\n",
       "    </tr>\n",
       "    <tr>\n",
       "      <th>2690</th>\n",
       "      <td>2999</td>\n",
       "      <td>Manhattan</td>\n",
       "      <td>Entire home/apt</td>\n",
       "    </tr>\n",
       "    <tr>\n",
       "      <th>36195</th>\n",
       "      <td>2995</td>\n",
       "      <td>Manhattan</td>\n",
       "      <td>Entire home/apt</td>\n",
       "    </tr>\n",
       "    <tr>\n",
       "      <th>26849</th>\n",
       "      <td>2990</td>\n",
       "      <td>Manhattan</td>\n",
       "      <td>Entire home/apt</td>\n",
       "    </tr>\n",
       "  </tbody>\n",
       "</table>\n",
       "</div>"
      ],
      "text/plain": [
       "       price   bairro_group        room_type\n",
       "7477   10000         Queens     Private room\n",
       "18448  10000       Brooklyn  Entire home/apt\n",
       "12442  10000      Manhattan  Entire home/apt\n",
       "22269   9999      Manhattan  Entire home/apt\n",
       "19411   8500      Manhattan  Entire home/apt\n",
       "8605    8000       Brooklyn  Entire home/apt\n",
       "31581   7703      Manhattan  Entire home/apt\n",
       "25182   7500      Manhattan  Entire home/apt\n",
       "34924   7500       Brooklyn     Private room\n",
       "19172   6800      Manhattan  Entire home/apt\n",
       "26025   6500      Manhattan     Private room\n",
       "24364   6500       Brooklyn  Entire home/apt\n",
       "18869   6419      Manhattan  Entire home/apt\n",
       "27607   6000      Manhattan  Entire home/apt\n",
       "8454    6000      Manhattan  Entire home/apt\n",
       "71      5250      Manhattan  Entire home/apt\n",
       "14595   5100      Manhattan  Entire home/apt\n",
       "7668    5000      Manhattan  Entire home/apt\n",
       "10984   5000       Brooklyn     Private room\n",
       "14707   5000  Staten Island  Entire home/apt\n",
       "31209   5000      Manhattan  Entire home/apt\n",
       "5162    5000       Brooklyn  Entire home/apt\n",
       "9496    4500       Brooklyn  Entire home/apt\n",
       "26549   4200       Brooklyn     Private room\n",
       "4085    4200       Brooklyn  Entire home/apt\n",
       "24770   4160      Manhattan  Entire home/apt\n",
       "19341   4100      Manhattan  Entire home/apt\n",
       "16859   4000       Brooklyn  Entire home/apt\n",
       "8302    4000      Manhattan  Entire home/apt\n",
       "2293    3900      Manhattan  Entire home/apt\n",
       "7771    3800      Manhattan  Entire home/apt\n",
       "9309    3750      Manhattan  Entire home/apt\n",
       "38570   3750      Manhattan  Entire home/apt\n",
       "16400   3613      Manhattan  Entire home/apt\n",
       "30818   3600      Manhattan  Entire home/apt\n",
       "17984   3518      Manhattan  Entire home/apt\n",
       "26590   3512      Manhattan  Entire home/apt\n",
       "5745    3210      Manhattan     Private room\n",
       "14957   3200      Manhattan  Entire home/apt\n",
       "22295   3000      Manhattan  Entire home/apt\n",
       "19754   3000      Manhattan  Entire home/apt\n",
       "7090    3000      Manhattan  Entire home/apt\n",
       "6058    3000      Manhattan     Private room\n",
       "16709   3000      Manhattan     Private room\n",
       "6149    3000       Brooklyn     Private room\n",
       "2693    3000      Manhattan  Entire home/apt\n",
       "15272   2999      Manhattan  Entire home/apt\n",
       "2690    2999      Manhattan  Entire home/apt\n",
       "36195   2995      Manhattan  Entire home/apt\n",
       "26849   2990      Manhattan  Entire home/apt"
      ]
     },
     "execution_count": 340,
     "metadata": {},
     "output_type": "execute_result"
    }
   ],
   "source": [
    "# tirar outliers do price \n",
    "\n",
    "df3[['price','bairro_group','room_type']].sort_values('price',ascending=False).head(50)"
   ]
  },
  {
   "cell_type": "code",
   "execution_count": 341,
   "id": "6b881bba-6715-4d75-a0c0-bc452bf00ba3",
   "metadata": {
    "execution": {
     "iopub.execute_input": "2024-02-26T19:06:25.656086Z",
     "iopub.status.busy": "2024-02-26T19:06:25.653037Z",
     "iopub.status.idle": "2024-02-26T19:06:25.704236Z",
     "shell.execute_reply": "2024-02-26T19:06:25.702507Z",
     "shell.execute_reply.started": "2024-02-26T19:06:25.656005Z"
    }
   },
   "outputs": [
    {
     "name": "stdout",
     "output_type": "stream",
     "text": [
      "19129\n",
      "17260\n",
      "1868\n",
      "373\n",
      "191\n",
      "109\n",
      "109\n"
     ]
    }
   ],
   "source": [
    "print(len(df3[df3['price']<=100]))\n",
    "print(len(df3[(df3['price']>100)  & (df3['price'] <=300)]))\n",
    "print(len(df3[(df3['price']>300)  & (df3['price'] <=500)]))\n",
    "print(len(df3[(df3['price']>500)  & (df3['price'] <=700)]))\n",
    "print(len(df3[(df3['price']>700)  & (df3['price'] <=900)]))\n",
    "print(len(df3[(df3['price']>900)  & (df3['price'] <=1100)]))\n",
    "print(len(df3[(df3['price']>900)  & (df3['price'] <=1100)]))"
   ]
  },
  {
   "cell_type": "code",
   "execution_count": 342,
   "id": "f488aba8-b46c-4160-a2a7-fa7dfa1167a5",
   "metadata": {
    "execution": {
     "iopub.execute_input": "2024-02-26T19:06:25.706659Z",
     "iopub.status.busy": "2024-02-26T19:06:25.706057Z",
     "iopub.status.idle": "2024-02-26T19:06:25.722032Z",
     "shell.execute_reply": "2024-02-26T19:06:25.720652Z",
     "shell.execute_reply.started": "2024-02-26T19:06:25.706595Z"
    }
   },
   "outputs": [],
   "source": [
    "df3=df3[df3['price']<5000]"
   ]
  },
  {
   "cell_type": "code",
   "execution_count": 343,
   "id": "38824c8e-83e4-453f-9aef-a2df1c612b2f",
   "metadata": {
    "execution": {
     "iopub.execute_input": "2024-02-26T19:06:25.726203Z",
     "iopub.status.busy": "2024-02-26T19:06:25.724522Z",
     "iopub.status.idle": "2024-02-26T19:06:25.915092Z",
     "shell.execute_reply": "2024-02-26T19:06:25.913317Z",
     "shell.execute_reply.started": "2024-02-26T19:06:25.726125Z"
    }
   },
   "outputs": [],
   "source": [
    "# substituir os preços igual a zero pela média baseada nas principais características\n",
    "\n",
    "mean1=filter_mean(df3,'Brooklyn','Bushwick','Shared room')\n",
    "mean2=filter_mean(df3,'Brooklyn','Williamsburg','Entire home/apt')\n",
    "mean3=filter_mean(df3,'Brooklyn','Bedford-Stuyvesant','Private room')\n",
    "mean4=filter_mean(df3,'Bronx','East Morrisania','Private room')\n",
    "mean5=filter_mean(df3,'Brooklyn','Bedford-Stuyvesant','Private room')\n",
    "mean6=filter_mean(df3,'Brooklyn','Greenpoint','Private room')\n",
    "mean7=filter_mean(df3,'Manhattan','Murray Hill','Entire home/apt')\n",
    "\n",
    "df3['price'] = np.where(df3['id'] == 21291569, mean1, df3['price'])\n",
    "df3['price'] = np.where(df3['id'] == 20624541, mean2, df3['price'])\n",
    "df3['price'] = np.where(df3['id'] == 20639914, mean3, df3['price'])\n",
    "df3['price'] = np.where(df3['id'] == 20333471, mean4, df3['price'])\n",
    "df3['price'] = np.where(df3['id'] == 20639792, mean5, df3['price'])\n",
    "df3['price'] = np.where(df3['id'] == 20639628, mean5, df3['price'])\n",
    "df3['price'] = np.where(df3['id'] == 18750597, mean5, df3['price'])\n",
    "df3['price'] = np.where(df3['id'] == 20608117, mean6, df3['price'])\n",
    "df3['price'] = np.where(df3['id'] == 20933849, mean7, df3['price'])"
   ]
  },
  {
   "cell_type": "code",
   "execution_count": 344,
   "id": "d447db0f-1678-4aaf-8708-1dcc582b9c59",
   "metadata": {
    "execution": {
     "iopub.execute_input": "2024-02-26T19:06:25.917243Z",
     "iopub.status.busy": "2024-02-26T19:06:25.916704Z",
     "iopub.status.idle": "2024-02-26T19:06:25.923328Z",
     "shell.execute_reply": "2024-02-26T19:06:25.921556Z",
     "shell.execute_reply.started": "2024-02-26T19:06:25.917202Z"
    },
    "jupyter": {
     "source_hidden": true
    }
   },
   "outputs": [],
   "source": [
    "# tirar bairros pouco representativos\n",
    "\n",
    "# df3['bairro'].value_counts().tail(20)"
   ]
  },
  {
   "cell_type": "code",
   "execution_count": 345,
   "id": "5c72512a-34d4-49b1-9584-18d81e7b27d8",
   "metadata": {
    "execution": {
     "iopub.execute_input": "2024-02-26T19:06:25.927980Z",
     "iopub.status.busy": "2024-02-26T19:06:25.926591Z",
     "iopub.status.idle": "2024-02-26T19:06:25.979391Z",
     "shell.execute_reply": "2024-02-26T19:06:25.977726Z",
     "shell.execute_reply.started": "2024-02-26T19:06:25.927904Z"
    },
    "jupyter": {
     "source_hidden": true
    }
   },
   "outputs": [],
   "source": [
    "# nomes_para_dropar = ['Rossville', 'West Farms', 'Howland Hook', 'Bay Terrace, Staten Island', 'Woodrow', 'Fort Wadsworth', 'Willowbrook', 'Richmondtown']\n",
    "\n",
    "# df3 = df3[~df3['bairro'].isin(nomes_para_dropar)]"
   ]
  },
  {
   "cell_type": "markdown",
   "id": "df2bc9af-e7d9-44fc-be69-d03096a70167",
   "metadata": {},
   "source": [
    "# **4 Exploratory data analysis**"
   ]
  },
  {
   "cell_type": "code",
   "execution_count": 346,
   "id": "92d5538f-421e-42c5-b2b7-f1d7078e1af0",
   "metadata": {
    "execution": {
     "iopub.execute_input": "2024-02-26T19:06:25.983127Z",
     "iopub.status.busy": "2024-02-26T19:06:25.982012Z",
     "iopub.status.idle": "2024-02-26T19:06:26.000600Z",
     "shell.execute_reply": "2024-02-26T19:06:25.999246Z",
     "shell.execute_reply.started": "2024-02-26T19:06:25.983056Z"
    }
   },
   "outputs": [],
   "source": [
    "df4=df3.copy()"
   ]
  },
  {
   "cell_type": "markdown",
   "id": "5527bc7e-6102-416d-9c9e-64c2cff3aa36",
   "metadata": {
    "jp-MarkdownHeadingCollapsed": true
   },
   "source": [
    "## **4.1 Univariate analysis**"
   ]
  },
  {
   "cell_type": "markdown",
   "id": "90e8af54-2ea6-43f5-aad6-9c362434e311",
   "metadata": {
    "jp-MarkdownHeadingCollapsed": true
   },
   "source": [
    "### **4.1.1 Response variable**"
   ]
  },
  {
   "cell_type": "code",
   "execution_count": 82,
   "id": "ea7c8a3b-8699-4ba0-a696-e56badc90189",
   "metadata": {
    "execution": {
     "iopub.execute_input": "2024-02-25T20:53:22.616667Z",
     "iopub.status.busy": "2024-02-25T20:53:22.615944Z",
     "iopub.status.idle": "2024-02-25T20:53:23.432056Z",
     "shell.execute_reply": "2024-02-25T20:53:23.430397Z",
     "shell.execute_reply.started": "2024-02-25T20:53:22.616599Z"
    }
   },
   "outputs": [
    {
     "data": {
      "image/png": "[encoded data removed]",
      "text/plain": [
       "<Figure size 1500x500 with 1 Axes>"
      ]
     },
     "metadata": {},
     "output_type": "display_data"
    }
   ],
   "source": [
    "plt.figure(figsize=(15, 5)) \n",
    "sns.histplot(df4['price'], bins=30, kde=True, color='blue')\n",
    "plt.title('Histograma de Price')\n",
    "plt.xlabel('Price')\n",
    "plt.ylabel('Contagem')\n",
    "plt.show()"
   ]
  },
  {
   "cell_type": "code",
   "execution_count": 83,
   "id": "cef79c88-ccd2-418b-94c8-ef731f2322b6",
   "metadata": {
    "execution": {
     "iopub.execute_input": "2024-02-25T20:53:23.435319Z",
     "iopub.status.busy": "2024-02-25T20:53:23.434113Z",
     "iopub.status.idle": "2024-02-25T20:53:23.462980Z",
     "shell.execute_reply": "2024-02-25T20:53:23.460890Z",
     "shell.execute_reply.started": "2024-02-25T20:53:23.435237Z"
    }
   },
   "outputs": [
    {
     "name": "stdout",
     "output_type": "stream",
     "text": [
      "0\n",
      "\n",
      "\n"
     ]
    },
    {
     "data": {
      "text/html": [
       "<div>\n",
       "<style scoped>\n",
       "    .dataframe tbody tr th:only-of-type {\n",
       "        vertical-align: middle;\n",
       "    }\n",
       "\n",
       "    .dataframe tbody tr th {\n",
       "        vertical-align: top;\n",
       "    }\n",
       "\n",
       "    .dataframe thead th {\n",
       "        text-align: right;\n",
       "    }\n",
       "</style>\n",
       "<table border=\"1\" class=\"dataframe\">\n",
       "  <thead>\n",
       "    <tr style=\"text-align: right;\">\n",
       "      <th></th>\n",
       "      <th>id</th>\n",
       "      <th>nome</th>\n",
       "      <th>host_id</th>\n",
       "      <th>host_name</th>\n",
       "      <th>bairro_group</th>\n",
       "      <th>bairro</th>\n",
       "      <th>latitude</th>\n",
       "      <th>longitude</th>\n",
       "      <th>room_type</th>\n",
       "      <th>minimo_noites</th>\n",
       "      <th>numero_de_reviews</th>\n",
       "      <th>ultima_review</th>\n",
       "      <th>reviews_por_mes</th>\n",
       "      <th>calculado_host_listings_count</th>\n",
       "      <th>disponibilidade_365</th>\n",
       "      <th>price</th>\n",
       "    </tr>\n",
       "  </thead>\n",
       "  <tbody>\n",
       "  </tbody>\n",
       "</table>\n",
       "</div>"
      ],
      "text/plain": [
       "Empty DataFrame\n",
       "Columns: [id, nome, host_id, host_name, bairro_group, bairro, latitude, longitude, room_type, minimo_noites, numero_de_reviews, ultima_review, reviews_por_mes, calculado_host_listings_count, disponibilidade_365, price]\n",
       "Index: []"
      ]
     },
     "execution_count": 83,
     "metadata": {},
     "output_type": "execute_result"
    }
   ],
   "source": [
    "print(len(df4[df4['price']==0]))\n",
    "print('\\n')\n",
    "df4[df4['price']==0]"
   ]
  },
  {
   "cell_type": "markdown",
   "id": "2ad024c6-1e5a-47f8-be1e-c02381ac71a5",
   "metadata": {
    "jp-MarkdownHeadingCollapsed": true
   },
   "source": [
    "### **4.1.2 Numerical variables**"
   ]
  },
  {
   "cell_type": "code",
   "execution_count": 84,
   "id": "124e01bc-5f45-497e-b99d-458fd1ebf6c6",
   "metadata": {
    "execution": {
     "iopub.execute_input": "2024-02-25T20:53:23.465664Z",
     "iopub.status.busy": "2024-02-25T20:53:23.464910Z",
     "iopub.status.idle": "2024-02-25T20:53:26.118009Z",
     "shell.execute_reply": "2024-02-25T20:53:26.116572Z",
     "shell.execute_reply.started": "2024-02-25T20:53:23.465590Z"
    }
   },
   "outputs": [
    {
     "data": {
      "image/png": "[encoded data removed]",
      "text/plain": [
       "<Figure size 1500x1000 with 12 Axes>"
      ]
     },
     "metadata": {},
     "output_type": "display_data"
    }
   ],
   "source": [
    "rcParams['figure.figsize'] = 15,10\n",
    "\n",
    "num_attributes = df4.select_dtypes(include=['int64', 'float64'])\n",
    "num_attributes.hist(bins=25);"
   ]
  },
  {
   "cell_type": "markdown",
   "id": "68981e27-ac00-43de-9bdc-5d5309de4926",
   "metadata": {
    "jp-MarkdownHeadingCollapsed": true
   },
   "source": [
    "### **4.1.3 Categorical variables**"
   ]
  },
  {
   "cell_type": "code",
   "execution_count": 85,
   "id": "675172fe-ec2b-46a9-8985-bb9e2168838e",
   "metadata": {
    "execution": {
     "iopub.execute_input": "2024-02-25T20:53:26.120176Z",
     "iopub.status.busy": "2024-02-25T20:53:26.119637Z",
     "iopub.status.idle": "2024-02-25T20:53:27.015098Z",
     "shell.execute_reply": "2024-02-25T20:53:27.013467Z",
     "shell.execute_reply.started": "2024-02-25T20:53:26.120117Z"
    }
   },
   "outputs": [
    {
     "data": {
      "image/png": "[encoded data removed]",
      "text/plain": [
       "<Figure size 1200x400 with 2 Axes>"
      ]
     },
     "metadata": {},
     "output_type": "display_data"
    }
   ],
   "source": [
    "plt.figure(figsize=(12, 4))\n",
    "\n",
    "plt.subplot(1, 2, 1)\n",
    "sns.histplot(df4['bairro_group'], color='blue', bins=len(df4['bairro_group'].unique()))\n",
    "plt.title('Histograma de bairro_groups')\n",
    "plt.xlabel('bairro_group')\n",
    "plt.ylabel('Contagem')\n",
    "\n",
    "plt.subplot(1, 2, 2)\n",
    "sns.histplot(df4['room_type'], color='green', bins=len(df4['room_type'].unique()))\n",
    "plt.title('Histograma de room_types')\n",
    "plt.xlabel('room_type')\n",
    "plt.ylabel('Contagem')\n",
    "\n",
    "plt.tight_layout()\n",
    "plt.show()"
   ]
  },
  {
   "cell_type": "code",
   "execution_count": 86,
   "id": "e7d3dec4-b5d2-4e23-885c-4623418faebb",
   "metadata": {
    "execution": {
     "iopub.execute_input": "2024-02-25T20:53:27.018044Z",
     "iopub.status.busy": "2024-02-25T20:53:27.016875Z",
     "iopub.status.idle": "2024-02-25T20:53:27.035657Z",
     "shell.execute_reply": "2024-02-25T20:53:27.033806Z",
     "shell.execute_reply.started": "2024-02-25T20:53:27.017963Z"
    }
   },
   "outputs": [
    {
     "data": {
      "text/plain": [
       "bairro\n",
       "Williamsburg          3118\n",
       "Bedford-Stuyvesant    2973\n",
       "Harlem                2143\n",
       "Bushwick              1945\n",
       "Upper West Side       1589\n",
       "Hell's Kitchen        1577\n",
       "East Village          1504\n",
       "Upper East Side       1440\n",
       "Midtown               1258\n",
       "Crown Heights         1250\n",
       "Greenpoint             905\n",
       "East Harlem            899\n",
       "Chelsea                896\n",
       "Astoria                727\n",
       "Lower East Side        718\n",
       "Washington Heights     710\n",
       "West Village           614\n",
       "Financial District     595\n",
       "Flatbush               495\n",
       "Clinton Hill           441\n",
       "Name: count, dtype: int64"
      ]
     },
     "execution_count": 86,
     "metadata": {},
     "output_type": "execute_result"
    }
   ],
   "source": [
    "df4['bairro'].value_counts().head(20)"
   ]
  },
  {
   "cell_type": "markdown",
   "id": "e04b4422-e64e-46c7-aaa7-9a3e7818e7b7",
   "metadata": {
    "jp-MarkdownHeadingCollapsed": true
   },
   "source": [
    "## **4.2 Hypothesis**"
   ]
  },
  {
   "cell_type": "markdown",
   "id": "ea37a357-e805-489c-b5ea-6d2c73483c64",
   "metadata": {
    "jp-MarkdownHeadingCollapsed": true
   },
   "source": [
    "### **4.2.1 Hypothesis mindmap**"
   ]
  },
  {
   "cell_type": "code",
   "execution_count": 87,
   "id": "1382722a-ed69-4c95-a289-59772ef35151",
   "metadata": {
    "execution": {
     "iopub.execute_input": "2024-02-25T20:53:27.038726Z",
     "iopub.status.busy": "2024-02-25T20:53:27.037710Z",
     "iopub.status.idle": "2024-02-25T20:53:27.061567Z",
     "shell.execute_reply": "2024-02-25T20:53:27.058292Z",
     "shell.execute_reply.started": "2024-02-25T20:53:27.038659Z"
    }
   },
   "outputs": [
    {
     "data": {
      "image/png": "[encoded data removed]",
      "text/plain": [
       "<IPython.core.display.Image object>"
      ]
     },
     "execution_count": 87,
     "metadata": {},
     "output_type": "execute_result"
    }
   ],
   "source": [
    "Image('../img/mindmap.png')"
   ]
  },
  {
   "cell_type": "markdown",
   "id": "059d25a8-9bd5-4fc6-a538-53206ef1daad",
   "metadata": {},
   "source": [
    "### **4.2.2 Hypothesis creation**"
   ]
  },
  {
   "cell_type": "markdown",
   "id": "72a9d4c7-a952-408e-953a-e4be0d76d71c",
   "metadata": {},
   "source": [
    "#### **H1 - Manhattan tem em média preços pelo menos 30% maiores**\n",
    "**True**"
   ]
  },
  {
   "cell_type": "code",
   "execution_count": 88,
   "id": "560f8658-90b1-40ad-b012-a73f7054a7de",
   "metadata": {
    "execution": {
     "iopub.execute_input": "2024-02-25T20:53:27.064511Z",
     "iopub.status.busy": "2024-02-25T20:53:27.064043Z",
     "iopub.status.idle": "2024-02-25T20:53:30.060252Z",
     "shell.execute_reply": "2024-02-25T20:53:30.058268Z",
     "shell.execute_reply.started": "2024-02-25T20:53:27.064474Z"
    }
   },
   "outputs": [
    {
     "name": "stderr",
     "output_type": "stream",
     "text": [
      "\n",
      "KeyboardInterrupt\n",
      "\n"
     ]
    },
    {
     "data": {
      "image/png": "[encoded data removed]",
      "text/plain": [
       "<Figure size 1200x400 with 1 Axes>"
      ]
     },
     "metadata": {},
     "output_type": "display_data"
    }
   ],
   "source": [
    "aux1 = df4[['bairro_group', 'price']].groupby('bairro_group').mean().sort_values('price', ascending=False).reset_index()\n",
    "aux2 = df4[['bairro_group', 'price']].groupby('bairro_group').median().sort_values('price', ascending=False).reset_index()\n",
    "aux3 = df4[['bairro_group', 'price']].groupby('bairro_group').std().sort_values('price', ascending=False).reset_index()\n",
    "\n",
    "result1 = pd.merge(aux1, aux2, on='bairro_group', suffixes=('_mean', '_median'))\n",
    "result2 = pd.merge(result1, aux3, on='bairro_group', suffixes=('', '_std'))\n",
    "aux = result2.rename(columns={'price': 'price_std'})\n",
    "\n",
    "viz = pd.melt(aux, id_vars=['bairro_group'], value_vars=['price_mean', 'price_median', 'price_std'],\n",
    "              var_name='Statistic', value_name='Value')\n",
    "\n",
    "plt.figure(figsize=(12, 4))\n",
    "ax = sns.barplot(\n",
    "    data=viz, x=\"bairro_group\", y=\"Value\", hue=\"Statistic\",\n",
    "    errorbar=\"sd\", palette=\"dark\", alpha=.6)\n",
    "\n",
    "ax.set_title('Média, Mediana e Desvio Padrão de Price por Bairro Group')\n",
    "ax.set_xlabel('Bairro Group')\n",
    "ax.set_ylabel('Price')\n",
    "\n",
    "plt.tight_layout()\n",
    "\n",
    "city = 'Manhattan'\n",
    "manhattan_mean = aux.loc[aux['bairro_group'] == city, 'price_mean'].values[0]\n",
    "aux['diff_percent'] = ((aux['price_mean'] - manhattan_mean) / manhattan_mean) * 100\n",
    "\n",
    "print('\\n')\n",
    "print(f\"A diferença percentual da média de {city} em relação às outras cidades:\\n\")\n",
    "print(aux[['bairro_group', 'diff_percent']])"
   ]
  },
  {
   "cell_type": "markdown",
   "id": "8bff6c7b-9d2f-47c0-9772-02b33f002c14",
   "metadata": {},
   "source": [
    "#### **H2 - Room type do tipo 'Entire home/apt' são pelo menos 100% mais caros em média**\n",
    "**False**"
   ]
  },
  {
   "cell_type": "code",
   "execution_count": null,
   "id": "033c5ce4-08b9-4b60-84b7-b2a8217a7128",
   "metadata": {
    "execution": {
     "iopub.status.busy": "2024-02-25T20:53:30.061409Z",
     "iopub.status.idle": "2024-02-25T20:53:30.062040Z",
     "shell.execute_reply": "2024-02-25T20:53:30.061817Z",
     "shell.execute_reply.started": "2024-02-25T20:53:30.061789Z"
    }
   },
   "outputs": [],
   "source": [
    "aux1 = df4[['room_type', 'price']].groupby('room_type').mean().sort_values('price', ascending=False).reset_index()\n",
    "aux2 = df4[['room_type', 'price']].groupby('room_type').median().sort_values('price', ascending=False).reset_index()\n",
    "aux3 = df4[['room_type', 'price']].groupby('room_type').std().sort_values('price', ascending=False).reset_index()\n",
    "\n",
    "result1 = pd.merge(aux1, aux2, on='room_type', suffixes=('_mean', '_median'))\n",
    "result2 = pd.merge(result1, aux3, on='room_type', suffixes=('', '_std'))\n",
    "aux = result2.rename(columns={'price': 'price_std'})\n",
    "\n",
    "viz = pd.melt(aux, id_vars=['room_type'], value_vars=['price_mean', 'price_median', 'price_std'],\n",
    "              var_name='Statistic', value_name='Value')\n",
    "\n",
    "plt.figure(figsize=(12, 4))\n",
    "sns.barplot(\n",
    "    data=viz, x=\"room_type\", y=\"Value\", hue=\"Statistic\",\n",
    "    errorbar=\"sd\", palette=\"dark\", alpha=.6)\n",
    "\n",
    "plt.title('Média, Mediana e Desvio Padrão de Price por Room Type')\n",
    "plt.xlabel('Room Type')\n",
    "plt.ylabel('Price')\n",
    "plt.legend(title='Statistic')\n",
    "\n",
    "plt.tight_layout()\n",
    "\n",
    "room = 'Entire home/apt'\n",
    "room_mean = aux.loc[aux['room_type'] == room, 'price_mean'].values[0]\n",
    "aux['diff_percent'] = ((aux['price_mean'] - room_mean) / room_mean) * 100\n",
    "\n",
    "print('\\n')\n",
    "print(f\"A diferença percentual da média de {room} em relação aos outros room types:\\n\")\n",
    "print(aux[['room_type', 'diff_percent']])"
   ]
  },
  {
   "cell_type": "markdown",
   "id": "bb615348-32c2-4aa4-80c3-e3d4507dd786",
   "metadata": {},
   "source": [
    "#### **H3 Aluguéis disponíveis por no máximo uma semana são pelo menos 30% mais caros em média**"
   ]
  },
  {
   "cell_type": "code",
   "execution_count": null,
   "id": "c8dacd48-06bb-49bc-b5d0-ca371a8766f3",
   "metadata": {
    "execution": {
     "iopub.status.busy": "2024-02-25T20:53:30.064184Z",
     "iopub.status.idle": "2024-02-25T20:53:30.064733Z",
     "shell.execute_reply": "2024-02-25T20:53:30.064490Z",
     "shell.execute_reply.started": "2024-02-25T20:53:30.064464Z"
    }
   },
   "outputs": [],
   "source": [
    "aux=df4[['minimo_noites','price']].groupby('minimo_noites').mean().sort_values('price',ascending=False).reset_index()\n",
    "\n",
    "# check outliers\n",
    "aux.sort_values('price',ascending=False).head(10)"
   ]
  },
  {
   "cell_type": "code",
   "execution_count": null,
   "id": "4c466caa-c588-4f53-89b4-018679a40df2",
   "metadata": {
    "execution": {
     "iopub.status.busy": "2024-02-25T20:53:30.068022Z",
     "iopub.status.idle": "2024-02-25T20:53:30.069209Z",
     "shell.execute_reply": "2024-02-25T20:53:30.068819Z",
     "shell.execute_reply.started": "2024-02-25T20:53:30.068781Z"
    }
   },
   "outputs": [],
   "source": [
    "aux=aux[aux['price']<1000]\n",
    "\n",
    "plt.figure(figsize=(15, 4))\n",
    "sns.barplot(data=aux, x='minimo_noites', y='price', ci='sd', palette='viridis')\n",
    "plt.xticks(rotation=90)\n",
    "\n",
    "condicao = aux['minimo_noites'] <= 7\n",
    "\n",
    "media_menor_7 = aux.loc[condicao, 'price'].mean()\n",
    "media_maior_7 = aux.loc[~condicao, 'price'].mean()\n",
    "\n",
    "diff_percent = ((media_maior_7 - media_menor_7) / media_maior_7) * 100\n",
    "\n",
    "print('\\n')\n",
    "print(f\"A média do preço para minimo_noites até 7 é: {media_menor_7:.2f}\")\n",
    "print(f\"A média do preço para minimo_noites maior que 7 é: {media_maior_7:.2f}\")\n",
    "print(f\"A diferença percentual é: {diff_percent:.2f}%\")"
   ]
  },
  {
   "cell_type": "markdown",
   "id": "9ce5c6f1-caef-4120-89da-c9ee91df79b6",
   "metadata": {
    "jp-MarkdownHeadingCollapsed": true
   },
   "source": [
    "#### **H4 ?**"
   ]
  },
  {
   "cell_type": "markdown",
   "id": "4c1f6505-bc00-4edb-a51e-6735295cf763",
   "metadata": {
    "jp-MarkdownHeadingCollapsed": true
   },
   "source": [
    "## **4.3 Bivariate analysis**"
   ]
  },
  {
   "cell_type": "markdown",
   "id": "f1d4964e-7f19-45e8-8cb2-997edb3085b3",
   "metadata": {
    "jp-MarkdownHeadingCollapsed": true
   },
   "source": [
    "### **id**"
   ]
  },
  {
   "cell_type": "code",
   "execution_count": null,
   "id": "8c75c8df-eaa2-4c2e-9b0e-9e179825d019",
   "metadata": {
    "execution": {
     "iopub.status.busy": "2024-02-25T20:53:30.071364Z",
     "iopub.status.idle": "2024-02-25T20:53:30.073089Z",
     "shell.execute_reply": "2024-02-25T20:53:30.072444Z",
     "shell.execute_reply.started": "2024-02-25T20:53:30.072373Z"
    }
   },
   "outputs": [],
   "source": [
    "X = sm.add_constant(df4['id'])\n",
    "y = df4['price']\n",
    "model = sm.OLS(y, X).fit()\n",
    "\n",
    "beta_0 = model.params[0]\n",
    "beta_1 = model.params[1]\n",
    "\n",
    "r_squared = model.rsquared\n",
    "\n",
    "correlation = df4['id'].corr(df4['price'])\n",
    "\n",
    "sns.set(style=\"whitegrid\")\n",
    "ax = sns.regplot(x='id', y='price', data=df4)\n",
    "\n",
    "ax.annotate(f'R² = {r_squared:.2f}', xy=(0.5, 0.9), xycoords='axes fraction', fontsize=12)\n",
    "ax.annotate(f'Beta_0 = {beta_0:.2f}', xy=(0.5, 0.85), xycoords='axes fraction', fontsize=12)\n",
    "ax.annotate(f'Beta_1 = {beta_1:.2f}', xy=(0.5, 0.80), xycoords='axes fraction', fontsize=12)\n",
    "ax.annotate(f'Correlation = {correlation:.2f}', xy=(0.5, 0.75), xycoords='axes fraction', fontsize=12)\n",
    "\n",
    "ax.set(xlabel='id', ylabel='price')\n",
    "plt.gcf().set_size_inches(15, 6)\n",
    "plt.show()"
   ]
  },
  {
   "cell_type": "markdown",
   "id": "2476dbcc-d67e-4fc5-bef5-e0bba2a33283",
   "metadata": {
    "jp-MarkdownHeadingCollapsed": true
   },
   "source": [
    "### **nome**"
   ]
  },
  {
   "cell_type": "code",
   "execution_count": null,
   "id": "9978b620-70b3-4be4-815c-de94aa7d22eb",
   "metadata": {
    "execution": {
     "iopub.status.busy": "2024-02-25T20:53:30.074809Z",
     "iopub.status.idle": "2024-02-25T20:53:30.076481Z",
     "shell.execute_reply": "2024-02-25T20:53:30.075601Z",
     "shell.execute_reply.started": "2024-02-25T20:53:30.075490Z"
    }
   },
   "outputs": [],
   "source": [
    "print(len(df4))\n",
    "print(len(df4['nome'].unique()))"
   ]
  },
  {
   "cell_type": "code",
   "execution_count": null,
   "id": "9ac5f263-5c7f-466a-b8c8-01459b66060e",
   "metadata": {
    "execution": {
     "iopub.status.busy": "2024-02-25T20:53:30.078461Z",
     "iopub.status.idle": "2024-02-25T20:53:30.079639Z",
     "shell.execute_reply": "2024-02-25T20:53:30.079253Z",
     "shell.execute_reply.started": "2024-02-25T20:53:30.079212Z"
    }
   },
   "outputs": [],
   "source": [
    "aux=df4[['nome','price']].groupby('nome').mean().sort_values('price',ascending=False).reset_index().head(50)\n",
    "aux"
   ]
  },
  {
   "cell_type": "code",
   "execution_count": null,
   "id": "26eb541e-7ecf-4226-a43c-963f150e45b6",
   "metadata": {
    "execution": {
     "iopub.status.busy": "2024-02-25T20:53:30.082608Z",
     "iopub.status.idle": "2024-02-25T20:53:30.084937Z",
     "shell.execute_reply": "2024-02-25T20:53:30.084524Z",
     "shell.execute_reply.started": "2024-02-25T20:53:30.084465Z"
    }
   },
   "outputs": [],
   "source": [
    "aux=df4[['nome','price']].groupby('nome').mean().sort_values('price',ascending=True).reset_index().head(50)\n",
    "aux"
   ]
  },
  {
   "cell_type": "markdown",
   "id": "b03200b3-c2a2-45da-83bf-5cd2ae778b0a",
   "metadata": {
    "jp-MarkdownHeadingCollapsed": true
   },
   "source": [
    "### **host_name**"
   ]
  },
  {
   "cell_type": "code",
   "execution_count": null,
   "id": "2d8e0182-013f-4ea4-8d7e-df7793afa37e",
   "metadata": {
    "execution": {
     "iopub.status.busy": "2024-02-25T20:53:30.086300Z",
     "iopub.status.idle": "2024-02-25T20:53:30.087206Z",
     "shell.execute_reply": "2024-02-25T20:53:30.086999Z",
     "shell.execute_reply.started": "2024-02-25T20:53:30.086976Z"
    }
   },
   "outputs": [],
   "source": [
    "print(len(df4))\n",
    "print(len(df4['host_name'].unique()))"
   ]
  },
  {
   "cell_type": "code",
   "execution_count": null,
   "id": "bc68e138-c7c2-406d-b31d-3773fefb0da2",
   "metadata": {
    "execution": {
     "iopub.status.busy": "2024-02-25T20:53:30.088820Z",
     "iopub.status.idle": "2024-02-25T20:53:30.090858Z",
     "shell.execute_reply": "2024-02-25T20:53:30.090444Z",
     "shell.execute_reply.started": "2024-02-25T20:53:30.090397Z"
    }
   },
   "outputs": [],
   "source": [
    "# aux=df4[['host_name','price']].groupby('host_name').mean().sort_values('price',ascending=False).reset_index().head(20)\n",
    "aux = (df4[['host_name', 'price']].groupby('host_name')\n",
    "                                  .agg({'price': ['mean', 'count']})\n",
    "                                  .sort_values(('price', 'mean'), ascending=False)\n",
    "                                  .reset_index().head(20))\n",
    "aux"
   ]
  },
  {
   "cell_type": "code",
   "execution_count": null,
   "id": "07f76f5c-bc08-4fe6-8bf4-a3007be8ff5b",
   "metadata": {
    "execution": {
     "iopub.status.busy": "2024-02-25T20:53:30.093559Z",
     "iopub.status.idle": "2024-02-25T20:53:30.095348Z",
     "shell.execute_reply": "2024-02-25T20:53:30.094834Z",
     "shell.execute_reply.started": "2024-02-25T20:53:30.094775Z"
    }
   },
   "outputs": [],
   "source": [
    "aux = (df4[['host_name', 'price']].groupby('host_name')\n",
    "                                  .agg({'price': ['mean', 'count']})\n",
    "                                  .sort_values(('price', 'mean'), ascending=True)\n",
    "                                  .reset_index().head(20))\n",
    "aux"
   ]
  },
  {
   "cell_type": "markdown",
   "id": "89fa4b26-3d36-40d7-81ac-a24c73650c70",
   "metadata": {},
   "source": [
    "### **bairro_group**"
   ]
  },
  {
   "cell_type": "code",
   "execution_count": null,
   "id": "44c0650d-2b70-4617-ac61-2f0b3f98e613",
   "metadata": {
    "execution": {
     "iopub.status.busy": "2024-02-25T20:53:30.098305Z",
     "iopub.status.idle": "2024-02-25T20:53:30.099747Z",
     "shell.execute_reply": "2024-02-25T20:53:30.099334Z",
     "shell.execute_reply.started": "2024-02-25T20:53:30.099290Z"
    }
   },
   "outputs": [],
   "source": [
    "aux1 = df4[['bairro_group', 'price']].groupby('bairro_group').mean().sort_values('price', ascending=False).reset_index()\n",
    "aux2 = df4[['bairro_group', 'price']].groupby('bairro_group').median().sort_values('price', ascending=False).reset_index()\n",
    "aux3 = df4[['bairro_group', 'price']].groupby('bairro_group').std().sort_values('price', ascending=False).reset_index()\n",
    "\n",
    "result1 = pd.merge(aux1, aux2, on='bairro_group', suffixes=('_mean', '_median'))\n",
    "result2 = pd.merge(result1, aux3, on='bairro_group', suffixes=('', '_std'))\n",
    "aux = result2.rename(columns={'price': 'price_std'})\n",
    "\n",
    "viz = pd.melt(aux, id_vars=['bairro_group'], value_vars=['price_mean', 'price_median', 'price_std'],\n",
    "              var_name='Statistic', value_name='Value')\n",
    "\n",
    "plt.figure(figsize=(12, 4))\n",
    "ax = sns.barplot(\n",
    "    data=viz, x=\"bairro_group\", y=\"Value\", hue=\"Statistic\",\n",
    "    errorbar=\"sd\", palette=\"dark\", alpha=.6)\n",
    "\n",
    "ax.set_title('Média, Mediana e Desvio Padrão de Price por Bairro Group')\n",
    "ax.set_xlabel('Bairro Group')\n",
    "ax.set_ylabel('Price')\n",
    "\n",
    "plt.tight_layout()"
   ]
  },
  {
   "cell_type": "markdown",
   "id": "bef968ae-1236-4bed-bf62-e90031169878",
   "metadata": {},
   "source": [
    "### **bairro**"
   ]
  },
  {
   "cell_type": "code",
   "execution_count": null,
   "id": "f83b1ea1-e380-4f5b-b5f7-971944ce4202",
   "metadata": {
    "execution": {
     "iopub.status.busy": "2024-02-25T20:53:30.102128Z",
     "iopub.status.idle": "2024-02-25T20:53:30.103600Z",
     "shell.execute_reply": "2024-02-25T20:53:30.103172Z",
     "shell.execute_reply.started": "2024-02-25T20:53:30.103126Z"
    }
   },
   "outputs": [],
   "source": [
    "print(len(df4))\n",
    "print(len(df4['bairro'].unique()))"
   ]
  },
  {
   "cell_type": "code",
   "execution_count": null,
   "id": "c38cdb27-8b27-42cb-a250-ecf39dc09fc2",
   "metadata": {
    "execution": {
     "iopub.status.busy": "2024-02-25T20:53:30.106442Z",
     "iopub.status.idle": "2024-02-25T20:53:30.108073Z",
     "shell.execute_reply": "2024-02-25T20:53:30.107587Z",
     "shell.execute_reply.started": "2024-02-25T20:53:30.107541Z"
    }
   },
   "outputs": [],
   "source": [
    "aux1=df4[['bairro','price']].groupby('bairro').mean().sort_values('price',ascending=False).rename(columns={'price':'mean_price'}).reset_index().head(10)\n",
    "plt.figure(figsize=(20, 4))\n",
    "sns.barplot(data=aux1,x='bairro',y='mean_price');"
   ]
  },
  {
   "cell_type": "code",
   "execution_count": null,
   "id": "50cff5ef-748b-4287-aa3f-63b05816076a",
   "metadata": {
    "execution": {
     "iopub.status.busy": "2024-02-25T20:53:30.111377Z",
     "iopub.status.idle": "2024-02-25T20:53:30.112801Z",
     "shell.execute_reply": "2024-02-25T20:53:30.112363Z",
     "shell.execute_reply.started": "2024-02-25T20:53:30.112322Z"
    }
   },
   "outputs": [],
   "source": [
    "aux1=df4[['bairro','price']].groupby('bairro').mean().sort_values('price',ascending=True).rename(columns={'price':'mean_price'}).reset_index().head(10)\n",
    "plt.figure(figsize=(20, 4))\n",
    "sns.barplot(data=aux1,x='bairro',y='mean_price');"
   ]
  },
  {
   "cell_type": "markdown",
   "id": "19a5ba0f-9940-459e-b06b-71c95a5a14a8",
   "metadata": {
    "jp-MarkdownHeadingCollapsed": true
   },
   "source": [
    "### **latitude/longitude**"
   ]
  },
  {
   "cell_type": "code",
   "execution_count": null,
   "id": "4dc24abd-49f1-45ba-b100-84644dd8f004",
   "metadata": {
    "execution": {
     "iopub.status.busy": "2024-02-25T20:53:30.116521Z",
     "iopub.status.idle": "2024-02-25T20:53:30.117910Z",
     "shell.execute_reply": "2024-02-25T20:53:30.117516Z",
     "shell.execute_reply.started": "2024-02-25T20:53:30.117465Z"
    }
   },
   "outputs": [],
   "source": [
    "# lats=df4['latitude']\n",
    "# lons=df4['longitude']\n",
    "# locations = list(zip(lats, lons))\n",
    "\n",
    "# m = folium.Map(location=[np.mean(lats), np.mean(lons)], tiles=\"Cartodb Positron\", zoom_start=1)\n",
    "# marker_cluster = MarkerCluster(\n",
    "#     locations=locations,\n",
    "#     name=\"1000 clustered icons\",\n",
    "#     overlay=True,\n",
    "#     control=True)\n",
    "\n",
    "# marker_cluster.add_to(m)\n",
    "\n",
    "# folium.LayerControl().add_to(m)\n",
    "\n",
    "# m\n",
    "\n",
    "# m.save('../img/map.html')"
   ]
  },
  {
   "cell_type": "markdown",
   "id": "62bfe714-972a-4584-b6a4-aab11618baf6",
   "metadata": {
    "jp-MarkdownHeadingCollapsed": true
   },
   "source": [
    "### **room_type**"
   ]
  },
  {
   "cell_type": "code",
   "execution_count": null,
   "id": "84be6dd6-f571-41f9-b09e-2d0a69b78338",
   "metadata": {
    "execution": {
     "iopub.status.busy": "2024-02-25T20:53:30.120075Z",
     "iopub.status.idle": "2024-02-25T20:53:30.121223Z",
     "shell.execute_reply": "2024-02-25T20:53:30.120872Z",
     "shell.execute_reply.started": "2024-02-25T20:53:30.120835Z"
    }
   },
   "outputs": [],
   "source": [
    "aux1 = df4[['room_type', 'price']].groupby('room_type').mean().sort_values('price', ascending=False).reset_index()\n",
    "aux2 = df4[['room_type', 'price']].groupby('room_type').median().sort_values('price', ascending=False).reset_index()\n",
    "aux3 = df4[['room_type', 'price']].groupby('room_type').std().sort_values('price', ascending=False).reset_index()\n",
    "\n",
    "result1 = pd.merge(aux1, aux2, on='room_type', suffixes=('_mean', '_median'))\n",
    "result2 = pd.merge(result1, aux3, on='room_type', suffixes=('', '_std'))\n",
    "aux = result2.rename(columns={'price': 'price_std'})\n",
    "\n",
    "viz = pd.melt(aux, id_vars=['room_type'], value_vars=['price_mean', 'price_median', 'price_std'],\n",
    "              var_name='Statistic', value_name='Value')\n",
    "\n",
    "plt.figure(figsize=(12, 4))\n",
    "sns.barplot(\n",
    "    data=viz, x=\"room_type\", y=\"Value\", hue=\"Statistic\",\n",
    "    errorbar=\"sd\", palette=\"dark\", alpha=.6)\n",
    "\n",
    "plt.title('Média, Mediana e Desvio Padrão de Price por Room Type')\n",
    "plt.xlabel('Room Type')\n",
    "plt.ylabel('Price')\n",
    "plt.legend(title='Statistic')\n",
    "\n",
    "plt.tight_layout()"
   ]
  },
  {
   "cell_type": "markdown",
   "id": "6b33af22-fd63-465f-b7c3-08d013489f4c",
   "metadata": {
    "jp-MarkdownHeadingCollapsed": true
   },
   "source": [
    "### **minimo_noites**"
   ]
  },
  {
   "cell_type": "code",
   "execution_count": null,
   "id": "621a641a-2443-4392-b853-89e914838d2a",
   "metadata": {
    "execution": {
     "iopub.status.busy": "2024-02-25T20:53:30.123462Z",
     "iopub.status.idle": "2024-02-25T20:53:30.125109Z",
     "shell.execute_reply": "2024-02-25T20:53:30.124655Z",
     "shell.execute_reply.started": "2024-02-25T20:53:30.124607Z"
    }
   },
   "outputs": [],
   "source": [
    "X = sm.add_constant(df4['minimo_noites'])\n",
    "y = df4['price']\n",
    "model = sm.OLS(y, X).fit()\n",
    "\n",
    "beta_0 = model.params[0]\n",
    "beta_1 = model.params[1]\n",
    "\n",
    "r_squared = model.rsquared\n",
    "\n",
    "correlation = df4['minimo_noites'].corr(df4['price'])\n",
    "\n",
    "sns.set(style=\"whitegrid\")\n",
    "ax = sns.regplot(x='minimo_noites', y='price', data=df4)\n",
    "\n",
    "ax.annotate(f'R² = {r_squared:.2f}', xy=(0.5, 0.9), xycoords='axes fraction', fontsize=12)\n",
    "ax.annotate(f'Beta_0 = {beta_0:.2f}', xy=(0.5, 0.85), xycoords='axes fraction', fontsize=12)\n",
    "ax.annotate(f'Beta_1 = {beta_1:.2f}', xy=(0.5, 0.80), xycoords='axes fraction', fontsize=12)\n",
    "ax.annotate(f'Correlation = {correlation:.2f}', xy=(0.5, 0.75), xycoords='axes fraction', fontsize=12)\n",
    "\n",
    "ax.set(xlabel='minimo_noites', ylabel='price')\n",
    "plt.gcf().set_size_inches(15, 6)\n",
    "plt.show()"
   ]
  },
  {
   "cell_type": "markdown",
   "id": "259b02a2-7f1a-44b4-8bc3-4dbe121ffe4b",
   "metadata": {
    "jp-MarkdownHeadingCollapsed": true
   },
   "source": [
    "### **numero_de_reviews**"
   ]
  },
  {
   "cell_type": "code",
   "execution_count": null,
   "id": "cb505ca4-25e5-4945-bee2-6c5a621e3c85",
   "metadata": {
    "execution": {
     "iopub.status.busy": "2024-02-25T20:53:30.128178Z",
     "iopub.status.idle": "2024-02-25T20:53:30.129660Z",
     "shell.execute_reply": "2024-02-25T20:53:30.129156Z",
     "shell.execute_reply.started": "2024-02-25T20:53:30.129106Z"
    }
   },
   "outputs": [],
   "source": [
    "X = sm.add_constant(df4['numero_de_reviews'])\n",
    "y = df4['price']\n",
    "model = sm.OLS(y, X).fit()\n",
    "\n",
    "beta_0 = model.params[0]\n",
    "beta_1 = model.params[1]\n",
    "\n",
    "r_squared = model.rsquared\n",
    "\n",
    "correlation = df4['numero_de_reviews'].corr(df4['price'])\n",
    "\n",
    "sns.set(style=\"whitegrid\")\n",
    "ax = sns.regplot(x='numero_de_reviews', y='price', data=df4)\n",
    "\n",
    "ax.annotate(f'R² = {r_squared:.2f}', xy=(0.5, 0.9), xycoords='axes fraction', fontsize=12)\n",
    "ax.annotate(f'Beta_0 = {beta_0:.2f}', xy=(0.5, 0.85), xycoords='axes fraction', fontsize=12)\n",
    "ax.annotate(f'Beta_1 = {beta_1:.2f}', xy=(0.5, 0.80), xycoords='axes fraction', fontsize=12)\n",
    "ax.annotate(f'Correlation = {correlation:.2f}', xy=(0.5, 0.75), xycoords='axes fraction', fontsize=12)\n",
    "\n",
    "ax.set(xlabel='numero_de_reviews', ylabel='price')\n",
    "plt.gcf().set_size_inches(15, 6)\n",
    "plt.show()"
   ]
  },
  {
   "cell_type": "markdown",
   "id": "2a1ac622-1faa-40f5-9e0e-03042e1d6a4a",
   "metadata": {},
   "source": [
    "### **ultima_review**"
   ]
  },
  {
   "cell_type": "code",
   "execution_count": null,
   "id": "35be1313-5677-4209-9309-a6a98452d30d",
   "metadata": {
    "execution": {
     "iopub.status.busy": "2024-02-25T20:53:30.132594Z",
     "iopub.status.idle": "2024-02-25T20:53:30.134166Z",
     "shell.execute_reply": "2024-02-25T20:53:30.133771Z",
     "shell.execute_reply.started": "2024-02-25T20:53:30.133729Z"
    }
   },
   "outputs": [],
   "source": [
    "df4['ultima_review'] = df4['ultima_review'].fillna('2019-07-09')\n",
    "\n",
    "ref_date = pd.to_datetime('2019-07-09')\n",
    "df4['ultima_review'] = (df4['ultima_review'] - ref_date).dt.days\n",
    "df4['ultima_review']=df4['ultima_review'] * -1\n",
    "\n",
    "X = sm.add_constant(df4['ultima_review'])\n",
    "y = df4['price']\n",
    "model = sm.OLS(y, X).fit()\n",
    "\n",
    "beta_0 = model.params[0]\n",
    "beta_1 = model.params[1]\n",
    "\n",
    "r_squared = model.rsquared\n",
    "\n",
    "correlation = df4['ultima_review'].corr(df4['price'])\n",
    "\n",
    "sns.set(style=\"whitegrid\")\n",
    "ax = sns.regplot(x='ultima_review', y='price', data=df4)\n",
    "\n",
    "ax.annotate(f'R² = {r_squared:.2f}', xy=(0.5, 0.9), xycoords='axes fraction', fontsize=12)\n",
    "ax.annotate(f'Beta_0 = {beta_0:.2f}', xy=(0.5, 0.85), xycoords='axes fraction', fontsize=12)\n",
    "ax.annotate(f'Beta_1 = {beta_1:.2f}', xy=(0.5, 0.80), xycoords='axes fraction', fontsize=12)\n",
    "ax.annotate(f'Correlation = {correlation:.2f}', xy=(0.5, 0.75), xycoords='axes fraction', fontsize=12)\n",
    "\n",
    "ax.set(xlabel='ultima_review', ylabel='price')\n",
    "plt.gcf().set_size_inches(15, 6)\n",
    "plt.show()"
   ]
  },
  {
   "cell_type": "markdown",
   "id": "d8f9a469-8311-489f-bbfa-3d80cec8fe84",
   "metadata": {
    "jp-MarkdownHeadingCollapsed": true
   },
   "source": [
    "### **reviews_por_mes**"
   ]
  },
  {
   "cell_type": "code",
   "execution_count": null,
   "id": "54a76722-24da-4e67-9e34-85ff73d77389",
   "metadata": {
    "execution": {
     "iopub.status.busy": "2024-02-25T20:53:30.136329Z",
     "iopub.status.idle": "2024-02-25T20:53:30.137638Z",
     "shell.execute_reply": "2024-02-25T20:53:30.137222Z",
     "shell.execute_reply.started": "2024-02-25T20:53:30.137170Z"
    }
   },
   "outputs": [],
   "source": [
    "X = sm.add_constant(df4['reviews_por_mes'])\n",
    "y = df4['price']\n",
    "model = sm.OLS(y, X).fit()\n",
    "\n",
    "beta_0 = model.params[0]\n",
    "beta_1 = model.params[1]\n",
    "\n",
    "r_squared = model.rsquared\n",
    "\n",
    "correlation = df4['reviews_por_mes'].corr(df4['price'])\n",
    "\n",
    "sns.set(style=\"whitegrid\")\n",
    "ax = sns.regplot(x='reviews_por_mes', y='price', data=df4)\n",
    "\n",
    "ax.annotate(f'R² = {r_squared:.2f}', xy=(0.5, 0.9), xycoords='axes fraction', fontsize=12)\n",
    "ax.annotate(f'Beta_0 = {beta_0:.2f}', xy=(0.5, 0.85), xycoords='axes fraction', fontsize=12)\n",
    "ax.annotate(f'Beta_1 = {beta_1:.2f}', xy=(0.5, 0.80), xycoords='axes fraction', fontsize=12)\n",
    "ax.annotate(f'Correlation = {correlation:.2f}', xy=(0.5, 0.75), xycoords='axes fraction', fontsize=12)\n",
    "\n",
    "ax.set(xlabel='reviews_por_mes', ylabel='price')\n",
    "plt.gcf().set_size_inches(15, 6)\n",
    "plt.show()"
   ]
  },
  {
   "cell_type": "markdown",
   "id": "922074f7-434e-47f2-9892-0fc5201f9791",
   "metadata": {
    "jp-MarkdownHeadingCollapsed": true
   },
   "source": [
    "### **calculado_host_listings_count**"
   ]
  },
  {
   "cell_type": "code",
   "execution_count": null,
   "id": "840abb46-4163-40b5-8c25-ea699617d72f",
   "metadata": {
    "execution": {
     "iopub.status.busy": "2024-02-25T20:53:30.139895Z",
     "iopub.status.idle": "2024-02-25T20:53:30.141187Z",
     "shell.execute_reply": "2024-02-25T20:53:30.140741Z",
     "shell.execute_reply.started": "2024-02-25T20:53:30.140698Z"
    }
   },
   "outputs": [],
   "source": [
    "X = sm.add_constant(df4['calculado_host_listings_count'])\n",
    "y = df4['price']\n",
    "model = sm.OLS(y, X).fit()\n",
    "\n",
    "beta_0 = model.params[0]\n",
    "beta_1 = model.params[1]\n",
    "\n",
    "r_squared = model.rsquared\n",
    "\n",
    "correlation = df4['calculado_host_listings_count'].corr(df4['price'])\n",
    "\n",
    "sns.set(style=\"whitegrid\")\n",
    "ax = sns.regplot(x='calculado_host_listings_count', y='price', data=df4)\n",
    "\n",
    "ax.annotate(f'R² = {r_squared:.2f}', xy=(0.5, 0.9), xycoords='axes fraction', fontsize=12)\n",
    "ax.annotate(f'Beta_0 = {beta_0:.2f}', xy=(0.5, 0.85), xycoords='axes fraction', fontsize=12)\n",
    "ax.annotate(f'Beta_1 = {beta_1:.2f}', xy=(0.5, 0.80), xycoords='axes fraction', fontsize=12)\n",
    "ax.annotate(f'Correlation = {correlation:.2f}', xy=(0.5, 0.75), xycoords='axes fraction', fontsize=12)\n",
    "\n",
    "ax.set(xlabel='calculado_host_listings_count', ylabel='price')\n",
    "plt.gcf().set_size_inches(15, 6)\n",
    "plt.show()"
   ]
  },
  {
   "cell_type": "markdown",
   "id": "a7526b9e-3134-443c-87e4-4e75cf63aafe",
   "metadata": {},
   "source": [
    "### **disponibilidade_365**"
   ]
  },
  {
   "cell_type": "code",
   "execution_count": null,
   "id": "d54aee4b-18d9-4ed5-8e68-3c93e4f36924",
   "metadata": {
    "execution": {
     "iopub.status.busy": "2024-02-25T20:53:30.144361Z",
     "iopub.status.idle": "2024-02-25T20:53:30.145666Z",
     "shell.execute_reply": "2024-02-25T20:53:30.145225Z",
     "shell.execute_reply.started": "2024-02-25T20:53:30.145182Z"
    }
   },
   "outputs": [],
   "source": [
    "X = sm.add_constant(df4['disponibilidade_365'])\n",
    "y = df4['price']\n",
    "model = sm.OLS(y, X).fit()\n",
    "\n",
    "beta_0 = model.params[0]\n",
    "beta_1 = model.params[1]\n",
    "\n",
    "r_squared = model.rsquared\n",
    "\n",
    "correlation = df4['disponibilidade_365'].corr(df4['price'])\n",
    "\n",
    "sns.set(style=\"whitegrid\")\n",
    "ax = sns.regplot(x='disponibilidade_365', y='price', data=df4)\n",
    "\n",
    "ax.annotate(f'R² = {r_squared:.2f}', xy=(0.5, 0.9), xycoords='axes fraction', fontsize=12)\n",
    "ax.annotate(f'Beta_0 = {beta_0:.2f}', xy=(0.5, 0.85), xycoords='axes fraction', fontsize=12)\n",
    "ax.annotate(f'Beta_1 = {beta_1:.2f}', xy=(0.5, 0.80), xycoords='axes fraction', fontsize=12)\n",
    "ax.annotate(f'Correlation = {correlation:.2f}', xy=(0.5, 0.75), xycoords='axes fraction', fontsize=12)\n",
    "\n",
    "ax.set(xlabel='disponibilidade_365', ylabel='price')\n",
    "plt.gcf().set_size_inches(15, 6)\n",
    "plt.show()"
   ]
  },
  {
   "cell_type": "markdown",
   "id": "9e32d69e-e20f-4793-8049-20dc0bc538cb",
   "metadata": {
    "jp-MarkdownHeadingCollapsed": true
   },
   "source": [
    "## **4.4 Multivariate analysis**\n"
   ]
  },
  {
   "cell_type": "markdown",
   "id": "49c8893d-e6a3-47a2-aa32-55cf3ac6b547",
   "metadata": {
    "jp-MarkdownHeadingCollapsed": true
   },
   "source": [
    "### **4.4.1 Numerical attributes**"
   ]
  },
  {
   "cell_type": "code",
   "execution_count": null,
   "id": "1a9615a5-1234-43d6-af61-ada282781f35",
   "metadata": {
    "execution": {
     "iopub.status.busy": "2024-02-25T20:53:30.148483Z",
     "iopub.status.idle": "2024-02-25T20:53:30.149755Z",
     "shell.execute_reply": "2024-02-25T20:53:30.149339Z",
     "shell.execute_reply.started": "2024-02-25T20:53:30.149293Z"
    }
   },
   "outputs": [],
   "source": [
    "num_attributes = df4.select_dtypes(include=['int64', 'float64'])\n",
    "\n",
    "aux=df4[['host_id','id','price','minimo_noites','numero_de_reviews','ultima_review','reviews_por_mes','calculado_host_listings_count','disponibilidade_365']]\n",
    "correlation=num_attributes.corr(method='pearson')\n",
    "\n",
    "plt.figure(figsize=(12, 10))\n",
    "sns.heatmap(correlation,annot=True);\n",
    "plt.show()"
   ]
  },
  {
   "cell_type": "markdown",
   "id": "5cb7723e-86d3-4f01-9c7f-1e34a468c52d",
   "metadata": {},
   "source": [
    "#### numero_de_reviews e id"
   ]
  },
  {
   "cell_type": "code",
   "execution_count": null,
   "id": "4d887f4c-6ced-48a9-9a7e-e485bd436181",
   "metadata": {
    "execution": {
     "iopub.status.busy": "2024-02-25T20:53:30.152097Z",
     "iopub.status.idle": "2024-02-25T20:53:30.153282Z",
     "shell.execute_reply": "2024-02-25T20:53:30.152910Z",
     "shell.execute_reply.started": "2024-02-25T20:53:30.152871Z"
    }
   },
   "outputs": [],
   "source": [
    "X = sm.add_constant(aux['id'])\n",
    "y = aux['numero_de_reviews']\n",
    "model = sm.OLS(y, X).fit()\n",
    "\n",
    "beta_0 = model.params[0]\n",
    "beta_1 = model.params[1]\n",
    "\n",
    "r_squared = model.rsquared\n",
    "\n",
    "correlation = aux['id'].corr(aux['numero_de_reviews'])\n",
    "\n",
    "sns.set(style=\"whitegrid\")\n",
    "ax = sns.regplot(x='id', y='numero_de_reviews', data=aux)\n",
    "\n",
    "ax.annotate(f'R² = {r_squared:.2f}', xy=(0.5, 0.9), xycoords='axes fraction', fontsize=12)\n",
    "ax.annotate(f'Beta_0 = {beta_0:.2f}', xy=(0.5, 0.85), xycoords='axes fraction', fontsize=12)\n",
    "ax.annotate(f'Beta_1 = {beta_1:.2f}', xy=(0.5, 0.80), xycoords='axes fraction', fontsize=12)\n",
    "ax.annotate(f'Correlation = {correlation:.2f}', xy=(0.5, 0.75), xycoords='axes fraction', fontsize=12)\n",
    "\n",
    "ax.set(xlabel='id', ylabel='numero_de_reviews')\n",
    "plt.gcf().set_size_inches(15, 6)\n",
    "plt.show()"
   ]
  },
  {
   "cell_type": "markdown",
   "id": "dbb69ce8-6cd6-420c-8e8e-4e20e72ed176",
   "metadata": {},
   "source": [
    "#### minimo_noites e numero_de_reviews"
   ]
  },
  {
   "cell_type": "code",
   "execution_count": null,
   "id": "167ae74b-0d97-49d2-b7d5-cd76eb5288a3",
   "metadata": {
    "execution": {
     "iopub.status.busy": "2024-02-25T20:53:30.155372Z",
     "iopub.status.idle": "2024-02-25T20:53:30.156689Z",
     "shell.execute_reply": "2024-02-25T20:53:30.156248Z",
     "shell.execute_reply.started": "2024-02-25T20:53:30.156195Z"
    }
   },
   "outputs": [],
   "source": [
    "X = sm.add_constant(aux['minimo_noites'])\n",
    "y = aux['numero_de_reviews']\n",
    "model = sm.OLS(y, X).fit()\n",
    "\n",
    "beta_0 = model.params[0]\n",
    "beta_1 = model.params[1]\n",
    "\n",
    "r_squared = model.rsquared\n",
    "\n",
    "correlation = aux['minimo_noites'].corr(aux['numero_de_reviews'])\n",
    "\n",
    "sns.set(style=\"whitegrid\")\n",
    "ax = sns.regplot(x='minimo_noites', y='numero_de_reviews', data=aux)\n",
    "\n",
    "ax.annotate(f'R² = {r_squared:.2f}', xy=(0.5, 0.9), xycoords='axes fraction', fontsize=12)\n",
    "ax.annotate(f'Beta_0 = {beta_0:.2f}', xy=(0.5, 0.85), xycoords='axes fraction', fontsize=12)\n",
    "ax.annotate(f'Beta_1 = {beta_1:.2f}', xy=(0.5, 0.80), xycoords='axes fraction', fontsize=12)\n",
    "ax.annotate(f'Correlation = {correlation:.2f}', xy=(0.5, 0.75), xycoords='axes fraction', fontsize=12)\n",
    "\n",
    "ax.set(xlabel='minimo_noites', ylabel='numero_de_reviews')\n",
    "plt.gcf().set_size_inches(15, 6)\n",
    "plt.show()"
   ]
  },
  {
   "cell_type": "markdown",
   "id": "8e9cf44d-b404-4972-b6cd-7351083dea5a",
   "metadata": {
    "jp-MarkdownHeadingCollapsed": true
   },
   "source": [
    "### **4.4.2 Categorical attributes**"
   ]
  },
  {
   "cell_type": "code",
   "execution_count": null,
   "id": "c823d1dc-f331-4e6b-b302-60aa2c037402",
   "metadata": {
    "execution": {
     "iopub.status.busy": "2024-02-25T20:53:30.159283Z",
     "iopub.status.idle": "2024-02-25T20:53:30.161221Z",
     "shell.execute_reply": "2024-02-25T20:53:30.160829Z",
     "shell.execute_reply.started": "2024-02-25T20:53:30.160787Z"
    }
   },
   "outputs": [],
   "source": [
    "nome = df4['nome']\n",
    "bairro_group = df4['bairro_group']\n",
    "bairro = df4['bairro']\n",
    "room_type = df4['room_type']\n",
    "\n",
    "# Criar DataFrame para visualização\n",
    "dataframe_for_heatmap = pd.DataFrame({\n",
    "    'nome': nome,\n",
    "    'bairro_group': bairro_group,\n",
    "    'bairro': bairro,\n",
    "    'room_type': room_type\n",
    "})\n",
    "\n",
    "# Calcular matriz de Cramér V\n",
    "cramers_v_matrix = calculate_cramers_v_matrix(dataframe_for_heatmap)\n",
    "\n",
    "# Criar heatmap\n",
    "plt.figure(figsize=(15, 6))\n",
    "sns.heatmap(cramers_v_matrix, annot=True, cmap='coolwarm', cbar=True, square=True, fmt='.4f', annot_kws={'size': 10})\n",
    "plt.title('Matriz de Cramér V entre Variáveis Categóricas')\n",
    "plt.show()"
   ]
  },
  {
   "cell_type": "markdown",
   "id": "5f40af7b-b3d5-407d-99b9-ca9d14f7197a",
   "metadata": {
    "jp-MarkdownHeadingCollapsed": true
   },
   "source": [
    "## **4.5 Main insights**"
   ]
  },
  {
   "cell_type": "markdown",
   "id": "55aaab00-a725-41e2-9091-8d7779f3b7fd",
   "metadata": {},
   "source": [
    "- A variável resposta possui muitos outliers mas tem uma concentração muito alta em valores mais baixos, também possui 9 linhas com valor igual a zero.\n",
    "\n",
    "- A chave única para cada anúncio e id do usuário provavelmente são geradas aleatoriamente.\n",
    "\n",
    "- Alguns host names são repetidos trazendo uma média de preço para um nome específico; isso talvez até possibilitasse o uso de um target encoder, porém atrelar nomes de pessoas a valores de aluguel não faz muito sentido.\n",
    "\n",
    "- Existe uma relação muito clara entre bairro_group e o preço (todos os imóveis estão em Nova York).\n",
    "\n",
    "- O bairro está atrelado ao bairro_group, portanto é uma variável importante, porém devido a essa forte correlação talvez uma delas será excluída.\n",
    "\n",
    "- Latitude e longitude podem se tornar importantes com algum tratamento, depois será necessário estudar se será inviabilizada devido a uma possível correlação com bairro_group/bairro.\n",
    "\n",
    "- Existe uma relação muito clara entre room_type e o preço.\n",
    "\n",
    "- Minimo_noites, numero_de_reviews, ultima_review, reviews_por_mes, calculado_host_listings_count e disponibilidade_365 não possuem uma correlação importante com o preço.\n",
    "\n",
    "- Fora as correlações já citadas, não há outras importantes. "
   ]
  },
  {
   "cell_type": "markdown",
   "id": "22367e8f-8da6-4c83-838d-7db12c35605c",
   "metadata": {},
   "source": [
    "# **5 Data preparation**"
   ]
  },
  {
   "cell_type": "code",
   "execution_count": 347,
   "id": "0299da1c-6087-493f-9fe4-ef7db310108f",
   "metadata": {
    "execution": {
     "iopub.execute_input": "2024-02-26T19:06:27.731098Z",
     "iopub.status.busy": "2024-02-26T19:06:27.729013Z",
     "iopub.status.idle": "2024-02-26T19:06:27.747078Z",
     "shell.execute_reply": "2024-02-26T19:06:27.745183Z",
     "shell.execute_reply.started": "2024-02-26T19:06:27.731021Z"
    }
   },
   "outputs": [],
   "source": [
    "df5=df4.copy()"
   ]
  },
  {
   "cell_type": "markdown",
   "id": "c0889881-617e-447a-aebe-ce396d9d7ad3",
   "metadata": {},
   "source": [
    "## **5.1 Col drops**"
   ]
  },
  {
   "cell_type": "code",
   "execution_count": 348,
   "id": "cb9a5611-036c-440a-9bfb-185d9c11749c",
   "metadata": {
    "execution": {
     "iopub.execute_input": "2024-02-26T19:06:28.374653Z",
     "iopub.status.busy": "2024-02-26T19:06:28.373626Z",
     "iopub.status.idle": "2024-02-26T19:06:28.391738Z",
     "shell.execute_reply": "2024-02-26T19:06:28.390231Z",
     "shell.execute_reply.started": "2024-02-26T19:06:28.374603Z"
    }
   },
   "outputs": [
    {
     "name": "stdout",
     "output_type": "stream",
     "text": [
      "39115\n",
      "4889\n",
      "4890\n"
     ]
    }
   ],
   "source": [
    "X_train=df5.drop(['id','nome','host_id','host_name','ultima_review','price'],axis=1)\n",
    "y_train=df5['price']\n",
    "\n",
    "X_val=x_val.drop(['id','nome','host_id','host_name','ultima_review'],axis=1)\n",
    "X_test=x_test.drop(['id','nome','host_id','host_name','ultima_review'],axis=1)\n",
    "\n",
    "print(len(x_train))\n",
    "print(len(x_val))\n",
    "print(len(x_test))"
   ]
  },
  {
   "cell_type": "markdown",
   "id": "3d4d266e-5061-4519-86b1-09177c4ebae7",
   "metadata": {
    "jp-MarkdownHeadingCollapsed": true
   },
   "source": [
    "## **5.2 Histograms**"
   ]
  },
  {
   "cell_type": "code",
   "execution_count": 75,
   "id": "514c6be1-98e7-424b-8e25-5454f0a353c8",
   "metadata": {
    "execution": {
     "iopub.execute_input": "2024-02-22T12:18:46.224994Z",
     "iopub.status.busy": "2024-02-22T12:18:46.224392Z",
     "iopub.status.idle": "2024-02-22T12:18:47.140917Z",
     "shell.execute_reply": "2024-02-22T12:18:47.139030Z",
     "shell.execute_reply.started": "2024-02-22T12:18:46.224931Z"
    }
   },
   "outputs": [
    {
     "data": {
      "image/png": "[encoded data removed]",
      "text/plain": [
       "<Figure size 1200x400 with 1 Axes>"
      ]
     },
     "metadata": {},
     "output_type": "display_data"
    }
   ],
   "source": [
    "plt.figure(figsize=(12, 4))\n",
    "sns.histplot(df1, x='minimo_noites',bins=50, kde=True)\n",
    "plt.show()"
   ]
  },
  {
   "cell_type": "code",
   "execution_count": 76,
   "id": "eb0176a2-a1d5-4e5e-bbf6-d6aa5d0cf698",
   "metadata": {
    "execution": {
     "iopub.execute_input": "2024-02-22T12:18:47.143937Z",
     "iopub.status.busy": "2024-02-22T12:18:47.143022Z",
     "iopub.status.idle": "2024-02-22T12:18:47.941520Z",
     "shell.execute_reply": "2024-02-22T12:18:47.938243Z",
     "shell.execute_reply.started": "2024-02-22T12:18:47.143863Z"
    }
   },
   "outputs": [
    {
     "data": {
      "image/png": "[encoded data removed]",
      "text/plain": [
       "<Figure size 1200x400 with 1 Axes>"
      ]
     },
     "metadata": {},
     "output_type": "display_data"
    }
   ],
   "source": [
    "plt.figure(figsize=(12, 4))\n",
    "sns.histplot(df1, x='numero_de_reviews',bins=50, kde=True)\n",
    "plt.show()"
   ]
  },
  {
   "cell_type": "code",
   "execution_count": 77,
   "id": "81d3d72b-ccfb-4021-babd-c352830351cb",
   "metadata": {
    "execution": {
     "iopub.execute_input": "2024-02-22T12:18:47.944087Z",
     "iopub.status.busy": "2024-02-22T12:18:47.943518Z",
     "iopub.status.idle": "2024-02-22T12:18:48.691200Z",
     "shell.execute_reply": "2024-02-22T12:18:48.689825Z",
     "shell.execute_reply.started": "2024-02-22T12:18:47.944042Z"
    }
   },
   "outputs": [
    {
     "data": {
      "image/png": "[encoded data removed]",
      "text/plain": [
       "<Figure size 1200x400 with 1 Axes>"
      ]
     },
     "metadata": {},
     "output_type": "display_data"
    }
   ],
   "source": [
    "plt.figure(figsize=(12, 4))\n",
    "sns.histplot(df1, x='reviews_por_mes',bins=50, kde=True)\n",
    "plt.show()"
   ]
  },
  {
   "cell_type": "code",
   "execution_count": 78,
   "id": "c9ad29b5-469e-4250-b5fd-6460e27553fa",
   "metadata": {
    "execution": {
     "iopub.execute_input": "2024-02-22T12:18:48.693282Z",
     "iopub.status.busy": "2024-02-22T12:18:48.692779Z",
     "iopub.status.idle": "2024-02-22T12:18:49.576964Z",
     "shell.execute_reply": "2024-02-22T12:18:49.575741Z",
     "shell.execute_reply.started": "2024-02-22T12:18:48.693242Z"
    }
   },
   "outputs": [
    {
     "data": {
      "image/png": "[encoded data removed]",
      "text/plain": [
       "<Figure size 1200x400 with 1 Axes>"
      ]
     },
     "metadata": {},
     "output_type": "display_data"
    }
   ],
   "source": [
    "plt.figure(figsize=(12, 4))\n",
    "sns.histplot(df1, x='disponibilidade_365',bins=50, kde=True)\n",
    "plt.show()"
   ]
  },
  {
   "cell_type": "code",
   "execution_count": 79,
   "id": "f5687e53-c129-44ed-90ca-39efe3a0d3fd",
   "metadata": {
    "execution": {
     "iopub.execute_input": "2024-02-22T12:18:49.579982Z",
     "iopub.status.busy": "2024-02-22T12:18:49.579192Z",
     "iopub.status.idle": "2024-02-22T12:18:50.330223Z",
     "shell.execute_reply": "2024-02-22T12:18:50.328999Z",
     "shell.execute_reply.started": "2024-02-22T12:18:49.579915Z"
    }
   },
   "outputs": [
    {
     "data": {
      "image/png": "[encoded data removed]",
      "text/plain": [
       "<Figure size 1200x400 with 1 Axes>"
      ]
     },
     "metadata": {},
     "output_type": "display_data"
    }
   ],
   "source": [
    "plt.figure(figsize=(12, 4))\n",
    "sns.histplot(df1, x='price',bins=50, kde=True)\n",
    "plt.show()"
   ]
  },
  {
   "cell_type": "markdown",
   "id": "73fc59db-615b-4fdd-93eb-5294eaba3714",
   "metadata": {
    "jp-MarkdownHeadingCollapsed": true
   },
   "source": [
    "## **5.3 Normalization**"
   ]
  },
  {
   "cell_type": "code",
   "execution_count": 349,
   "id": "faa10a4a-a69e-40fe-adfc-7a42336540dd",
   "metadata": {
    "execution": {
     "iopub.execute_input": "2024-02-26T19:06:31.789717Z",
     "iopub.status.busy": "2024-02-26T19:06:31.788589Z",
     "iopub.status.idle": "2024-02-26T19:06:31.889864Z",
     "shell.execute_reply": "2024-02-26T19:06:31.888859Z",
     "shell.execute_reply.started": "2024-02-26T19:06:31.789645Z"
    }
   },
   "outputs": [],
   "source": [
    "pt = PowerTransformer(method='yeo-johnson')\n",
    "Y_train = y_train.values.reshape(-1, 1)\n",
    "pt.fit(Y_train)\n",
    "Y_train = np.array([Y_train])\n",
    "Y_train = boxcox1p(Y_train,pt.lambdas_)\n",
    "Y_train=Y_train.reshape(-1, 1)\n",
    "\n",
    "Y_val = y_val.values.reshape(-1, 1)\n",
    "pt.transform(Y_val)\n",
    "Y_val = np.array([Y_val])\n",
    "Y_val = boxcox1p(Y_val,pt.lambdas_)\n",
    "Y_val=Y_val.reshape(-1, 1)\n",
    "\n",
    "Y_test = y_test.values.reshape(-1, 1)\n",
    "pt.transform(Y_test)\n",
    "Y_test = np.array([Y_test])\n",
    "Y_test = boxcox1p(Y_test,pt.lambdas_)\n",
    "Y_test=Y_test.reshape(-1, 1)\n",
    "\n",
    "\n",
    "scaler = StandardScaler()\n",
    "Y_train = scaler.fit_transform(Y_train)\n",
    "Y_val = scaler.transform(Y_val)\n",
    "Y_test = scaler.transform(Y_test)"
   ]
  },
  {
   "cell_type": "markdown",
   "id": "f21ccfd1-b20b-499a-a830-ff2189ce9493",
   "metadata": {
    "jp-MarkdownHeadingCollapsed": true
   },
   "source": [
    "## **5.4 Rescaling**"
   ]
  },
  {
   "cell_type": "code",
   "execution_count": 350,
   "id": "63173af1-3f6d-46a1-aa48-4abcfe93a6f2",
   "metadata": {
    "execution": {
     "iopub.execute_input": "2024-02-26T19:06:32.257437Z",
     "iopub.status.busy": "2024-02-26T19:06:32.256849Z",
     "iopub.status.idle": "2024-02-26T19:06:32.277956Z",
     "shell.execute_reply": "2024-02-26T19:06:32.276442Z",
     "shell.execute_reply.started": "2024-02-26T19:06:32.257373Z"
    }
   },
   "outputs": [],
   "source": [
    "# to_normalize = ['minimo_noites', 'numero_de_reviews', 'reviews_por_mes', 'disponibilidade_365']\n",
    "\n",
    "# scalers = {}\n",
    "\n",
    "# for var in to_normalize:\n",
    "#     scaler = MinMaxScaler()\n",
    "#     X_train[var] = scaler.fit_transform(X_train[[var]].values)\n",
    "#     X_val[var] = scaler.transform(X_val[[var]].values)\n",
    "#     X_test[var] = scaler.transform(X_test[[var]].values)\n",
    "#     scalers[var] = scaler\n",
    "    \n",
    "# for var in to_normalize:\n",
    "#     scaler = RobustScaler()\n",
    "#     X_train[var] = scaler.fit_transform(X_train[[var]].values)\n",
    "#     X_val[var] = scaler.transform(X_val[[var]].values)\n",
    "#     X_test[var] = scaler.transform(X_test[[var]].values)\n",
    "#     scalers[var] = scaler\n",
    "    \n",
    "# y_train=np.log1p(y_train) \n",
    "# y_val=np.log1p(y_val)\n",
    "# y_test=np.log1p(y_test)"
   ]
  },
  {
   "cell_type": "markdown",
   "id": "a515ffff-6c97-4c36-abcd-10c644e735c7",
   "metadata": {},
   "source": [
    "## **5.5 Encoding**"
   ]
  },
  {
   "cell_type": "code",
   "execution_count": 351,
   "id": "2df344d8-d05e-4f6e-8f27-e8222309647c",
   "metadata": {
    "execution": {
     "iopub.execute_input": "2024-02-26T19:06:33.776603Z",
     "iopub.status.busy": "2024-02-26T19:06:33.774762Z",
     "iopub.status.idle": "2024-02-26T19:06:34.024637Z",
     "shell.execute_reply": "2024-02-26T19:06:34.023502Z",
     "shell.execute_reply.started": "2024-02-26T19:06:33.776526Z"
    }
   },
   "outputs": [],
   "source": [
    "# bairro_group\n",
    "# X_train=pd.get_dummies(X_train,prefix=['bairro_group'],columns=['bairro_group'])\n",
    "# X_val=pd.get_dummies(X_val,prefix=['bairro_group'],columns=['bairro_group'])\n",
    "# X_test=pd.get_dummies(X_test,prefix=['bairro_group'],columns=['bairro_group'])\n",
    "\n",
    "te = TargetEncoder(cols=['bairro_group'])\n",
    "X_train = te.fit_transform(X_train, y_train)\n",
    "X_val = te.transform(X_val)\n",
    "X_test = te.transform(X_test)\n",
    "\n",
    "# bairro = {'Manhattan': 5, 'Brooklyn': 4, 'Staten Island': 3, 'Queens':2, 'Bronx':1 }\n",
    "# X_train['bairro_group'] = X_train['bairro_group'].map(bairro)\n",
    "# X_val['bairro_group'] = X_val['bairro_group'].map(bairro)\n",
    "# X_test['bairro_group'] = X_test['bairro_group'].map(bairro)\n",
    "\n",
    "# bairro\n",
    "te = TargetEncoder(cols=['bairro'])\n",
    "X_train = te.fit_transform(X_train, y_train)\n",
    "X_val = te.transform(X_val)\n",
    "X_test = te.transform(X_test)\n",
    "\n",
    "# room_type\n",
    "# X_train=pd.get_dummies(X_train,prefix=['room_type'],columns=['room_type'])\n",
    "# X_val=pd.get_dummies(X_val,prefix=['room_type'],columns=['room_type'])\n",
    "# X_test=pd.get_dummies(X_test,prefix=['room_type'],columns=['room_type'])\n",
    "\n",
    "te = TargetEncoder(cols=['room_type'])\n",
    "X_train = te.fit_transform(X_train, y_train)\n",
    "X_val = te.transform(X_val)\n",
    "X_test = te.transform(X_test)\n",
    "\n",
    "# room = {'Shared room': 1, 'Private room': 2, 'Entire home/apt': 3}\n",
    "# X_train['room_type'] = X_train['room_type'].map(room)\n",
    "# X_val['room_type'] = X_val['room_type'].map(room)\n",
    "# X_test['room_type'] = X_test['room_type'].map(room)"
   ]
  },
  {
   "cell_type": "code",
   "execution_count": 83,
   "id": "b14f8851-0393-443f-ab41-84cde4742b21",
   "metadata": {
    "execution": {
     "iopub.execute_input": "2024-02-22T12:18:50.517437Z",
     "iopub.status.busy": "2024-02-22T12:18:50.516220Z",
     "iopub.status.idle": "2024-02-22T12:18:50.523863Z",
     "shell.execute_reply": "2024-02-22T12:18:50.521616Z",
     "shell.execute_reply.started": "2024-02-22T12:18:50.517370Z"
    },
    "jupyter": {
     "source_hidden": true
    }
   },
   "outputs": [],
   "source": [
    "# print(x_train.isna().sum())\n",
    "# print(x_val.isna().sum())\n",
    "# print(x_test.isna().sum())"
   ]
  },
  {
   "cell_type": "markdown",
   "id": "1c10c749-7978-4189-809f-e153c18e376c",
   "metadata": {
    "jp-MarkdownHeadingCollapsed": true
   },
   "source": [
    "# **6 <s>Feature selection<s/>**"
   ]
  },
  {
   "cell_type": "code",
   "execution_count": 71,
   "id": "380e6249-35ac-4095-a92f-461c85fdf887",
   "metadata": {
    "execution": {
     "iopub.execute_input": "2024-02-26T16:13:28.553266Z",
     "iopub.status.busy": "2024-02-26T16:13:28.552206Z",
     "iopub.status.idle": "2024-02-26T16:13:28.561422Z",
     "shell.execute_reply": "2024-02-26T16:13:28.559565Z",
     "shell.execute_reply.started": "2024-02-26T16:13:28.553225Z"
    }
   },
   "outputs": [],
   "source": [
    "df6=df5.copy()"
   ]
  },
  {
   "cell_type": "markdown",
   "id": "2e10ef99-022b-458a-9a7b-204180ab5dd9",
   "metadata": {},
   "source": [
    "# **7 Machine Learning**"
   ]
  },
  {
   "cell_type": "code",
   "execution_count": 72,
   "id": "1cd9443e-95b4-4655-8702-b470352c2bfb",
   "metadata": {
    "execution": {
     "iopub.execute_input": "2024-02-26T16:13:30.563781Z",
     "iopub.status.busy": "2024-02-26T16:13:30.562661Z",
     "iopub.status.idle": "2024-02-26T16:13:30.574463Z",
     "shell.execute_reply": "2024-02-26T16:13:30.573325Z",
     "shell.execute_reply.started": "2024-02-26T16:13:30.563719Z"
    }
   },
   "outputs": [],
   "source": [
    "df7=df6.copy()"
   ]
  },
  {
   "cell_type": "markdown",
   "id": "a5e90b2b-d28a-4a27-a1a6-6ffb7f79c641",
   "metadata": {
    "jp-MarkdownHeadingCollapsed": true
   },
   "source": [
    "## **7.1 Average model**"
   ]
  },
  {
   "cell_type": "code",
   "execution_count": 73,
   "id": "0c605ff5-9f12-467f-93ab-e47c1a177fda",
   "metadata": {
    "execution": {
     "iopub.execute_input": "2024-02-26T16:13:32.833265Z",
     "iopub.status.busy": "2024-02-26T16:13:32.832453Z",
     "iopub.status.idle": "2024-02-26T16:13:32.872253Z",
     "shell.execute_reply": "2024-02-26T16:13:32.870511Z",
     "shell.execute_reply.started": "2024-02-26T16:13:32.833228Z"
    }
   },
   "outputs": [
    {
     "data": {
      "text/html": [
       "<div>\n",
       "<style scoped>\n",
       "    .dataframe tbody tr th:only-of-type {\n",
       "        vertical-align: middle;\n",
       "    }\n",
       "\n",
       "    .dataframe tbody tr th {\n",
       "        vertical-align: top;\n",
       "    }\n",
       "\n",
       "    .dataframe thead th {\n",
       "        text-align: right;\n",
       "    }\n",
       "</style>\n",
       "<table border=\"1\" class=\"dataframe\">\n",
       "  <thead>\n",
       "    <tr style=\"text-align: right;\">\n",
       "      <th></th>\n",
       "      <th>Model Name</th>\n",
       "      <th>MAE</th>\n",
       "      <th>MAPE</th>\n",
       "      <th>RMSE</th>\n",
       "    </tr>\n",
       "  </thead>\n",
       "  <tbody>\n",
       "    <tr>\n",
       "      <th>0</th>\n",
       "      <td>Baseline model</td>\n",
       "      <td>88.610938</td>\n",
       "      <td>0.872001</td>\n",
       "      <td>178.58916</td>\n",
       "    </tr>\n",
       "  </tbody>\n",
       "</table>\n",
       "</div>"
      ],
      "text/plain": [
       "       Model Name        MAE      MAPE       RMSE\n",
       "0  Baseline model  88.610938  0.872001  178.58916"
      ]
     },
     "execution_count": 73,
     "metadata": {},
     "output_type": "execute_result"
    }
   ],
   "source": [
    "target = df7['price']\n",
    "\n",
    "mean_prediction = target.mean()\n",
    "\n",
    "baseline_predictions = pd.Series([mean_prediction] * len(target))\n",
    "\n",
    "mae_baseline = mean_absolute_error(target, baseline_predictions)\n",
    "mape_baseline = mean_absolute_percentage_error(target, baseline_predictions)\n",
    "mse_baseline = mean_squared_error(target, baseline_predictions)\n",
    "rmse_baseline = np.sqrt(mse_baseline)\n",
    "\n",
    "result_baseline = pd.DataFrame({'Model Name': 'Baseline model',\n",
    "                       'MAE': mae_baseline,\n",
    "                       'MAPE': mape_baseline,\n",
    "                       'RMSE': rmse_baseline}, index=[0])\n",
    "result_baseline"
   ]
  },
  {
   "cell_type": "markdown",
   "id": "04c42401-cef1-42ac-b5ca-defb8b12729e",
   "metadata": {
    "jp-MarkdownHeadingCollapsed": true
   },
   "source": [
    "## **7.2 Linear regression**"
   ]
  },
  {
   "cell_type": "code",
   "execution_count": 224,
   "id": "0df26f4d-cd35-4f02-9db2-3aba3f631eef",
   "metadata": {
    "execution": {
     "iopub.execute_input": "2024-02-26T18:36:57.884884Z",
     "iopub.status.busy": "2024-02-26T18:36:57.884334Z",
     "iopub.status.idle": "2024-02-26T18:36:57.965694Z",
     "shell.execute_reply": "2024-02-26T18:36:57.963782Z",
     "shell.execute_reply.started": "2024-02-26T18:36:57.884827Z"
    }
   },
   "outputs": [
    {
     "data": {
      "text/html": [
       "<div>\n",
       "<style scoped>\n",
       "    .dataframe tbody tr th:only-of-type {\n",
       "        vertical-align: middle;\n",
       "    }\n",
       "\n",
       "    .dataframe tbody tr th {\n",
       "        vertical-align: top;\n",
       "    }\n",
       "\n",
       "    .dataframe thead th {\n",
       "        text-align: right;\n",
       "    }\n",
       "</style>\n",
       "<table border=\"1\" class=\"dataframe\">\n",
       "  <thead>\n",
       "    <tr style=\"text-align: right;\">\n",
       "      <th></th>\n",
       "      <th>Model Name</th>\n",
       "      <th>MAE</th>\n",
       "      <th>MAPE</th>\n",
       "      <th>RMSE</th>\n",
       "    </tr>\n",
       "  </thead>\n",
       "  <tbody>\n",
       "    <tr>\n",
       "      <th>0</th>\n",
       "      <td>Linear Regression</td>\n",
       "      <td>57.823005</td>\n",
       "      <td>0.338189</td>\n",
       "      <td>247.739849</td>\n",
       "    </tr>\n",
       "  </tbody>\n",
       "</table>\n",
       "</div>"
      ],
      "text/plain": [
       "          Model Name        MAE      MAPE        RMSE\n",
       "0  Linear Regression  57.823005  0.338189  247.739849"
      ]
     },
     "execution_count": 224,
     "metadata": {},
     "output_type": "execute_result"
    }
   ],
   "source": [
    "# model\n",
    "lr=LinearRegression().fit(X_train,Y_train)\n",
    "\n",
    "# prediction\n",
    "lr_yhat=lr.predict(X_val)\n",
    "\n",
    "# prediction to original scale\n",
    "lr_yhat_= scaler.inverse_transform(lr_yhat.reshape(-1, 1))\n",
    "lr_yhat_= inv_boxcox1p(lr_yhat_, pt.lambdas_).flatten()\n",
    "\n",
    "mae_lr = mean_absolute_error                 (y_val, lr_yhat_)\n",
    "mape_lr = mean_absolute_percentage_error_func(y_val, lr_yhat_)\n",
    "mse_lr = mean_squared_error                  (y_val, lr_yhat_)\n",
    "rmse_lr = np.sqrt((mse_lr))\n",
    "\n",
    "result_lr = pd.DataFrame({'Model Name': 'Linear Regression',\n",
    "                       'MAE': mae_lr,\n",
    "                       'MAPE': mape_lr,\n",
    "                       'RMSE': rmse_lr}, index=[0])\n",
    "result_lr"
   ]
  },
  {
   "cell_type": "markdown",
   "id": "284b1d5a-6328-419b-9ecf-a561a6d5d713",
   "metadata": {},
   "source": [
    "### **7.2.1 Linear regression model - Cross validation** "
   ]
  },
  {
   "cell_type": "code",
   "execution_count": 225,
   "id": "b65771e1-c1a3-49cb-ab2e-65cf854c204d",
   "metadata": {
    "execution": {
     "iopub.execute_input": "2024-02-26T18:36:59.602941Z",
     "iopub.status.busy": "2024-02-26T18:36:59.602057Z",
     "iopub.status.idle": "2024-02-26T18:36:59.958476Z",
     "shell.execute_reply": "2024-02-26T18:36:59.956622Z",
     "shell.execute_reply.started": "2024-02-26T18:36:59.602846Z"
    }
   },
   "outputs": [
    {
     "data": {
      "text/html": [
       "<div>\n",
       "<style scoped>\n",
       "    .dataframe tbody tr th:only-of-type {\n",
       "        vertical-align: middle;\n",
       "    }\n",
       "\n",
       "    .dataframe tbody tr th {\n",
       "        vertical-align: top;\n",
       "    }\n",
       "\n",
       "    .dataframe thead th {\n",
       "        text-align: right;\n",
       "    }\n",
       "</style>\n",
       "<table border=\"1\" class=\"dataframe\">\n",
       "  <thead>\n",
       "    <tr style=\"text-align: right;\">\n",
       "      <th></th>\n",
       "      <th>Model Name</th>\n",
       "      <th>MAE</th>\n",
       "      <th>MAPE</th>\n",
       "      <th>RMSE</th>\n",
       "    </tr>\n",
       "  </thead>\n",
       "  <tbody>\n",
       "    <tr>\n",
       "      <th>0</th>\n",
       "      <td>Linear Regression CV</td>\n",
       "      <td>59.25005</td>\n",
       "      <td>0.350189</td>\n",
       "      <td>162.869507</td>\n",
       "    </tr>\n",
       "  </tbody>\n",
       "</table>\n",
       "</div>"
      ],
      "text/plain": [
       "             Model Name       MAE      MAPE        RMSE\n",
       "0  Linear Regression CV  59.25005  0.350189  162.869507"
      ]
     },
     "execution_count": 225,
     "metadata": {},
     "output_type": "execute_result"
    }
   ],
   "source": [
    "lr_cv = LinearRegression()\n",
    "\n",
    "kf = KFold(n_splits=5, shuffle=True, random_state=42)\n",
    "\n",
    "y_pred = cross_val_predict(lr_cv, X_train, Y_train, cv=kf)\n",
    "\n",
    "# prediction to original scale\n",
    "y_pred_= scaler.inverse_transform(y_pred.reshape(-1, 1))\n",
    "y_pred_ = inv_boxcox1p(y_pred_, pt.lambdas_).flatten()\n",
    "\n",
    "mae_lr_cv = mean_absolute_error(y_train, y_pred_)\n",
    "mape_lr_cv = mean_absolute_percentage_error_func(y_train, y_pred_)\n",
    "rmse_lr_cv = np.sqrt(mean_squared_error(y_train, y_pred_))\n",
    "\n",
    "std_mae = np.std(-mae_lr_cv)\n",
    "std_mape = np.std(-mape_lr_cv)\n",
    "std_rmse = np.std(-rmse_lr_cv)\n",
    "\n",
    "result_lr_cv = pd.DataFrame({'Model Name': 'Linear Regression CV',\n",
    "                              'MAE': mae_lr_cv,\n",
    "                              'MAPE': mape_lr_cv,\n",
    "                              'RMSE': rmse_lr_cv}, index=[0])\n",
    "\n",
    "result_lr_cv"
   ]
  },
  {
   "cell_type": "markdown",
   "id": "29ad7842-0cf4-48c8-a9c0-e5c580c4aa4a",
   "metadata": {
    "jp-MarkdownHeadingCollapsed": true
   },
   "source": [
    "## **7.3 Linear regression regularized**"
   ]
  },
  {
   "cell_type": "code",
   "execution_count": 226,
   "id": "dd301211-628d-4d48-885e-65cd4a4274bc",
   "metadata": {
    "execution": {
     "iopub.execute_input": "2024-02-26T18:37:00.682458Z",
     "iopub.status.busy": "2024-02-26T18:37:00.681983Z",
     "iopub.status.idle": "2024-02-26T18:37:00.751130Z",
     "shell.execute_reply": "2024-02-26T18:37:00.749308Z",
     "shell.execute_reply.started": "2024-02-26T18:37:00.682420Z"
    }
   },
   "outputs": [
    {
     "data": {
      "text/html": [
       "<div>\n",
       "<style scoped>\n",
       "    .dataframe tbody tr th:only-of-type {\n",
       "        vertical-align: middle;\n",
       "    }\n",
       "\n",
       "    .dataframe tbody tr th {\n",
       "        vertical-align: top;\n",
       "    }\n",
       "\n",
       "    .dataframe thead th {\n",
       "        text-align: right;\n",
       "    }\n",
       "</style>\n",
       "<table border=\"1\" class=\"dataframe\">\n",
       "  <thead>\n",
       "    <tr style=\"text-align: right;\">\n",
       "      <th></th>\n",
       "      <th>Model Name</th>\n",
       "      <th>MAE</th>\n",
       "      <th>MAPE</th>\n",
       "      <th>RMSE</th>\n",
       "    </tr>\n",
       "  </thead>\n",
       "  <tbody>\n",
       "    <tr>\n",
       "      <th>0</th>\n",
       "      <td>Lasso</td>\n",
       "      <td>58.182289</td>\n",
       "      <td>0.341138</td>\n",
       "      <td>247.230366</td>\n",
       "    </tr>\n",
       "  </tbody>\n",
       "</table>\n",
       "</div>"
      ],
      "text/plain": [
       "  Model Name        MAE      MAPE        RMSE\n",
       "0      Lasso  58.182289  0.341138  247.230366"
      ]
     },
     "execution_count": 226,
     "metadata": {},
     "output_type": "execute_result"
    }
   ],
   "source": [
    "# model\n",
    "lrr=Lasso().fit(X_train,Y_train)\n",
    "\n",
    "# prediction\n",
    "lrr_yhat=lrr.predict(X_val)\n",
    "\n",
    "# prediction to original scale\n",
    "lrr_yhat_= scaler.inverse_transform(lrr_yhat.reshape(-1, 1))\n",
    "lrr_yhat_= inv_boxcox1p(lrr_yhat_, pt.lambdas_).flatten()\n",
    "\n",
    "mae_lrr = mean_absolute_error                 (y_val, lrr_yhat_)\n",
    "mape_lrr = mean_absolute_percentage_error_func(y_val, lrr_yhat_)\n",
    "mse_lrr = mean_squared_error                  (y_val, lrr_yhat_)\n",
    "rmse_lrr = np.sqrt((mse_lrr))\n",
    "\n",
    "result_lrr = pd.DataFrame({'Model Name': 'Lasso',\n",
    "                       'MAE': mae_lrr,\n",
    "                       'MAPE': mape_lrr,\n",
    "                       'RMSE': rmse_lrr}, index=[0])\n",
    "result_lrr"
   ]
  },
  {
   "cell_type": "markdown",
   "id": "86e2319e-4ed6-4083-b597-89b923a7e66e",
   "metadata": {},
   "source": [
    "### **7.3.1 Linear regression regularized - Cross Validation**"
   ]
  },
  {
   "cell_type": "code",
   "execution_count": 227,
   "id": "53e32c2f-a8af-4b47-b17c-0048f4985975",
   "metadata": {
    "execution": {
     "iopub.execute_input": "2024-02-26T18:37:01.589743Z",
     "iopub.status.busy": "2024-02-26T18:37:01.589167Z",
     "iopub.status.idle": "2024-02-26T18:37:01.982307Z",
     "shell.execute_reply": "2024-02-26T18:37:01.980317Z",
     "shell.execute_reply.started": "2024-02-26T18:37:01.589689Z"
    }
   },
   "outputs": [
    {
     "data": {
      "text/html": [
       "<div>\n",
       "<style scoped>\n",
       "    .dataframe tbody tr th:only-of-type {\n",
       "        vertical-align: middle;\n",
       "    }\n",
       "\n",
       "    .dataframe tbody tr th {\n",
       "        vertical-align: top;\n",
       "    }\n",
       "\n",
       "    .dataframe thead th {\n",
       "        text-align: right;\n",
       "    }\n",
       "</style>\n",
       "<table border=\"1\" class=\"dataframe\">\n",
       "  <thead>\n",
       "    <tr style=\"text-align: right;\">\n",
       "      <th></th>\n",
       "      <th>Model Name</th>\n",
       "      <th>MAE</th>\n",
       "      <th>MAPE</th>\n",
       "      <th>RMSE</th>\n",
       "    </tr>\n",
       "  </thead>\n",
       "  <tbody>\n",
       "    <tr>\n",
       "      <th>0</th>\n",
       "      <td>Lasso CV</td>\n",
       "      <td>59.505593</td>\n",
       "      <td>0.351642</td>\n",
       "      <td>163.900843</td>\n",
       "    </tr>\n",
       "  </tbody>\n",
       "</table>\n",
       "</div>"
      ],
      "text/plain": [
       "  Model Name        MAE      MAPE        RMSE\n",
       "0   Lasso CV  59.505593  0.351642  163.900843"
      ]
     },
     "execution_count": 227,
     "metadata": {},
     "output_type": "execute_result"
    }
   ],
   "source": [
    "lrr_cv=Lasso() \n",
    "\n",
    "kf = KFold(n_splits=5, shuffle=True, random_state=42)\n",
    "\n",
    "y_pred = cross_val_predict(lrr_cv, X_train, Y_train, cv=kf)\n",
    "\n",
    "# prediction to original scale\n",
    "y_pred_= scaler.inverse_transform(y_pred.reshape(-1, 1))\n",
    "y_pred_ = inv_boxcox1p(y_pred_, pt.lambdas_).flatten()\n",
    "\n",
    "mae_lrr_cv = mean_absolute_error(y_train, y_pred_)\n",
    "mape_lrr_cv = mean_absolute_percentage_error_func(y_train, y_pred_)\n",
    "rmse_lrr_cv = np.sqrt(mean_squared_error(y_train, y_pred_))\n",
    "\n",
    "std_mae = np.std(-mae_lrr_cv)\n",
    "std_mape = np.std(-mape_lrr_cv)\n",
    "std_rmse = np.std(-rmse_lrr_cv)\n",
    "\n",
    "result_lrr_cv = pd.DataFrame({'Model Name': 'Lasso CV',\n",
    "                              'MAE': mae_lrr_cv,\n",
    "                              'MAPE': mape_lrr_cv,\n",
    "                              'RMSE': rmse_lrr_cv}, index=[0])\n",
    "\n",
    "result_lrr_cv"
   ]
  },
  {
   "cell_type": "markdown",
   "id": "b08bb57f-3421-4cd7-b839-17e137fbc147",
   "metadata": {
    "jp-MarkdownHeadingCollapsed": true
   },
   "source": [
    "## **7.4 Random Forest Regressor**"
   ]
  },
  {
   "cell_type": "code",
   "execution_count": 228,
   "id": "a77464ca-777a-453d-8d89-f8442705dea6",
   "metadata": {
    "execution": {
     "iopub.execute_input": "2024-02-26T18:37:02.476501Z",
     "iopub.status.busy": "2024-02-26T18:37:02.475651Z",
     "iopub.status.idle": "2024-02-26T18:37:17.282732Z",
     "shell.execute_reply": "2024-02-26T18:37:17.281644Z",
     "shell.execute_reply.started": "2024-02-26T18:37:02.476407Z"
    }
   },
   "outputs": [
    {
     "data": {
      "text/html": [
       "<div>\n",
       "<style scoped>\n",
       "    .dataframe tbody tr th:only-of-type {\n",
       "        vertical-align: middle;\n",
       "    }\n",
       "\n",
       "    .dataframe tbody tr th {\n",
       "        vertical-align: top;\n",
       "    }\n",
       "\n",
       "    .dataframe thead th {\n",
       "        text-align: right;\n",
       "    }\n",
       "</style>\n",
       "<table border=\"1\" class=\"dataframe\">\n",
       "  <thead>\n",
       "    <tr style=\"text-align: right;\">\n",
       "      <th></th>\n",
       "      <th>Model Name</th>\n",
       "      <th>MAE</th>\n",
       "      <th>MAPE</th>\n",
       "      <th>RMSE</th>\n",
       "    </tr>\n",
       "  </thead>\n",
       "  <tbody>\n",
       "    <tr>\n",
       "      <th>0</th>\n",
       "      <td>Random forest</td>\n",
       "      <td>52.60163</td>\n",
       "      <td>0.305918</td>\n",
       "      <td>243.935825</td>\n",
       "    </tr>\n",
       "  </tbody>\n",
       "</table>\n",
       "</div>"
      ],
      "text/plain": [
       "      Model Name       MAE      MAPE        RMSE\n",
       "0  Random forest  52.60163  0.305918  243.935825"
      ]
     },
     "execution_count": 228,
     "metadata": {},
     "output_type": "execute_result"
    }
   ],
   "source": [
    "# model\n",
    "rf=RandomForestRegressor(n_jobs=-1,random_state=95).fit(X_train,Y_train)\n",
    "\n",
    "# prediction\n",
    "rf_yhat=rf.predict(X_val)\n",
    "\n",
    "# prediction to original scale\n",
    "rf_yhat_= scaler.inverse_transform(rf_yhat.reshape(-1, 1))\n",
    "rf_yhat_= inv_boxcox1p(rf_yhat_, pt.lambdas_).flatten()\n",
    "\n",
    "mae_rf = mean_absolute_error                 (y_val, rf_yhat_)\n",
    "mape_rf = mean_absolute_percentage_error_func(y_val, rf_yhat_)\n",
    "mse_rf = mean_squared_error                  (y_val, rf_yhat_)\n",
    "rmse_rf = np.sqrt((mse_rf))\n",
    "\n",
    "result_rf = pd.DataFrame({'Model Name': 'Random forest',\n",
    "                       'MAE': mae_rf,\n",
    "                       'MAPE': mape_rf,\n",
    "                       'RMSE': rmse_rf}, index=[0])\n",
    "result_rf"
   ]
  },
  {
   "cell_type": "markdown",
   "id": "ac9c5f9b-e876-4c86-ae24-b3b9c6f3adcf",
   "metadata": {},
   "source": [
    "### **7.4.1 Random forest regressor - Cross validation** "
   ]
  },
  {
   "cell_type": "code",
   "execution_count": 229,
   "id": "5695f32c-be84-46e6-811d-13a0004fecbd",
   "metadata": {
    "execution": {
     "iopub.execute_input": "2024-02-26T18:37:17.286665Z",
     "iopub.status.busy": "2024-02-26T18:37:17.285540Z",
     "iopub.status.idle": "2024-02-26T18:38:07.820577Z",
     "shell.execute_reply": "2024-02-26T18:38:07.819132Z",
     "shell.execute_reply.started": "2024-02-26T18:37:17.286599Z"
    }
   },
   "outputs": [
    {
     "data": {
      "text/html": [
       "<div>\n",
       "<style scoped>\n",
       "    .dataframe tbody tr th:only-of-type {\n",
       "        vertical-align: middle;\n",
       "    }\n",
       "\n",
       "    .dataframe tbody tr th {\n",
       "        vertical-align: top;\n",
       "    }\n",
       "\n",
       "    .dataframe thead th {\n",
       "        text-align: right;\n",
       "    }\n",
       "</style>\n",
       "<table border=\"1\" class=\"dataframe\">\n",
       "  <thead>\n",
       "    <tr style=\"text-align: right;\">\n",
       "      <th></th>\n",
       "      <th>Model Name</th>\n",
       "      <th>MAE</th>\n",
       "      <th>MAPE</th>\n",
       "      <th>RMSE</th>\n",
       "    </tr>\n",
       "  </thead>\n",
       "  <tbody>\n",
       "    <tr>\n",
       "      <th>0</th>\n",
       "      <td>Random forest CV</td>\n",
       "      <td>53.623028</td>\n",
       "      <td>0.316443</td>\n",
       "      <td>153.651072</td>\n",
       "    </tr>\n",
       "  </tbody>\n",
       "</table>\n",
       "</div>"
      ],
      "text/plain": [
       "         Model Name        MAE      MAPE        RMSE\n",
       "0  Random forest CV  53.623028  0.316443  153.651072"
      ]
     },
     "execution_count": 229,
     "metadata": {},
     "output_type": "execute_result"
    }
   ],
   "source": [
    "rf_cv=RandomForestRegressor(n_jobs=-1,random_state=95)\n",
    "\n",
    "kf = KFold(n_splits=5, shuffle=True, random_state=42)\n",
    "\n",
    "y_pred = cross_val_predict(rf_cv, X_train, Y_train, cv=kf)\n",
    "\n",
    "# prediction to original scale\n",
    "y_pred_= scaler.inverse_transform(y_pred.reshape(-1, 1))\n",
    "y_pred_ = inv_boxcox1p(y_pred_, pt.lambdas_).flatten()\n",
    "\n",
    "mae_rf_cv = mean_absolute_error(y_train, y_pred_)\n",
    "mape_rf_cv = mean_absolute_percentage_error_func(y_train, y_pred_)\n",
    "rmse_rf_cv = np.sqrt(mean_squared_error(y_train, y_pred_))\n",
    "\n",
    "std_mae = np.std(-mae_rf_cv)\n",
    "std_mape = np.std(-mape_rf_cv)\n",
    "std_rmse = np.std(-rmse_rf_cv)\n",
    "\n",
    "result_rf_cv = pd.DataFrame({'Model Name': 'Random forest CV',\n",
    "                              'MAE': mae_rf_cv,\n",
    "                              'MAPE': mape_rf_cv,\n",
    "                              'RMSE': rmse_rf_cv}, index=[0])\n",
    "\n",
    "result_rf_cv"
   ]
  },
  {
   "cell_type": "markdown",
   "id": "807b3e76-7fee-4a00-a749-c8f1102b2374",
   "metadata": {
    "jp-MarkdownHeadingCollapsed": true
   },
   "source": [
    "## **7.5 XGBoost regressor**"
   ]
  },
  {
   "cell_type": "code",
   "execution_count": 230,
   "id": "80859aaf-90bf-499e-89f9-552c1b31b9ba",
   "metadata": {
    "execution": {
     "iopub.execute_input": "2024-02-26T18:38:07.823209Z",
     "iopub.status.busy": "2024-02-26T18:38:07.822246Z",
     "iopub.status.idle": "2024-02-26T18:38:08.384300Z",
     "shell.execute_reply": "2024-02-26T18:38:08.382867Z",
     "shell.execute_reply.started": "2024-02-26T18:38:07.823146Z"
    }
   },
   "outputs": [
    {
     "data": {
      "text/html": [
       "<div>\n",
       "<style scoped>\n",
       "    .dataframe tbody tr th:only-of-type {\n",
       "        vertical-align: middle;\n",
       "    }\n",
       "\n",
       "    .dataframe tbody tr th {\n",
       "        vertical-align: top;\n",
       "    }\n",
       "\n",
       "    .dataframe thead th {\n",
       "        text-align: right;\n",
       "    }\n",
       "</style>\n",
       "<table border=\"1\" class=\"dataframe\">\n",
       "  <thead>\n",
       "    <tr style=\"text-align: right;\">\n",
       "      <th></th>\n",
       "      <th>Model Name</th>\n",
       "      <th>MAE</th>\n",
       "      <th>MAPE</th>\n",
       "      <th>RMSE</th>\n",
       "    </tr>\n",
       "  </thead>\n",
       "  <tbody>\n",
       "    <tr>\n",
       "      <th>0</th>\n",
       "      <td>XGBoost</td>\n",
       "      <td>52.386415</td>\n",
       "      <td>0.299953</td>\n",
       "      <td>245.005489</td>\n",
       "    </tr>\n",
       "  </tbody>\n",
       "</table>\n",
       "</div>"
      ],
      "text/plain": [
       "  Model Name        MAE      MAPE        RMSE\n",
       "0    XGBoost  52.386415  0.299953  245.005489"
      ]
     },
     "execution_count": 230,
     "metadata": {},
     "output_type": "execute_result"
    }
   ],
   "source": [
    "# model\n",
    "xgb_model=XGBRegressor(n_jobs=-1,random_state=95).fit(X_train,Y_train)\n",
    "\n",
    "# prediction\n",
    "xgb_yhat=xgb_model.predict(X_val)\n",
    "\n",
    "# prediction to original scale\n",
    "xgb_yhat_= scaler.inverse_transform(xgb_yhat.reshape(-1, 1))\n",
    "xgb_yhat_= inv_boxcox1p(xgb_yhat_, pt.lambdas_).flatten()\n",
    "\n",
    "mae_xgb = mean_absolute_error                 (y_val, xgb_yhat_)\n",
    "mape_xgb = mean_absolute_percentage_error_func(y_val, xgb_yhat_)\n",
    "mse_xgb = mean_squared_error                  (y_val, xgb_yhat_)\n",
    "rmse_xgb = np.sqrt((mse_xgb))\n",
    "\n",
    "result_xgb = pd.DataFrame({'Model Name': 'XGBoost',\n",
    "                       'MAE': mae_xgb,\n",
    "                       'MAPE': mape_xgb,\n",
    "                       'RMSE': rmse_xgb}, index=[0])\n",
    "result_xgb"
   ]
  },
  {
   "cell_type": "markdown",
   "id": "8080d143-8744-4175-934c-02acec0da54a",
   "metadata": {},
   "source": [
    "### **7.6 XGBoost regressor - Cross validation**"
   ]
  },
  {
   "cell_type": "code",
   "execution_count": 231,
   "id": "7c731c6b-d4ca-4a83-ae92-56084f42b4fa",
   "metadata": {
    "execution": {
     "iopub.execute_input": "2024-02-26T18:38:08.388274Z",
     "iopub.status.busy": "2024-02-26T18:38:08.387716Z",
     "iopub.status.idle": "2024-02-26T18:38:10.366624Z",
     "shell.execute_reply": "2024-02-26T18:38:10.365212Z",
     "shell.execute_reply.started": "2024-02-26T18:38:08.388236Z"
    }
   },
   "outputs": [
    {
     "data": {
      "text/html": [
       "<div>\n",
       "<style scoped>\n",
       "    .dataframe tbody tr th:only-of-type {\n",
       "        vertical-align: middle;\n",
       "    }\n",
       "\n",
       "    .dataframe tbody tr th {\n",
       "        vertical-align: top;\n",
       "    }\n",
       "\n",
       "    .dataframe thead th {\n",
       "        text-align: right;\n",
       "    }\n",
       "</style>\n",
       "<table border=\"1\" class=\"dataframe\">\n",
       "  <thead>\n",
       "    <tr style=\"text-align: right;\">\n",
       "      <th></th>\n",
       "      <th>Model Name</th>\n",
       "      <th>MAE</th>\n",
       "      <th>MAPE</th>\n",
       "      <th>RMSE</th>\n",
       "    </tr>\n",
       "  </thead>\n",
       "  <tbody>\n",
       "    <tr>\n",
       "      <th>0</th>\n",
       "      <td>XGBoost CV</td>\n",
       "      <td>53.599968</td>\n",
       "      <td>0.314063</td>\n",
       "      <td>154.036652</td>\n",
       "    </tr>\n",
       "  </tbody>\n",
       "</table>\n",
       "</div>"
      ],
      "text/plain": [
       "   Model Name        MAE      MAPE        RMSE\n",
       "0  XGBoost CV  53.599968  0.314063  154.036652"
      ]
     },
     "execution_count": 231,
     "metadata": {},
     "output_type": "execute_result"
    }
   ],
   "source": [
    "xgb_model_cv=XGBRegressor(n_jobs=-1,random_state=95)\n",
    "\n",
    "kf = KFold(n_splits=5, shuffle=True, random_state=42)\n",
    "\n",
    "y_pred = cross_val_predict(xgb_model_cv, X_train, Y_train, cv=kf)\n",
    "\n",
    "# prediction to original scale\n",
    "y_pred_= scaler.inverse_transform(y_pred.reshape(-1, 1))\n",
    "y_pred_ = inv_boxcox1p(y_pred_, pt.lambdas_).flatten()\n",
    "\n",
    "mae_xgb_cv = mean_absolute_error(y_train, y_pred_)\n",
    "mape_xgb_cv = mean_absolute_percentage_error_func(y_train, y_pred_)\n",
    "rmse_xgb_cv = np.sqrt(mean_squared_error(y_train, y_pred_))\n",
    "\n",
    "std_mae = np.std(-mae_xgb_cv)\n",
    "std_mape = np.std(-mape_xgb_cv)\n",
    "std_rmse = np.std(-rmse_xgb_cv)\n",
    "\n",
    "result_xgb_cv = pd.DataFrame({'Model Name': 'XGBoost CV',\n",
    "                              'MAE': mae_xgb_cv,\n",
    "                              'MAPE': mape_xgb_cv,\n",
    "                              'RMSE': rmse_xgb_cv}, index=[0])\n",
    "\n",
    "result_xgb_cv"
   ]
  },
  {
   "cell_type": "markdown",
   "id": "940f1e66-8378-4b03-b272-ddd9d1dc36e4",
   "metadata": {},
   "source": [
    "## **7.6 CatBoost regressor**"
   ]
  },
  {
   "cell_type": "code",
   "execution_count": 232,
   "id": "a30aa50a-f4f4-491e-a580-6f0496b51f37",
   "metadata": {
    "execution": {
     "iopub.execute_input": "2024-02-26T18:38:10.369705Z",
     "iopub.status.busy": "2024-02-26T18:38:10.368866Z",
     "iopub.status.idle": "2024-02-26T18:38:16.750888Z",
     "shell.execute_reply": "2024-02-26T18:38:16.749457Z",
     "shell.execute_reply.started": "2024-02-26T18:38:10.369644Z"
    },
    "jupyter": {
     "source_hidden": true
    }
   },
   "outputs": [
    {
     "data": {
      "text/html": [
       "<div>\n",
       "<style scoped>\n",
       "    .dataframe tbody tr th:only-of-type {\n",
       "        vertical-align: middle;\n",
       "    }\n",
       "\n",
       "    .dataframe tbody tr th {\n",
       "        vertical-align: top;\n",
       "    }\n",
       "\n",
       "    .dataframe thead th {\n",
       "        text-align: right;\n",
       "    }\n",
       "</style>\n",
       "<table border=\"1\" class=\"dataframe\">\n",
       "  <thead>\n",
       "    <tr style=\"text-align: right;\">\n",
       "      <th></th>\n",
       "      <th>Model Name</th>\n",
       "      <th>MAE</th>\n",
       "      <th>MAPE</th>\n",
       "      <th>RMSE</th>\n",
       "    </tr>\n",
       "  </thead>\n",
       "  <tbody>\n",
       "    <tr>\n",
       "      <th>0</th>\n",
       "      <td>CatBoost</td>\n",
       "      <td>51.76449</td>\n",
       "      <td>0.29409</td>\n",
       "      <td>244.197</td>\n",
       "    </tr>\n",
       "  </tbody>\n",
       "</table>\n",
       "</div>"
      ],
      "text/plain": [
       "  Model Name       MAE     MAPE     RMSE\n",
       "0   CatBoost  51.76449  0.29409  244.197"
      ]
     },
     "execution_count": 232,
     "metadata": {},
     "output_type": "execute_result"
    }
   ],
   "source": [
    "cat=CatBoostRegressor(logging_level='Silent').fit(X_train,Y_train)\n",
    "\n",
    "# prediction\n",
    "cat_yhat=cat.predict(X_val)\n",
    "\n",
    "# prediction to original scale\n",
    "cat_yhat_= scaler.inverse_transform(cat_yhat.reshape(-1, 1))\n",
    "cat_yhat_= inv_boxcox1p(cat_yhat_, pt.lambdas_).flatten()\n",
    "\n",
    "mae_cat = mean_absolute_error                 (y_val, cat_yhat_)\n",
    "mape_cat = mean_absolute_percentage_error_func(y_val, cat_yhat_)\n",
    "mse_cat = mean_squared_error                  (y_val, cat_yhat_)\n",
    "rmse_cat = np.sqrt((mse_cat))\n",
    "\n",
    "result_cat = pd.DataFrame({'Model Name': 'CatBoost',\n",
    "                       'MAE': mae_cat,\n",
    "                       'MAPE': mape_cat,\n",
    "                       'RMSE': rmse_cat}, index=[0])\n",
    "result_cat"
   ]
  },
  {
   "cell_type": "markdown",
   "id": "f8dc3df9-d0f6-4634-886b-2775b7a31a59",
   "metadata": {},
   "source": [
    "### **7.6.1 CatBoost regressor - Cross validation**"
   ]
  },
  {
   "cell_type": "code",
   "execution_count": 352,
   "id": "ae7e3a74-c967-4cf6-a06e-98418d3e4358",
   "metadata": {
    "execution": {
     "iopub.execute_input": "2024-02-26T19:06:53.121952Z",
     "iopub.status.busy": "2024-02-26T19:06:53.121425Z",
     "iopub.status.idle": "2024-02-26T19:07:21.136362Z",
     "shell.execute_reply": "2024-02-26T19:07:21.134905Z",
     "shell.execute_reply.started": "2024-02-26T19:06:53.121900Z"
    }
   },
   "outputs": [
    {
     "data": {
      "text/html": [
       "<div>\n",
       "<style scoped>\n",
       "    .dataframe tbody tr th:only-of-type {\n",
       "        vertical-align: middle;\n",
       "    }\n",
       "\n",
       "    .dataframe tbody tr th {\n",
       "        vertical-align: top;\n",
       "    }\n",
       "\n",
       "    .dataframe thead th {\n",
       "        text-align: right;\n",
       "    }\n",
       "</style>\n",
       "<table border=\"1\" class=\"dataframe\">\n",
       "  <thead>\n",
       "    <tr style=\"text-align: right;\">\n",
       "      <th></th>\n",
       "      <th>Model Name</th>\n",
       "      <th>MAE</th>\n",
       "      <th>MAPE</th>\n",
       "      <th>RMSE</th>\n",
       "    </tr>\n",
       "  </thead>\n",
       "  <tbody>\n",
       "    <tr>\n",
       "      <th>0</th>\n",
       "      <td>CatBoost CV</td>\n",
       "      <td>53.029322</td>\n",
       "      <td>0.306831</td>\n",
       "      <td>154.577222</td>\n",
       "    </tr>\n",
       "  </tbody>\n",
       "</table>\n",
       "</div>"
      ],
      "text/plain": [
       "    Model Name        MAE      MAPE        RMSE\n",
       "0  CatBoost CV  53.029322  0.306831  154.577222"
      ]
     },
     "execution_count": 352,
     "metadata": {},
     "output_type": "execute_result"
    }
   ],
   "source": [
    "cat_cv=CatBoostRegressor(logging_level='Silent')\n",
    "\n",
    "kf = KFold(n_splits=5, shuffle=True, random_state=42)\n",
    "\n",
    "y_pred = cross_val_predict(cat_cv, X_train, Y_train, cv=kf)\n",
    "\n",
    "# prediction to original scale\n",
    "y_pred_= scaler.inverse_transform(y_pred.reshape(-1, 1))\n",
    "y_pred_ = inv_boxcox1p(y_pred_, pt.lambdas_).flatten()\n",
    "\n",
    "mae_cat_cv = mean_absolute_error(y_train, y_pred_)\n",
    "mape_cat_cv = mean_absolute_percentage_error_func(y_train, y_pred_)\n",
    "rmse_cat_cv = np.sqrt(mean_squared_error(y_train, y_pred_))\n",
    "\n",
    "std_mae = np.std(-mae_cat_cv)\n",
    "std_mape = np.std(-mape_cat_cv)\n",
    "std_rmse = np.std(-rmse_cat_cv)\n",
    "\n",
    "result_cat_cv = pd.DataFrame({'Model Name': 'CatBoost CV',\n",
    "                              'MAE': mae_cat_cv,\n",
    "                              'MAPE': mape_cat_cv,\n",
    "                              'RMSE': rmse_cat_cv}, index=[0])\n",
    "\n",
    "result_cat_cv"
   ]
  },
  {
   "cell_type": "markdown",
   "id": "8511fad9-c648-43e4-b308-e5054053502c",
   "metadata": {
    "jp-MarkdownHeadingCollapsed": true
   },
   "source": [
    "## **7.7 Compare performances**"
   ]
  },
  {
   "cell_type": "code",
   "execution_count": 234,
   "id": "24a8a114-5784-4c1c-b48d-9dc99936c7fd",
   "metadata": {
    "execution": {
     "iopub.execute_input": "2024-02-26T18:38:44.251248Z",
     "iopub.status.busy": "2024-02-26T18:38:44.250157Z",
     "iopub.status.idle": "2024-02-26T18:38:44.272970Z",
     "shell.execute_reply": "2024-02-26T18:38:44.271655Z",
     "shell.execute_reply.started": "2024-02-26T18:38:44.251185Z"
    }
   },
   "outputs": [
    {
     "data": {
      "text/html": [
       "<div>\n",
       "<style scoped>\n",
       "    .dataframe tbody tr th:only-of-type {\n",
       "        vertical-align: middle;\n",
       "    }\n",
       "\n",
       "    .dataframe tbody tr th {\n",
       "        vertical-align: top;\n",
       "    }\n",
       "\n",
       "    .dataframe thead th {\n",
       "        text-align: right;\n",
       "    }\n",
       "</style>\n",
       "<table border=\"1\" class=\"dataframe\">\n",
       "  <thead>\n",
       "    <tr style=\"text-align: right;\">\n",
       "      <th></th>\n",
       "      <th>Model Name</th>\n",
       "      <th>MAE</th>\n",
       "      <th>MAPE</th>\n",
       "      <th>RMSE</th>\n",
       "    </tr>\n",
       "  </thead>\n",
       "  <tbody>\n",
       "    <tr>\n",
       "      <th>0</th>\n",
       "      <td>CatBoost</td>\n",
       "      <td>51.764490</td>\n",
       "      <td>0.294090</td>\n",
       "      <td>244.197000</td>\n",
       "    </tr>\n",
       "    <tr>\n",
       "      <th>0</th>\n",
       "      <td>XGBoost</td>\n",
       "      <td>52.386415</td>\n",
       "      <td>0.299953</td>\n",
       "      <td>245.005489</td>\n",
       "    </tr>\n",
       "    <tr>\n",
       "      <th>0</th>\n",
       "      <td>Random forest</td>\n",
       "      <td>52.601630</td>\n",
       "      <td>0.305918</td>\n",
       "      <td>243.935825</td>\n",
       "    </tr>\n",
       "    <tr>\n",
       "      <th>0</th>\n",
       "      <td>Linear Regression</td>\n",
       "      <td>57.823005</td>\n",
       "      <td>0.338189</td>\n",
       "      <td>247.739849</td>\n",
       "    </tr>\n",
       "    <tr>\n",
       "      <th>0</th>\n",
       "      <td>Lasso</td>\n",
       "      <td>58.182289</td>\n",
       "      <td>0.341138</td>\n",
       "      <td>247.230366</td>\n",
       "    </tr>\n",
       "    <tr>\n",
       "      <th>0</th>\n",
       "      <td>Baseline model</td>\n",
       "      <td>88.610938</td>\n",
       "      <td>0.872001</td>\n",
       "      <td>178.589160</td>\n",
       "    </tr>\n",
       "  </tbody>\n",
       "</table>\n",
       "</div>"
      ],
      "text/plain": [
       "          Model Name        MAE      MAPE        RMSE\n",
       "0           CatBoost  51.764490  0.294090  244.197000\n",
       "0            XGBoost  52.386415  0.299953  245.005489\n",
       "0      Random forest  52.601630  0.305918  243.935825\n",
       "0  Linear Regression  57.823005  0.338189  247.739849\n",
       "0              Lasso  58.182289  0.341138  247.230366\n",
       "0     Baseline model  88.610938  0.872001  178.589160"
      ]
     },
     "execution_count": 234,
     "metadata": {},
     "output_type": "execute_result"
    }
   ],
   "source": [
    "modelling_result=pd.concat   ([result_baseline,result_lr,   result_lrr,   result_rf,      result_xgb,result_cat])\n",
    "\n",
    "modelling_result.sort_values('MAE',ascending=True)"
   ]
  },
  {
   "cell_type": "markdown",
   "id": "3d7f32a6-156c-49ad-806a-f9262d5f20d5",
   "metadata": {},
   "source": [
    "## **7.8 Compare cross-validated performances**"
   ]
  },
  {
   "cell_type": "code",
   "execution_count": 236,
   "id": "28fa1c56-23d5-4e1b-80a0-363bbccc0242",
   "metadata": {
    "execution": {
     "iopub.execute_input": "2024-02-26T18:38:44.301554Z",
     "iopub.status.busy": "2024-02-26T18:38:44.298605Z",
     "iopub.status.idle": "2024-02-26T18:38:44.323954Z",
     "shell.execute_reply": "2024-02-26T18:38:44.321092Z",
     "shell.execute_reply.started": "2024-02-26T18:38:44.301413Z"
    }
   },
   "outputs": [
    {
     "data": {
      "text/html": [
       "<div>\n",
       "<style scoped>\n",
       "    .dataframe tbody tr th:only-of-type {\n",
       "        vertical-align: middle;\n",
       "    }\n",
       "\n",
       "    .dataframe tbody tr th {\n",
       "        vertical-align: top;\n",
       "    }\n",
       "\n",
       "    .dataframe thead th {\n",
       "        text-align: right;\n",
       "    }\n",
       "</style>\n",
       "<table border=\"1\" class=\"dataframe\">\n",
       "  <thead>\n",
       "    <tr style=\"text-align: right;\">\n",
       "      <th></th>\n",
       "      <th>Model Name</th>\n",
       "      <th>MAE</th>\n",
       "      <th>MAPE</th>\n",
       "      <th>RMSE</th>\n",
       "    </tr>\n",
       "  </thead>\n",
       "  <tbody>\n",
       "    <tr>\n",
       "      <th>0</th>\n",
       "      <td>CatBoost CV</td>\n",
       "      <td>53.029314</td>\n",
       "      <td>0.306831</td>\n",
       "      <td>154.577217</td>\n",
       "    </tr>\n",
       "    <tr>\n",
       "      <th>0</th>\n",
       "      <td>XGBoost CV</td>\n",
       "      <td>53.599968</td>\n",
       "      <td>0.314063</td>\n",
       "      <td>154.036652</td>\n",
       "    </tr>\n",
       "    <tr>\n",
       "      <th>0</th>\n",
       "      <td>Random forest CV</td>\n",
       "      <td>53.623028</td>\n",
       "      <td>0.316443</td>\n",
       "      <td>153.651072</td>\n",
       "    </tr>\n",
       "    <tr>\n",
       "      <th>0</th>\n",
       "      <td>Linear Regression CV</td>\n",
       "      <td>59.250050</td>\n",
       "      <td>0.350189</td>\n",
       "      <td>162.869507</td>\n",
       "    </tr>\n",
       "    <tr>\n",
       "      <th>0</th>\n",
       "      <td>Lasso CV</td>\n",
       "      <td>59.505593</td>\n",
       "      <td>0.351642</td>\n",
       "      <td>163.900843</td>\n",
       "    </tr>\n",
       "    <tr>\n",
       "      <th>0</th>\n",
       "      <td>Baseline model</td>\n",
       "      <td>88.610938</td>\n",
       "      <td>0.872001</td>\n",
       "      <td>178.589160</td>\n",
       "    </tr>\n",
       "  </tbody>\n",
       "</table>\n",
       "</div>"
      ],
      "text/plain": [
       "             Model Name        MAE      MAPE        RMSE\n",
       "0           CatBoost CV  53.029314  0.306831  154.577217\n",
       "0            XGBoost CV  53.599968  0.314063  154.036652\n",
       "0      Random forest CV  53.623028  0.316443  153.651072\n",
       "0  Linear Regression CV  59.250050  0.350189  162.869507\n",
       "0              Lasso CV  59.505593  0.351642  163.900843\n",
       "0        Baseline model  88.610938  0.872001  178.589160"
      ]
     },
     "execution_count": 236,
     "metadata": {},
     "output_type": "execute_result"
    }
   ],
   "source": [
    "modelling_result_cv=pd.concat([result_baseline,result_lr_cv,result_lrr_cv,result_rf_cv,result_xgb_cv,result_cat_cv])\n",
    "modelling_result_cv.sort_values('MAE',ascending=True)"
   ]
  },
  {
   "cell_type": "markdown",
   "id": "67c8a137-3ef4-4319-b1ba-ed31d07a36a4",
   "metadata": {},
   "source": [
    "## **7.9 Final model**"
   ]
  },
  {
   "cell_type": "code",
   "execution_count": 186,
   "id": "881d9cc1-313a-40e8-a1ef-1176c226be24",
   "metadata": {
    "execution": {
     "iopub.execute_input": "2024-02-26T16:33:59.643296Z",
     "iopub.status.busy": "2024-02-26T16:33:59.642679Z",
     "iopub.status.idle": "2024-02-26T16:34:06.850063Z",
     "shell.execute_reply": "2024-02-26T16:34:06.848515Z",
     "shell.execute_reply.started": "2024-02-26T16:33:59.643237Z"
    }
   },
   "outputs": [
    {
     "data": {
      "text/html": [
       "<div>\n",
       "<style scoped>\n",
       "    .dataframe tbody tr th:only-of-type {\n",
       "        vertical-align: middle;\n",
       "    }\n",
       "\n",
       "    .dataframe tbody tr th {\n",
       "        vertical-align: top;\n",
       "    }\n",
       "\n",
       "    .dataframe thead th {\n",
       "        text-align: right;\n",
       "    }\n",
       "</style>\n",
       "<table border=\"1\" class=\"dataframe\">\n",
       "  <thead>\n",
       "    <tr style=\"text-align: right;\">\n",
       "      <th></th>\n",
       "      <th>Model Name</th>\n",
       "      <th>MAE</th>\n",
       "      <th>MAPE</th>\n",
       "      <th>RMSE</th>\n",
       "    </tr>\n",
       "  </thead>\n",
       "  <tbody>\n",
       "    <tr>\n",
       "      <th>0</th>\n",
       "      <td>CatBoost</td>\n",
       "      <td>51.652736</td>\n",
       "      <td>0.297694</td>\n",
       "      <td>161.159551</td>\n",
       "    </tr>\n",
       "  </tbody>\n",
       "</table>\n",
       "</div>"
      ],
      "text/plain": [
       "  Model Name        MAE      MAPE        RMSE\n",
       "0   CatBoost  51.652736  0.297694  161.159551"
      ]
     },
     "execution_count": 186,
     "metadata": {},
     "output_type": "execute_result"
    }
   ],
   "source": [
    "full_x = pd.concat ([X_train, X_val], axis=0,ignore_index=True) \n",
    "full_y = pd.concat ([pd.Series(Y_train.flatten()), pd.Series(Y_val.flatten())], axis=0,ignore_index=True)\n",
    "\n",
    "cat=CatBoostRegressor(logging_level='Silent').fit(full_x,full_y)\n",
    "\n",
    "# prediction\n",
    "cat_yhat=cat.predict(X_test)\n",
    "\n",
    "cat_yhat_=inv_boxcox1p(cat_yhat, pt.lambdas_).flatten()\n",
    "\n",
    "mae_cat = mean_absolute_error                 (y_test, cat_yhat_)\n",
    "mape_cat = mean_absolute_percentage_error_func(y_test, cat_yhat_)\n",
    "mse_cat = mean_squared_error                  (y_test, cat_yhat_)\n",
    "rmse_cat = np.sqrt((mse_cat))\n",
    "\n",
    "final_result_cat = pd.DataFrame({'Model Name': 'CatBoost',\n",
    "                       'MAE': mae_cat,\n",
    "                       'MAPE': mape_cat,\n",
    "                       'RMSE': rmse_cat}, index=[0])\n",
    "final_result_cat"
   ]
  },
  {
   "cell_type": "markdown",
   "id": "d753027d-411c-4cab-a6ca-67cd1784b3b3",
   "metadata": {
    "jp-MarkdownHeadingCollapsed": true
   },
   "source": [
    "# <s>**8 Hyperparameter fine-tuning**<s/>"
   ]
  },
  {
   "cell_type": "markdown",
   "id": "c5e040c7-9842-485b-b572-233ada2130dd",
   "metadata": {},
   "source": [
    "# **9 Error translation and interpretation**"
   ]
  },
  {
   "cell_type": "code",
   "execution_count": 187,
   "id": "efa73e9d-0327-4e5b-b062-094e86cb8e11",
   "metadata": {
    "execution": {
     "iopub.execute_input": "2024-02-26T16:35:28.665004Z",
     "iopub.status.busy": "2024-02-26T16:35:28.664431Z",
     "iopub.status.idle": "2024-02-26T16:35:28.679221Z",
     "shell.execute_reply": "2024-02-26T16:35:28.677927Z",
     "shell.execute_reply.started": "2024-02-26T16:35:28.664948Z"
    }
   },
   "outputs": [],
   "source": [
    "df9=x_test.copy()\n",
    "df9['price']=y_test\n",
    "df9['predictions']=cat_yhat_"
   ]
  },
  {
   "cell_type": "markdown",
   "id": "c93765db-6135-4373-8b5a-d5a088fb5be0",
   "metadata": {},
   "source": [
    "## **9.1 Business performance**"
   ]
  },
  {
   "cell_type": "code",
   "execution_count": 188,
   "id": "30d7656a-77e3-45b2-9ce6-dd60515da97c",
   "metadata": {
    "execution": {
     "iopub.execute_input": "2024-02-26T16:35:34.937084Z",
     "iopub.status.busy": "2024-02-26T16:35:34.935524Z",
     "iopub.status.idle": "2024-02-26T16:35:42.536319Z",
     "shell.execute_reply": "2024-02-26T16:35:42.535238Z",
     "shell.execute_reply.started": "2024-02-26T16:35:34.936936Z"
    }
   },
   "outputs": [],
   "source": [
    "# sum of predictions\n",
    "df91=df9[['id','predictions','price']].groupby('id').sum().reset_index()             \n",
    "\n",
    "# MAE and MAPE\n",
    "df9_aux1=(df9[['id','price','predictions']].groupby('id')\n",
    "          .apply(lambda x: mean_absolute_error (x['price'],x['predictions']))\n",
    "          .reset_index().rename(columns={0:'MAE'}))\n",
    "\n",
    "df9_aux2=(df9[['id','price','predictions']].groupby('id')\n",
    "          .apply(lambda x: mean_absolute_percentage_error (x['price'],x['predictions']))\n",
    "          .reset_index().rename(columns={0:'MAPE'}))\n",
    "\n",
    "# merge\n",
    "df9_aux3=pd.merge(df9_aux1,df9_aux2,how='inner',on='id')\n",
    "df92=pd.merge(df91,df9_aux3,how='inner',on='id')\n",
    "\n",
    "# scenarios\n",
    "df92['worst_scenario']=df92['predictions'] - df92['MAE']\n",
    "df92['best_scenario']=df92['predictions'] + df92['MAE']\n",
    "\n",
    "# order columns\n",
    "df92=df92[['id','price','predictions','worst_scenario','best_scenario','MAE','MAPE']]\n",
    "\n",
    "df92['price']=df92['price'].map('${:,.2f}'.format)\n",
    "df92['predictions']=df92['predictions'].map('${:,.2f}'.format)\n",
    "df92['worst_scenario']=df92['worst_scenario'].map('${:,.2f}'.format)\n",
    "df92['best_scenario']=df92['best_scenario'].map('${:,.2f}'.format)"
   ]
  },
  {
   "cell_type": "code",
   "execution_count": 189,
   "id": "7020c6a1-3dd4-44c7-a09f-84bf78201f02",
   "metadata": {
    "execution": {
     "iopub.execute_input": "2024-02-26T16:35:44.067508Z",
     "iopub.status.busy": "2024-02-26T16:35:44.066249Z",
     "iopub.status.idle": "2024-02-26T16:35:44.088002Z",
     "shell.execute_reply": "2024-02-26T16:35:44.086540Z",
     "shell.execute_reply.started": "2024-02-26T16:35:44.067435Z"
    }
   },
   "outputs": [
    {
     "data": {
      "text/html": [
       "<div>\n",
       "<style scoped>\n",
       "    .dataframe tbody tr th:only-of-type {\n",
       "        vertical-align: middle;\n",
       "    }\n",
       "\n",
       "    .dataframe tbody tr th {\n",
       "        vertical-align: top;\n",
       "    }\n",
       "\n",
       "    .dataframe thead th {\n",
       "        text-align: right;\n",
       "    }\n",
       "</style>\n",
       "<table border=\"1\" class=\"dataframe\">\n",
       "  <thead>\n",
       "    <tr style=\"text-align: right;\">\n",
       "      <th></th>\n",
       "      <th>id</th>\n",
       "      <th>price</th>\n",
       "      <th>predictions</th>\n",
       "      <th>worst_scenario</th>\n",
       "      <th>best_scenario</th>\n",
       "      <th>MAE</th>\n",
       "      <th>MAPE</th>\n",
       "    </tr>\n",
       "  </thead>\n",
       "  <tbody>\n",
       "    <tr>\n",
       "      <th>0</th>\n",
       "      <td>32466156</td>\n",
       "      <td>$192.00</td>\n",
       "      <td>$192.03</td>\n",
       "      <td>$192.00</td>\n",
       "      <td>$192.06</td>\n",
       "      <td>0.030770</td>\n",
       "      <td>0.000160</td>\n",
       "    </tr>\n",
       "    <tr>\n",
       "      <th>1</th>\n",
       "      <td>12795851</td>\n",
       "      <td>$70.00</td>\n",
       "      <td>$70.02</td>\n",
       "      <td>$70.00</td>\n",
       "      <td>$70.03</td>\n",
       "      <td>0.017434</td>\n",
       "      <td>0.000249</td>\n",
       "    </tr>\n",
       "    <tr>\n",
       "      <th>2</th>\n",
       "      <td>31832773</td>\n",
       "      <td>$40.00</td>\n",
       "      <td>$40.01</td>\n",
       "      <td>$40.00</td>\n",
       "      <td>$40.02</td>\n",
       "      <td>0.010844</td>\n",
       "      <td>0.000271</td>\n",
       "    </tr>\n",
       "    <tr>\n",
       "      <th>3</th>\n",
       "      <td>953951</td>\n",
       "      <td>$250.00</td>\n",
       "      <td>$249.93</td>\n",
       "      <td>$249.85</td>\n",
       "      <td>$250.00</td>\n",
       "      <td>0.072650</td>\n",
       "      <td>0.000291</td>\n",
       "    </tr>\n",
       "    <tr>\n",
       "      <th>4</th>\n",
       "      <td>10016832</td>\n",
       "      <td>$150.00</td>\n",
       "      <td>$149.93</td>\n",
       "      <td>$149.86</td>\n",
       "      <td>$150.00</td>\n",
       "      <td>0.072073</td>\n",
       "      <td>0.000480</td>\n",
       "    </tr>\n",
       "    <tr>\n",
       "      <th>5</th>\n",
       "      <td>3792246</td>\n",
       "      <td>$49.00</td>\n",
       "      <td>$48.97</td>\n",
       "      <td>$48.95</td>\n",
       "      <td>$49.00</td>\n",
       "      <td>0.025219</td>\n",
       "      <td>0.000515</td>\n",
       "    </tr>\n",
       "    <tr>\n",
       "      <th>6</th>\n",
       "      <td>34960314</td>\n",
       "      <td>$165.00</td>\n",
       "      <td>$165.09</td>\n",
       "      <td>$165.00</td>\n",
       "      <td>$165.19</td>\n",
       "      <td>0.094568</td>\n",
       "      <td>0.000573</td>\n",
       "    </tr>\n",
       "    <tr>\n",
       "      <th>7</th>\n",
       "      <td>36072301</td>\n",
       "      <td>$109.00</td>\n",
       "      <td>$109.08</td>\n",
       "      <td>$109.00</td>\n",
       "      <td>$109.16</td>\n",
       "      <td>0.081862</td>\n",
       "      <td>0.000751</td>\n",
       "    </tr>\n",
       "    <tr>\n",
       "      <th>8</th>\n",
       "      <td>6717607</td>\n",
       "      <td>$45.00</td>\n",
       "      <td>$45.04</td>\n",
       "      <td>$45.00</td>\n",
       "      <td>$45.08</td>\n",
       "      <td>0.040212</td>\n",
       "      <td>0.000894</td>\n",
       "    </tr>\n",
       "    <tr>\n",
       "      <th>9</th>\n",
       "      <td>35705568</td>\n",
       "      <td>$59.00</td>\n",
       "      <td>$59.06</td>\n",
       "      <td>$59.00</td>\n",
       "      <td>$59.12</td>\n",
       "      <td>0.057623</td>\n",
       "      <td>0.000977</td>\n",
       "    </tr>\n",
       "  </tbody>\n",
       "</table>\n",
       "</div>"
      ],
      "text/plain": [
       "         id    price predictions worst_scenario best_scenario       MAE  \\\n",
       "0  32466156  $192.00     $192.03        $192.00       $192.06  0.030770   \n",
       "1  12795851   $70.00      $70.02         $70.00        $70.03  0.017434   \n",
       "2  31832773   $40.00      $40.01         $40.00        $40.02  0.010844   \n",
       "3    953951  $250.00     $249.93        $249.85       $250.00  0.072650   \n",
       "4  10016832  $150.00     $149.93        $149.86       $150.00  0.072073   \n",
       "5   3792246   $49.00      $48.97         $48.95        $49.00  0.025219   \n",
       "6  34960314  $165.00     $165.09        $165.00       $165.19  0.094568   \n",
       "7  36072301  $109.00     $109.08        $109.00       $109.16  0.081862   \n",
       "8   6717607   $45.00      $45.04         $45.00        $45.08  0.040212   \n",
       "9  35705568   $59.00      $59.06         $59.00        $59.12  0.057623   \n",
       "\n",
       "       MAPE  \n",
       "0  0.000160  \n",
       "1  0.000249  \n",
       "2  0.000271  \n",
       "3  0.000291  \n",
       "4  0.000480  \n",
       "5  0.000515  \n",
       "6  0.000573  \n",
       "7  0.000751  \n",
       "8  0.000894  \n",
       "9  0.000977  "
      ]
     },
     "execution_count": 189,
     "metadata": {},
     "output_type": "execute_result"
    }
   ],
   "source": [
    "# top 10 predictions\n",
    "df92.sort_values('MAPE',ascending=True).head(10).reset_index(drop=True)"
   ]
  },
  {
   "cell_type": "code",
   "execution_count": 190,
   "id": "5cb6bd6d-ba76-493c-af06-4362f50ec208",
   "metadata": {
    "execution": {
     "iopub.execute_input": "2024-02-26T16:35:45.072784Z",
     "iopub.status.busy": "2024-02-26T16:35:45.072024Z",
     "iopub.status.idle": "2024-02-26T16:35:45.104486Z",
     "shell.execute_reply": "2024-02-26T16:35:45.103142Z",
     "shell.execute_reply.started": "2024-02-26T16:35:45.072712Z"
    }
   },
   "outputs": [
    {
     "data": {
      "text/html": [
       "<div>\n",
       "<style scoped>\n",
       "    .dataframe tbody tr th:only-of-type {\n",
       "        vertical-align: middle;\n",
       "    }\n",
       "\n",
       "    .dataframe tbody tr th {\n",
       "        vertical-align: top;\n",
       "    }\n",
       "\n",
       "    .dataframe thead th {\n",
       "        text-align: right;\n",
       "    }\n",
       "</style>\n",
       "<table border=\"1\" class=\"dataframe\">\n",
       "  <thead>\n",
       "    <tr style=\"text-align: right;\">\n",
       "      <th></th>\n",
       "      <th>id</th>\n",
       "      <th>price</th>\n",
       "      <th>predictions</th>\n",
       "      <th>worst_scenario</th>\n",
       "      <th>best_scenario</th>\n",
       "      <th>MAE</th>\n",
       "      <th>MAPE</th>\n",
       "    </tr>\n",
       "  </thead>\n",
       "  <tbody>\n",
       "    <tr>\n",
       "      <th>0</th>\n",
       "      <td>21304320</td>\n",
       "      <td>$0.00</td>\n",
       "      <td>$30.12</td>\n",
       "      <td>$0.00</td>\n",
       "      <td>$60.24</td>\n",
       "      <td>30.120966</td>\n",
       "      <td>1.356528e+17</td>\n",
       "    </tr>\n",
       "    <tr>\n",
       "      <th>1</th>\n",
       "      <td>25839759</td>\n",
       "      <td>$10.00</td>\n",
       "      <td>$119.46</td>\n",
       "      <td>$10.00</td>\n",
       "      <td>$228.92</td>\n",
       "      <td>109.460874</td>\n",
       "      <td>1.094609e+01</td>\n",
       "    </tr>\n",
       "    <tr>\n",
       "      <th>2</th>\n",
       "      <td>21981703</td>\n",
       "      <td>$12.00</td>\n",
       "      <td>$123.16</td>\n",
       "      <td>$12.00</td>\n",
       "      <td>$234.32</td>\n",
       "      <td>111.160976</td>\n",
       "      <td>9.263415e+00</td>\n",
       "    </tr>\n",
       "    <tr>\n",
       "      <th>3</th>\n",
       "      <td>36280646</td>\n",
       "      <td>$16.00</td>\n",
       "      <td>$110.72</td>\n",
       "      <td>$16.00</td>\n",
       "      <td>$205.45</td>\n",
       "      <td>94.724447</td>\n",
       "      <td>5.920278e+00</td>\n",
       "    </tr>\n",
       "    <tr>\n",
       "      <th>4</th>\n",
       "      <td>35612982</td>\n",
       "      <td>$12.00</td>\n",
       "      <td>$69.62</td>\n",
       "      <td>$12.00</td>\n",
       "      <td>$127.25</td>\n",
       "      <td>57.623032</td>\n",
       "      <td>4.801919e+00</td>\n",
       "    </tr>\n",
       "    <tr>\n",
       "      <th>5</th>\n",
       "      <td>35965985</td>\n",
       "      <td>$44.00</td>\n",
       "      <td>$243.17</td>\n",
       "      <td>$44.00</td>\n",
       "      <td>$442.34</td>\n",
       "      <td>199.169415</td>\n",
       "      <td>4.526578e+00</td>\n",
       "    </tr>\n",
       "    <tr>\n",
       "      <th>6</th>\n",
       "      <td>35642891</td>\n",
       "      <td>$10.00</td>\n",
       "      <td>$54.07</td>\n",
       "      <td>$10.00</td>\n",
       "      <td>$98.14</td>\n",
       "      <td>44.071554</td>\n",
       "      <td>4.407155e+00</td>\n",
       "    </tr>\n",
       "    <tr>\n",
       "      <th>7</th>\n",
       "      <td>23597323</td>\n",
       "      <td>$57.00</td>\n",
       "      <td>$267.59</td>\n",
       "      <td>$57.00</td>\n",
       "      <td>$478.18</td>\n",
       "      <td>210.590538</td>\n",
       "      <td>3.694571e+00</td>\n",
       "    </tr>\n",
       "    <tr>\n",
       "      <th>8</th>\n",
       "      <td>22229244</td>\n",
       "      <td>$20.00</td>\n",
       "      <td>$82.57</td>\n",
       "      <td>$20.00</td>\n",
       "      <td>$145.15</td>\n",
       "      <td>62.573107</td>\n",
       "      <td>3.128655e+00</td>\n",
       "    </tr>\n",
       "    <tr>\n",
       "      <th>9</th>\n",
       "      <td>25669472</td>\n",
       "      <td>$25.00</td>\n",
       "      <td>$93.64</td>\n",
       "      <td>$25.00</td>\n",
       "      <td>$162.28</td>\n",
       "      <td>68.642457</td>\n",
       "      <td>2.745698e+00</td>\n",
       "    </tr>\n",
       "  </tbody>\n",
       "</table>\n",
       "</div>"
      ],
      "text/plain": [
       "         id   price predictions worst_scenario best_scenario         MAE  \\\n",
       "0  21304320   $0.00      $30.12          $0.00        $60.24   30.120966   \n",
       "1  25839759  $10.00     $119.46         $10.00       $228.92  109.460874   \n",
       "2  21981703  $12.00     $123.16         $12.00       $234.32  111.160976   \n",
       "3  36280646  $16.00     $110.72         $16.00       $205.45   94.724447   \n",
       "4  35612982  $12.00      $69.62         $12.00       $127.25   57.623032   \n",
       "5  35965985  $44.00     $243.17         $44.00       $442.34  199.169415   \n",
       "6  35642891  $10.00      $54.07         $10.00        $98.14   44.071554   \n",
       "7  23597323  $57.00     $267.59         $57.00       $478.18  210.590538   \n",
       "8  22229244  $20.00      $82.57         $20.00       $145.15   62.573107   \n",
       "9  25669472  $25.00      $93.64         $25.00       $162.28   68.642457   \n",
       "\n",
       "           MAPE  \n",
       "0  1.356528e+17  \n",
       "1  1.094609e+01  \n",
       "2  9.263415e+00  \n",
       "3  5.920278e+00  \n",
       "4  4.801919e+00  \n",
       "5  4.526578e+00  \n",
       "6  4.407155e+00  \n",
       "7  3.694571e+00  \n",
       "8  3.128655e+00  \n",
       "9  2.745698e+00  "
      ]
     },
     "execution_count": 190,
     "metadata": {},
     "output_type": "execute_result"
    }
   ],
   "source": [
    "# top 10 worse predictions\n",
    "df92.sort_values('MAPE',ascending=False).head(10).reset_index(drop=True)"
   ]
  },
  {
   "cell_type": "code",
   "execution_count": 191,
   "id": "71bdb6bc-94d9-4038-ae09-0ceba7e09ea9",
   "metadata": {
    "execution": {
     "iopub.execute_input": "2024-02-26T16:35:45.742052Z",
     "iopub.status.busy": "2024-02-26T16:35:45.740465Z",
     "iopub.status.idle": "2024-02-26T16:35:46.236737Z",
     "shell.execute_reply": "2024-02-26T16:35:46.235177Z",
     "shell.execute_reply.started": "2024-02-26T16:35:45.741878Z"
    }
   },
   "outputs": [
    {
     "data": {
      "image/png": "[encoded data removed]",
      "text/plain": [
       "<Figure size 1300x600 with 1 Axes>"
      ]
     },
     "metadata": {},
     "output_type": "display_data"
    }
   ],
   "source": [
    "aux=df92.drop(df92[df92['id'] == 21304320].index, axis=0)\n",
    "\n",
    "# px.scatter(aux,x='id',y='MAPE',height=500)\n",
    "\n",
    "plt.figure(figsize=(13, 6))  \n",
    "sns.scatterplot(x='id', y='MAPE', data=aux)\n",
    "plt.title('Scatter Plot de MAPE por ID')\n",
    "plt.show()"
   ]
  },
  {
   "cell_type": "markdown",
   "id": "1ff47056-fa7d-44c5-b6f0-c9363541daf8",
   "metadata": {},
   "source": [
    "## **9.2 Total performance**"
   ]
  },
  {
   "cell_type": "code",
   "execution_count": 192,
   "id": "6a7297c5-d0f7-4add-9bf0-67cb7434cded",
   "metadata": {
    "execution": {
     "iopub.execute_input": "2024-02-26T16:35:52.760073Z",
     "iopub.status.busy": "2024-02-26T16:35:52.759007Z",
     "iopub.status.idle": "2024-02-26T16:35:52.805963Z",
     "shell.execute_reply": "2024-02-26T16:35:52.804665Z",
     "shell.execute_reply.started": "2024-02-26T16:35:52.760032Z"
    }
   },
   "outputs": [
    {
     "name": "stdout",
     "output_type": "stream",
     "text": [
      "MAE médio de aluguéis até $100 : 19.46\n",
      "MAE médio de aluguéis entre $101 a $300 : 43.39\n",
      "MAE médio de aluguéis entre $301 a $500 : 170.38\n",
      "MAE médio de aluguéis acima de $500 : 660.46\n"
     ]
    }
   ],
   "source": [
    "df92[['price','predictions','worst_scenario','best_scenario']] = (df92[['price','predictions','worst_scenario','best_scenario']]\n",
    "                                                                    .replace('[\\$,]', '', regex=True).astype(float))\n",
    "\n",
    "aux1=df92[df92['price']<=100]\n",
    "aux2=df92[(df92['price']>100) & (df92['price']<=300)]\n",
    "aux3=df92[(df92['price']>300) & (df92['price']<=500)]\n",
    "aux4=df92[df92['price']>=500]\n",
    "\n",
    "print(f'MAE médio de aluguéis até $100 : {round(aux1[\"MAE\"].mean(),2)}')\n",
    "print(f'MAE médio de aluguéis entre $101 a $300 : {round(aux2[\"MAE\"].mean(),2)}')\n",
    "print(f'MAE médio de aluguéis entre $301 a $500 : {round(aux3[\"MAE\"].mean(),2)}')\n",
    "print(f'MAE médio de aluguéis acima de $500 : {round(aux4[\"MAE\"].mean(),2)}')"
   ]
  },
  {
   "cell_type": "code",
   "execution_count": 193,
   "id": "57ff91c5-d616-48be-a517-1a4106076966",
   "metadata": {
    "execution": {
     "iopub.execute_input": "2024-02-26T16:35:59.515412Z",
     "iopub.status.busy": "2024-02-26T16:35:59.514439Z",
     "iopub.status.idle": "2024-02-26T16:35:59.536823Z",
     "shell.execute_reply": "2024-02-26T16:35:59.535042Z",
     "shell.execute_reply.started": "2024-02-26T16:35:59.515350Z"
    }
   },
   "outputs": [
    {
     "data": {
      "text/html": [
       "<div>\n",
       "<style scoped>\n",
       "    .dataframe tbody tr th:only-of-type {\n",
       "        vertical-align: middle;\n",
       "    }\n",
       "\n",
       "    .dataframe tbody tr th {\n",
       "        vertical-align: top;\n",
       "    }\n",
       "\n",
       "    .dataframe thead th {\n",
       "        text-align: right;\n",
       "    }\n",
       "</style>\n",
       "<table border=\"1\" class=\"dataframe\">\n",
       "  <thead>\n",
       "    <tr style=\"text-align: right;\">\n",
       "      <th></th>\n",
       "      <th>Scenario</th>\n",
       "      <th>Values</th>\n",
       "    </tr>\n",
       "  </thead>\n",
       "  <tbody>\n",
       "    <tr>\n",
       "      <th>0</th>\n",
       "      <td>price</td>\n",
       "      <td>$725,918.00</td>\n",
       "    </tr>\n",
       "    <tr>\n",
       "      <th>1</th>\n",
       "      <td>predictions</td>\n",
       "      <td>$615,766.66</td>\n",
       "    </tr>\n",
       "    <tr>\n",
       "      <th>2</th>\n",
       "      <td>worst_scenario</td>\n",
       "      <td>$363,185.25</td>\n",
       "    </tr>\n",
       "    <tr>\n",
       "      <th>3</th>\n",
       "      <td>best_scenario</td>\n",
       "      <td>$868,349.04</td>\n",
       "    </tr>\n",
       "  </tbody>\n",
       "</table>\n",
       "</div>"
      ],
      "text/plain": [
       "         Scenario       Values\n",
       "0           price  $725,918.00\n",
       "1     predictions  $615,766.66\n",
       "2  worst_scenario  $363,185.25\n",
       "3   best_scenario  $868,349.04"
      ]
     },
     "execution_count": 193,
     "metadata": {},
     "output_type": "execute_result"
    }
   ],
   "source": [
    "df93=(df92[['price','predictions','worst_scenario','best_scenario']].apply(lambda x: np.sum (x),axis=0)\n",
    "                                                                    .reset_index()\n",
    "                                                                    .rename(columns={'index':'Scenario',0:'Values'}))\n",
    "df93['Values']=df93['Values'].map('${:,.2f}'.format)\n",
    "df93"
   ]
  },
  {
   "cell_type": "markdown",
   "id": "37b4afad-e708-4e8f-9074-0797193a7a1a",
   "metadata": {},
   "source": [
    "## **9.3 Machine learning performance**"
   ]
  },
  {
   "cell_type": "code",
   "execution_count": 194,
   "id": "56b764a6-1772-4731-9fff-a26782b43a4c",
   "metadata": {
    "execution": {
     "iopub.execute_input": "2024-02-26T16:36:05.450516Z",
     "iopub.status.busy": "2024-02-26T16:36:05.449227Z",
     "iopub.status.idle": "2024-02-26T16:36:05.464410Z",
     "shell.execute_reply": "2024-02-26T16:36:05.461454Z",
     "shell.execute_reply.started": "2024-02-26T16:36:05.450443Z"
    }
   },
   "outputs": [],
   "source": [
    "df9['error']=df9['price']-df9['predictions']"
   ]
  },
  {
   "cell_type": "code",
   "execution_count": 195,
   "id": "9652041f-bcc8-44bb-a08e-515ea2517dc8",
   "metadata": {
    "execution": {
     "iopub.execute_input": "2024-02-26T16:36:06.182638Z",
     "iopub.status.busy": "2024-02-26T16:36:06.181456Z",
     "iopub.status.idle": "2024-02-26T16:36:07.323508Z",
     "shell.execute_reply": "2024-02-26T16:36:07.321953Z",
     "shell.execute_reply.started": "2024-02-26T16:36:06.182519Z"
    }
   },
   "outputs": [
    {
     "data": {
      "image/png": "[encoded data removed]",
      "text/plain": [
       "<Figure size 1300x400 with 2 Axes>"
      ]
     },
     "metadata": {},
     "output_type": "display_data"
    }
   ],
   "source": [
    "fig, axs = plt.subplots(1, 2, figsize=(13, 4))\n",
    "\n",
    "sns.histplot(df9['error'], bins=30, color='blue', ax=axs[0])\n",
    "axs[0].set_title('Histograma de Erro')\n",
    "axs[0].set_xlabel('Erro')\n",
    "axs[0].set_ylabel('Contagem')\n",
    "\n",
    "sns.scatterplot(x='predictions', y='error', data=df9, color='green', ax=axs[1])\n",
    "axs[1].set_title('Gráfico de Dispersão de Erro')\n",
    "axs[1].set_xlabel('Predições')\n",
    "axs[1].set_ylabel('Erro')\n",
    "\n",
    "plt.tight_layout()\n",
    "plt.show()"
   ]
  },
  {
   "cell_type": "markdown",
   "id": "67919e67-edef-4d10-94a1-3fb201f49455",
   "metadata": {
    "jp-MarkdownHeadingCollapsed": true
   },
   "source": [
    "# **10 Entregas**"
   ]
  },
  {
   "cell_type": "markdown",
   "id": "37d6dfcd-f33d-4f42-9d66-9672848900c0",
   "metadata": {},
   "source": [
    "**Entregas completas ver notebook look_4.0-ear-hp_tuning-error_analysis.ipynb**"
   ]
  },
  {
   "cell_type": "markdown",
   "id": "ecdff65d-5d24-4763-9210-bf18856bbaf2",
   "metadata": {},
   "source": [
    "### a) Supondo que uma pessoa esteja pensando em investir em um apartamento para alugar na plataforma, \n",
    "### onde seria mais indicada a compra?"
   ]
  },
  {
   "cell_type": "markdown",
   "id": "893cca27-7692-41f8-b065-2be34c2fdf93",
   "metadata": {},
   "source": [
    "Pensando na compra de um apartamento, seria no bairro_group Bronx, porque, segundo pesquisas, é o local mais acessível de Nova York    \n",
    "para se comprar um apartamento, e tentando maximizar o lucro, um apartamento cujo preço de aluguel está acima do 2° quartil (maior que 50% dos preços).  \n",
    "\n",
    "É necessário também escolher um apartamento cujo número de reviews esteja acima da média, o que sinaliza um local facilmente alugado.\n",
    "\n",
    "Para aumentar a acurácia desse recomendação, seria necessário analisar os valores de compra dos apartamentos."
   ]
  },
  {
   "cell_type": "code",
   "execution_count": 109,
   "id": "4456590c-9bd6-4183-91a7-b3da223ca9e0",
   "metadata": {
    "execution": {
     "iopub.execute_input": "2024-02-22T12:21:10.911539Z",
     "iopub.status.busy": "2024-02-22T12:21:10.911090Z",
     "iopub.status.idle": "2024-02-22T12:21:10.947856Z",
     "shell.execute_reply": "2024-02-22T12:21:10.944156Z",
     "shell.execute_reply.started": "2024-02-22T12:21:10.911500Z"
    }
   },
   "outputs": [
    {
     "data": {
      "text/html": [
       "<div>\n",
       "<style scoped>\n",
       "    .dataframe tbody tr th:only-of-type {\n",
       "        vertical-align: middle;\n",
       "    }\n",
       "\n",
       "    .dataframe tbody tr th {\n",
       "        vertical-align: top;\n",
       "    }\n",
       "\n",
       "    .dataframe thead th {\n",
       "        text-align: right;\n",
       "    }\n",
       "</style>\n",
       "<table border=\"1\" class=\"dataframe\">\n",
       "  <thead>\n",
       "    <tr style=\"text-align: right;\">\n",
       "      <th></th>\n",
       "      <th>nome</th>\n",
       "      <th>bairro</th>\n",
       "      <th>room_type</th>\n",
       "      <th>price</th>\n",
       "      <th>numero_de_reviews</th>\n",
       "    </tr>\n",
       "  </thead>\n",
       "  <tbody>\n",
       "    <tr>\n",
       "      <th>0</th>\n",
       "      <td>Cozy Sun Drenched Full Apt.  30 mins from City</td>\n",
       "      <td>East Morrisania</td>\n",
       "      <td>Entire home/apt</td>\n",
       "      <td>200</td>\n",
       "      <td>26</td>\n",
       "    </tr>\n",
       "    <tr>\n",
       "      <th>1</th>\n",
       "      <td>Sunny, enormous apt, historic bldg</td>\n",
       "      <td>Melrose</td>\n",
       "      <td>Entire home/apt</td>\n",
       "      <td>150</td>\n",
       "      <td>58</td>\n",
       "    </tr>\n",
       "    <tr>\n",
       "      <th>2</th>\n",
       "      <td>1st Floor Cozy 1Br Apt. Near YANKEE STADIUM</td>\n",
       "      <td>Morrisania</td>\n",
       "      <td>Entire home/apt</td>\n",
       "      <td>150</td>\n",
       "      <td>26</td>\n",
       "    </tr>\n",
       "    <tr>\n",
       "      <th>3</th>\n",
       "      <td>Cozy Bronx Apt</td>\n",
       "      <td>Tremont</td>\n",
       "      <td>Entire home/apt</td>\n",
       "      <td>150</td>\n",
       "      <td>43</td>\n",
       "    </tr>\n",
       "    <tr>\n",
       "      <th>4</th>\n",
       "      <td>It is a two bedroom apartment</td>\n",
       "      <td>Concourse</td>\n",
       "      <td>Entire home/apt</td>\n",
       "      <td>150</td>\n",
       "      <td>84</td>\n",
       "    </tr>\n",
       "    <tr>\n",
       "      <th>5</th>\n",
       "      <td>Well located apartment near NY City</td>\n",
       "      <td>Riverdale</td>\n",
       "      <td>Entire home/apt</td>\n",
       "      <td>150</td>\n",
       "      <td>79</td>\n",
       "    </tr>\n",
       "    <tr>\n",
       "      <th>6</th>\n",
       "      <td>Large Private House Apartment Near Yankee Stadium</td>\n",
       "      <td>Concourse Village</td>\n",
       "      <td>Entire home/apt</td>\n",
       "      <td>140</td>\n",
       "      <td>106</td>\n",
       "    </tr>\n",
       "    <tr>\n",
       "      <th>7</th>\n",
       "      <td>HUGE Sundrenching Apartment Waiting Just For YOU!</td>\n",
       "      <td>Parkchester</td>\n",
       "      <td>Entire home/apt</td>\n",
       "      <td>139</td>\n",
       "      <td>30</td>\n",
       "    </tr>\n",
       "    <tr>\n",
       "      <th>8</th>\n",
       "      <td>Private Apt 2BR/1Bath/Kitchen/Parking in OUR HOME</td>\n",
       "      <td>Mott Haven</td>\n",
       "      <td>Entire home/apt</td>\n",
       "      <td>132</td>\n",
       "      <td>44</td>\n",
       "    </tr>\n",
       "    <tr>\n",
       "      <th>9</th>\n",
       "      <td>Modern 3BR Brownstone Apartment</td>\n",
       "      <td>Mount Hope</td>\n",
       "      <td>Entire home/apt</td>\n",
       "      <td>125</td>\n",
       "      <td>41</td>\n",
       "    </tr>\n",
       "  </tbody>\n",
       "</table>\n",
       "</div>"
      ],
      "text/plain": [
       "                                                nome             bairro  \\\n",
       "0     Cozy Sun Drenched Full Apt.  30 mins from City    East Morrisania   \n",
       "1                 Sunny, enormous apt, historic bldg            Melrose   \n",
       "2        1st Floor Cozy 1Br Apt. Near YANKEE STADIUM         Morrisania   \n",
       "3                                     Cozy Bronx Apt            Tremont   \n",
       "4                      It is a two bedroom apartment          Concourse   \n",
       "5                Well located apartment near NY City          Riverdale   \n",
       "6  Large Private House Apartment Near Yankee Stadium  Concourse Village   \n",
       "7  HUGE Sundrenching Apartment Waiting Just For YOU!        Parkchester   \n",
       "8  Private Apt 2BR/1Bath/Kitchen/Parking in OUR HOME         Mott Haven   \n",
       "9                    Modern 3BR Brownstone Apartment         Mount Hope   \n",
       "\n",
       "         room_type  price  numero_de_reviews  \n",
       "0  Entire home/apt    200                 26  \n",
       "1  Entire home/apt    150                 58  \n",
       "2  Entire home/apt    150                 26  \n",
       "3  Entire home/apt    150                 43  \n",
       "4  Entire home/apt    150                 84  \n",
       "5  Entire home/apt    150                 79  \n",
       "6  Entire home/apt    140                106  \n",
       "7  Entire home/apt    139                 30  \n",
       "8  Entire home/apt    132                 44  \n",
       "9  Entire home/apt    125                 41  "
      ]
     },
     "execution_count": 109,
     "metadata": {},
     "output_type": "execute_result"
    }
   ],
   "source": [
    "# somente no Bronx e número de reviews superior à média geral\n",
    "aux=df4[(df4['bairro_group']=='Bronx') & (df4['price']>106) & (df4['numero_de_reviews']>23)]\n",
    "\n",
    "# filtrando apenas apartamentos\n",
    "keywords = ['Apartment', 'apartment', 'Apt', 'apt']\n",
    "filter = aux['nome'].str.contains('|'.join(keywords), case=False)\n",
    "aux = aux[filter]\n",
    "\n",
    "aux1=aux[['nome','bairro','room_type','price','numero_de_reviews']]\n",
    "aux1.sort_values('price',ascending=False).head(10).reset_index(drop=True)"
   ]
  },
  {
   "cell_type": "markdown",
   "id": "e9927e28-a734-49a8-8c66-7ee6331f3498",
   "metadata": {},
   "source": [
    "### b) O número mínimo de noites e a disponibilidade ao longo do ano interferem no preço?"
   ]
  },
  {
   "cell_type": "markdown",
   "id": "04a290d3-e9fd-46db-bcda-86101041ec3d",
   "metadata": {},
   "source": [
    "Segundo os resultados já mencionados na EDA, não parece haver uma relação considerável entre o mínimo de noites e a disponibilidade com o preço"
   ]
  },
  {
   "cell_type": "markdown",
   "id": "6f3ecc4f-066f-4f50-aad0-cc766062131b",
   "metadata": {},
   "source": [
    "### c) Existe algum padrão no texto do nome do local para lugares de mais alto valor?"
   ]
  },
  {
   "cell_type": "markdown",
   "id": "db5f515e-d084-4fd7-8685-4a0f96a25ac2",
   "metadata": {},
   "source": [
    "Sim, existem algumas palavras que se repetem quando se filtra os imóveis com os maiores aluguéis.\n",
    "\n",
    "Luxury - 5 vezes   \n",
    "Beautiful - 4 vezes  \n",
    "SuperBowl - 3 vezes   \n",
    "Private - 3 vezes   \n",
    "Townhouse - 3 vezes  \n",
    "Film - 3 vezes \n",
    "\n",
    "**As palavras foram contadas com a ajuda de uma IA com base numa lista dos 50 imóveis com os maiores preços**   \n",
    "(essas palavras não foram encontradas na lista dos 50 imóveis mais baratos, conforme análise da variável na Bivariate analysis)"
   ]
  },
  {
   "cell_type": "code",
   "execution_count": null,
   "id": "3a0aa76e-73f0-4690-8e06-3141e448b782",
   "metadata": {},
   "outputs": [],
   "source": []
  },
  {
   "cell_type": "code",
   "execution_count": null,
   "id": "895984bb-28b6-418e-b9f2-6053bcb2842e",
   "metadata": {},
   "outputs": [],
   "source": []
  }
 ],
 "metadata": {
  "kernelspec": {
   "display_name": "Python 3 (ipykernel)",
   "language": "python",
   "name": "python3"
  },
  "language_info": {
   "codemirror_mode": {
    "name": "ipython",
    "version": 3
   },
   "file_extension": ".py",
   "mimetype": "text/x-python",
   "name": "python",
   "nbconvert_exporter": "python",
   "pygments_lexer": "ipython3",
   "version": "3.10.4"
  }
 },
 "nbformat": 4,
 "nbformat_minor": 5
}
